{
 "cells": [
  {
   "cell_type": "code",
   "execution_count": 1,
   "id": "5f3dcff2-b234-46ec-8c36-55820e49723c",
   "metadata": {},
   "outputs": [],
   "source": [
    "import numpy as np"
   ]
  },
  {
   "cell_type": "code",
   "execution_count": 2,
   "id": "c343d2bc-fed0-4fbd-9ba8-f832353f6a04",
   "metadata": {},
   "outputs": [
    {
     "name": "stdout",
     "output_type": "stream",
     "text": [
      "[[    1 25000   300  1200    10]\n",
      " [    2 32000   450  1500    15]\n",
      " [    3 28000   380  1100     8]\n",
      " [    4 41000   500  1600    20]\n",
      " [    5 35000   420  1400    12]\n",
      " [    6 27000   360  1300     9]\n",
      " [    7 39000   480  1700    18]\n",
      " [    8 30000   400  1250    14]\n",
      " [    9 45000   550  1800    25]\n",
      " [   10 33000   410  1450    11]]\n"
     ]
    }
   ],
   "source": [
    "\n",
    "retail_data = np.array([[ 1, 25000, 300, 1200, 10],\n",
    "    [2, 32000, 450, 1500, 15],\n",
    "    [3, 28000, 380, 1100, 8],\n",
    "    [4, 41000, 500, 1600, 20],\n",
    "    [5, 35000, 420, 1400, 12],\n",
    "    [6, 27000, 360, 1300, 9],\n",
    "    [7, 39000, 480, 1700, 18],\n",
    "    [8, 30000, 400, 1250, 14],\n",
    "    [9, 45000, 550, 1800, 25],\n",
    "    [10, 33000, 410, 1450, 11]])\n",
    "\n",
    "print(retail_data)"
   ]
  },
  {
   "cell_type": "code",
   "execution_count": 3,
   "id": "cae88eee-71bb-437c-b4d2-2904cd994236",
   "metadata": {},
   "outputs": [
    {
     "data": {
      "text/plain": [
       "np.int64(142)"
      ]
     },
     "execution_count": 3,
     "metadata": {},
     "output_type": "execute_result"
    }
   ],
   "source": [
    "#1. What is the **total revenue** generated across all stores?\n",
    "retail_data[:,4].sum()"
   ]
  },
  {
   "cell_type": "code",
   "execution_count": 4,
   "id": "70cbb270-6adc-44a1-a907-a94dc35071db",
   "metadata": {},
   "outputs": [
    {
     "data": {
      "text/plain": [
       "np.int64(9)"
      ]
     },
     "execution_count": 4,
     "metadata": {},
     "output_type": "execute_result"
    }
   ],
   "source": [
    "#2. Which store recorded the **highest sales**?\n",
    "retail_data[:,1].argmax()+1"
   ]
  },
  {
   "cell_type": "code",
   "execution_count": 5,
   "id": "9b105f2a-cf2d-4f70-85ef-b1f2321fb2d0",
   "metadata": {},
   "outputs": [
    {
     "data": {
      "text/plain": [
       "np.int64(1)"
      ]
     },
     "execution_count": 5,
     "metadata": {},
     "output_type": "execute_result"
    }
   ],
   "source": [
    "#3. Which store recorded the **lowest sales**?\n",
    "retail_data[:,1].argmin()+1"
   ]
  },
  {
   "cell_type": "code",
   "execution_count": 6,
   "id": "77c3bdc4-52b2-4326-9594-9cddfe139e38",
   "metadata": {},
   "outputs": [
    {
     "data": {
      "text/plain": [
       "np.float64(33500.0)"
      ]
     },
     "execution_count": 6,
     "metadata": {},
     "output_type": "execute_result"
    }
   ],
   "source": [
    "#4. What is the **average daily sales** per store?\n",
    "retail_data[:,1].sum()/10"
   ]
  },
  {
   "cell_type": "code",
   "execution_count": 7,
   "id": "212ab485-9e6a-4a90-ac38-6d9cd9c6b41a",
   "metadata": {},
   "outputs": [
    {
     "data": {
      "text/plain": [
       "array([41000, 39000, 45000])"
      ]
     },
     "execution_count": 7,
     "metadata": {},
     "output_type": "execute_result"
    }
   ],
   "source": [
    "#5. How many stores achieved sales **above ₹35,000**?\n",
    "data = retail_data[:,1]\n",
    "data[data>35000]"
   ]
  },
  {
   "cell_type": "markdown",
   "id": "7f00a977-019e-4ba8-9617-49ce5cfae587",
   "metadata": {},
   "source": [
    "#### Customer Insights"
   ]
  },
  {
   "cell_type": "code",
   "execution_count": 8,
   "id": "90e50e47-420e-4d57-a223-e9da417398de",
   "metadata": {},
   "outputs": [
    {
     "data": {
      "text/plain": [
       "np.int64(1)"
      ]
     },
     "execution_count": 8,
     "metadata": {},
     "output_type": "execute_result"
    },
    {
     "data": {
      "text/plain": []
     },
     "metadata": {},
     "output_type": "display_data"
    }
   ],
   "source": [
    "6. Which store had the **highest customer footfall**?\n",
    "retail_data[:,2].argmin()+1"
   ]
  },
  {
   "cell_type": "code",
   "execution_count": 9,
   "id": "48ff6284-8f31-448b-a340-cb48a86671a0",
   "metadata": {},
   "outputs": [
    {
     "data": {
      "text/plain": [
       "np.float64(425.0)"
      ]
     },
     "execution_count": 9,
     "metadata": {},
     "output_type": "execute_result"
    }
   ],
   "source": [
    "#7. What is the **average number of customers** per store?\n",
    "retail_data[:,2].sum()/10"
   ]
  },
  {
   "cell_type": "code",
   "execution_count": 10,
   "id": "24762c2d-b8e5-467a-9213-5f7383b3c72a",
   "metadata": {},
   "outputs": [
    {
     "data": {
      "text/plain": [
       "array([500, 480, 550])"
      ]
     },
     "execution_count": 10,
     "metadata": {},
     "output_type": "execute_result"
    }
   ],
   "source": [
    "#8. How many stores have **more than 450 customers**?\n",
    "data = retail_data[:,2]\n",
    "data[data>450]"
   ]
  },
  {
   "cell_type": "code",
   "execution_count": 11,
   "id": "cbb183e0-f385-4f79-9e75-ec5196cc7860",
   "metadata": {},
   "outputs": [
    {
     "data": {
      "text/plain": [
       "np.int64(1)"
      ]
     },
     "execution_count": 11,
     "metadata": {},
     "output_type": "execute_result"
    }
   ],
   "source": [
    "#9. Which store has the **lowest customer count**?\n",
    "retail_data[:,2].argmin()+1"
   ]
  },
  {
   "cell_type": "code",
   "execution_count": 12,
   "id": "2ca8cfc4-b3e7-47ce-9198-c7620d070fc8",
   "metadata": {},
   "outputs": [
    {
     "data": {
      "text/plain": [
       "array([[    5, 35000,   420,  1400,    12]])"
      ]
     },
     "execution_count": 12,
     "metadata": {},
     "output_type": "execute_result"
    }
   ],
   "source": [
    "#10. Is there any store where **high sales do not correspond to high customers**?\n",
    "sal = retail_data[:,1].mean()\n",
    "cus = retail_data[:,2].mean()\n",
    "mis = retail_data[(retail_data[:,1]>sal)&(retail_data[:,2]<cus)]\n",
    "mis\n"
   ]
  },
  {
   "cell_type": "markdown",
   "id": "0d8b5d9b-d42f-43ae-8785-724c993aaa0a",
   "metadata": {},
   "source": [
    "###  Inventory & Returns Analysis"
   ]
  },
  {
   "cell_type": "code",
   "execution_count": 13,
   "id": "8d344fde-9d1a-4984-a1b5-c04aad7e2b9a",
   "metadata": {},
   "outputs": [
    {
     "data": {
      "text/plain": [
       "np.int64(14300)"
      ]
     },
     "execution_count": 13,
     "metadata": {},
     "output_type": "execute_result"
    }
   ],
   "source": [
    "#11. What is the **total inventory** across all stores?\n",
    "retail_data[:,3].sum()"
   ]
  },
  {
   "cell_type": "code",
   "execution_count": 14,
   "id": "3bc07281-959f-4c36-8825-8c05de5e76fa",
   "metadata": {},
   "outputs": [
    {
     "data": {
      "text/plain": [
       "np.int64(9)"
      ]
     },
     "execution_count": 14,
     "metadata": {},
     "output_type": "execute_result"
    }
   ],
   "source": [
    "#12. Which store has the **highest inventory stock**?\n",
    "retail_data[:,3].argmax()+1"
   ]
  },
  {
   "cell_type": "code",
   "execution_count": 15,
   "id": "9a722ab0-1ec5-45bf-a1ca-814dcaa8694c",
   "metadata": {},
   "outputs": [
    {
     "data": {
      "text/plain": [
       "array([1200, 1100, 1250])"
      ]
     },
     "execution_count": 15,
     "metadata": {},
     "output_type": "execute_result"
    }
   ],
   "source": [
    "#13. How many stores have **inventory less than 1300 units**?\n",
    "data = retail_data[:,3]\n",
    "data[data<1300]"
   ]
  },
  {
   "cell_type": "code",
   "execution_count": 16,
   "id": "8ed1ff79-4c5d-4b91-9101-3a75a5a0b2eb",
   "metadata": {},
   "outputs": [
    {
     "data": {
      "text/plain": [
       "array([2.25 , 2.875, 2.   , 3.5  , 2.5  , 2.125, 3.25 , 2.75 , 4.125,\n",
       "       2.375])"
      ]
     },
     "execution_count": 16,
     "metadata": {},
     "output_type": "execute_result"
    }
   ],
   "source": [
    "#14. Which store has the **highest return rate** (returns ÷ inventory)?\n",
    "data = retail_data[:,4]/retail_data[:,3].argmax()+1\n",
    "data"
   ]
  },
  {
   "cell_type": "code",
   "execution_count": 17,
   "id": "dfab98c4-df23-40f4-9260-d3cc10304f53",
   "metadata": {},
   "outputs": [
    {
     "data": {
      "text/plain": [
       "array([[    4, 41000,   500,  1600,    20],\n",
       "       [    7, 39000,   480,  1700,    18],\n",
       "       [    9, 45000,   550,  1800,    25]])"
      ]
     },
     "execution_count": 17,
     "metadata": {},
     "output_type": "execute_result"
    }
   ],
   "source": [
    "#15. Which stores have **returns greater than 15 units**?\n",
    "data = retail_data[retail_data[:,4]>15]\n",
    "data"
   ]
  },
  {
   "cell_type": "markdown",
   "id": "431ce083-aa11-432b-b736-d0eda378fe77",
   "metadata": {},
   "source": [
    "#### Sales & Customer Correlation"
   ]
  },
  {
   "cell_type": "code",
   "execution_count": 18,
   "id": "952708ee-09cf-4646-940e-faf8ecb4c4fa",
   "metadata": {},
   "outputs": [],
   "source": [
    "#16. Is there a **positive correlation** between sales and customers?"
   ]
  },
  {
   "cell_type": "code",
   "execution_count": 19,
   "id": "7650f815-0487-44fc-90ba-21bbf0211c4d",
   "metadata": {},
   "outputs": [
    {
     "data": {
      "text/plain": [
       "array([[    2, 32000,   450,  1500,    15]])"
      ]
     },
     "execution_count": 19,
     "metadata": {},
     "output_type": "execute_result"
    }
   ],
   "source": [
    "#17. Which store has **high customer visits but low sales**?\n",
    "cus = retail_data[:,2].mean()\n",
    "sal = retail_data[:,1].mean()\n",
    "data = retail_data[(retail_data[:,2]>cus)&(retail_data[:,1]<sal)]\n",
    "data\n"
   ]
  },
  {
   "cell_type": "code",
   "execution_count": 20,
   "id": "a0694d8b-d14d-4c19-a73c-8e0db6604187",
   "metadata": {},
   "outputs": [
    {
     "data": {
      "text/plain": [
       "array([[    5, 35000,   420,  1400,    12]])"
      ]
     },
     "execution_count": 20,
     "metadata": {},
     "output_type": "execute_result"
    },
    {
     "data": {
      "text/plain": []
     },
     "metadata": {},
     "output_type": "display_data"
    }
   ],
   "source": [
    "18. Which store has **low customers but high sales**?\n",
    "cus = retail_data[:,2].mean()\n",
    "sal = retail_data[:,1].mean()\n",
    "data = retail_data[(retail_data[:,2]<cus)&(retail_data[:,1]>sal)]\n",
    "data"
   ]
  },
  {
   "cell_type": "code",
   "execution_count": 21,
   "id": "dd2d70a2-016d-481f-a4ec-290a40be39ff",
   "metadata": {},
   "outputs": [
    {
     "data": {
      "text/plain": [
       "np.int64(0)"
      ]
     },
     "execution_count": 21,
     "metadata": {},
     "output_type": "execute_result"
    }
   ],
   "source": [
    "#19. How many stores have **sales per customer above ₹90**?\n",
    "customer = retail_data[:,1] / retail_data[:,2]\n",
    "new = np.sum(customer>90)\n",
    "new"
   ]
  },
  {
   "cell_type": "code",
   "execution_count": 22,
   "id": "f3d44dbd-2386-4504-af75-fcf27594aa0c",
   "metadata": {},
   "outputs": [],
   "source": [
    "#20. Which stores could **benefit from customer acquisition campaigns** (low customers, high inventory)?\n"
   ]
  },
  {
   "cell_type": "markdown",
   "id": "2b13adea-c559-4734-a27d-9fa102518b0d",
   "metadata": {},
   "source": [
    "#### Profitability & Growth"
   ]
  },
  {
   "cell_type": "code",
   "execution_count": 23,
   "id": "c2706b09-4fe5-4370-b510-a1db342e0167",
   "metadata": {},
   "outputs": [
    {
     "data": {
      "text/plain": [
       "array([5000., 6400., 5600., 8200., 7000., 5400., 7800., 6000., 9000.,\n",
       "       6600.])"
      ]
     },
     "execution_count": 23,
     "metadata": {},
     "output_type": "execute_result"
    }
   ],
   "source": [
    "#21. If profit margin is **20% of sales**, what is the **profit per store**?\n",
    "data = 0.20 * retail_data[:,1]\n",
    "data\n"
   ]
  },
  {
   "cell_type": "code",
   "execution_count": 27,
   "id": "9553eb6e-2f5e-4762-a97b-a76672bc10c2",
   "metadata": {},
   "outputs": [
    {
     "data": {
      "text/plain": [
       "np.int64(9)"
      ]
     },
     "execution_count": 27,
     "metadata": {},
     "output_type": "execute_result"
    }
   ],
   "source": [
    "#22. Which store has the **highest profit**?\n",
    "(retail_data[:,1]*0.20).argmax()+1"
   ]
  },
  {
   "cell_type": "code",
   "execution_count": 28,
   "id": "8ca1c428-e576-4b38-9475-6bb14b7d2db3",
   "metadata": {},
   "outputs": [
    {
     "data": {
      "text/plain": [
       "np.int64(1)"
      ]
     },
     "execution_count": 28,
     "metadata": {},
     "output_type": "execute_result"
    }
   ],
   "source": [
    "#23. Which store has the **lowest profit**?\n",
    "(retail_data[:,1]*0.20).argmin()+1"
   ]
  },
  {
   "cell_type": "code",
   "execution_count": 32,
   "id": "25e58653-43f2-480f-8571-0e372cf4a8ad",
   "metadata": {},
   "outputs": [
    {
     "data": {
      "text/plain": [
       "array([2500., 3200., 2800., 4100., 3500., 2700., 3900., 3000., 4500.,\n",
       "       3300.])"
      ]
     },
     "execution_count": 32,
     "metadata": {},
     "output_type": "execute_result"
    }
   ],
   "source": [
    "#24. If sales increase by **10% next month**, what are the **new sales figures**?\n",
    "(retail_data[:,1]*0.10) "
   ]
  },
  {
   "cell_type": "code",
   "execution_count": 33,
   "id": "46de0a06-ff81-4862-8da9-097d49b235ad",
   "metadata": {},
   "outputs": [
    {
     "data": {
      "text/plain": [
       "array([27500., 35200., 30800., 45100., 38500., 29700., 42900., 33000.,\n",
       "       49500., 36300.])"
      ]
     },
     "execution_count": 33,
     "metadata": {},
     "output_type": "execute_result"
    }
   ],
   "source": [
    "#25. How will **total profit** change with the 10% sales increase?\n",
    "(retail_data[:,1]*0.10) + retail_data[:,1]"
   ]
  },
  {
   "cell_type": "markdown",
   "id": "bdbc7613-8ac9-4fc5-8e52-9c7022ccf3c6",
   "metadata": {},
   "source": [
    "### Operational Strategy"
   ]
  },
  {
   "cell_type": "code",
   "execution_count": 42,
   "id": "72cdbec6-202d-4be4-956c-25133c353188",
   "metadata": {},
   "outputs": [
    {
     "data": {
      "text/plain": [
       "array([[    5, 35000,   420,  1400,    12]])"
      ]
     },
     "execution_count": 42,
     "metadata": {},
     "output_type": "execute_result"
    }
   ],
   "source": [
    "#26. Which stores need **inventory restocking** based on sales and current stock?\n",
    "sal = retail_data[:,1].mean()\n",
    "ret = retail_data[:,4].mean()\n",
    "data = retail_data[(retail_data[:,1]>sal) > (retail_data[:,4]>ret)]\n",
    "data"
   ]
  },
  {
   "cell_type": "code",
   "execution_count": 46,
   "id": "cdd6248b-aa60-4681-bc58-084acf5af2a8",
   "metadata": {},
   "outputs": [
    {
     "data": {
      "text/plain": [
       "array([[    2, 32000,   450,  1500,    15],\n",
       "       [    4, 41000,   500,  1600,    20],\n",
       "       [    7, 39000,   480,  1700,    18],\n",
       "       [    9, 45000,   550,  1800,    25]])"
      ]
     },
     "execution_count": 46,
     "metadata": {},
     "output_type": "execute_result"
    }
   ],
   "source": [
    "#27. Which stores show **high returns percentage** and might require **quality checks**?\n",
    "aver = retail_data[:,4].mean()\n",
    "res = retail_data[(retail_data[:,4] >aver)]\n",
    "res"
   ]
  },
  {
   "cell_type": "code",
   "execution_count": 51,
   "id": "e4a3aa8b-c9fb-473b-9df7-9260409ab7c2",
   "metadata": {},
   "outputs": [
    {
     "name": "stdout",
     "output_type": "stream",
     "text": [
      "Best performer overall: Store ID 9\n",
      "Sales: 45000, Customers: 550, Inventory: 25\n"
     ]
    }
   ],
   "source": [
    "#28. Which store is the **best performer overall** (sales, customers, inventor\n",
    "inventory_turnover = retail_data[:, 1] / retail_data[:, 4]\n",
    "\n",
    "sales_norm = (retail_data[:, 1] - retail_data[:, 1].min()) / (retail_data[:, 1].max() - retail_data[:, 1].min())\n",
    "customers_norm = (retail_data[:, 2] - retail_data[:, 2].min()) / (retail_data[:, 2].max() - retail_data[:, 2].min())\n",
    "turnover_norm = (inventory_turnover - inventory_turnover.min()) / (inventory_turnover.max() - inventory_turnover.min())\n",
    "\n",
    "# Composite score (equal weights)\n",
    "overall = sales_norm + customers_norm + turnover_norm\n",
    "\n",
    "# Find best performer\n",
    "best_index = np.argmax(overall)\n",
    "best_store = retail_data[best_index]\n",
    "\n",
    "print(f\"Best performer overall: Store ID {int(best_store[0])}\")\n",
    "print(f\"Sales: {best_store[1]}, Customers: {best_store[2]}, Inventory: {best_store[4]}\")"
   ]
  },
  {
   "cell_type": "code",
   "execution_count": 50,
   "id": "e95429fd-c7b5-4b1d-90c9-2fbe03a96745",
   "metadata": {},
   "outputs": [
    {
     "name": "stdout",
     "output_type": "stream",
     "text": [
      "Worst performer overall: Store ID 1\n",
      "Sales: 25000, Customers: 300, Inventory: 10\n"
     ]
    }
   ],
   "source": [
    "#29. Which store is the **worst performer overall**?\n",
    "inventory_turnover = retail_data[:, 1] / retail_data[:, 4]\n",
    "\n",
    "# Normalize metrics (min-max scaling)\n",
    "sales_norm = (retail_data[:, 1] - retail_data[:, 1].min()) / (retail_data[:, 1].max() - retail_data[:, 1].min())\n",
    "customers_norm = (retail_data[:, 2] - retail_data[:, 2].min()) / (retail_data[:, 2].max() - retail_data[:, 2].min())\n",
    "turnover_norm = (inventory_turnover - inventory_turnover.min()) / (inventory_turnover.max() - inventory_turnover.min())\n",
    "\n",
    "# Composite score (equal weights)\n",
    "overall_score = sales_norm + customers_norm + turnover_norm\n",
    "\n",
    "# Find worst performer\n",
    "worst_index = np.argmin(overall_score)\n",
    "worst_store = retail_data[worst_index]\n",
    "\n",
    "print(f\"Worst performer overall: Store ID {int(worst_store[0])}\")\n",
    "print(f\"Sales: {worst_store[1]}, Customers: {worst_store[2]}, Inventory: {worst_store[4]}\")"
   ]
  },
  {
   "cell_type": "code",
   "execution_count": 54,
   "id": "d902111b-a2e4-43e9-aaa8-ee658488e14a",
   "metadata": {},
   "outputs": [
    {
     "data": {
      "text/plain": [
       "array([[    4, 41000,   500,  1600,    20],\n",
       "       [    7, 39000,   480,  1700,    18],\n",
       "       [    9, 45000,   550,  1800,    25]])"
      ]
     },
     "execution_count": 54,
     "metadata": {},
     "output_type": "execute_result"
    }
   ],
   "source": [
    "#30. Which stores can be considered for **expansion** based on strong sales and customer metrics?\n",
    "\n",
    "sal = retail_data[:,1].mean()\n",
    "cus = retail_data[:,2].mean()\n",
    "data = retail_data[(retail_data[:,1]>sal)&(retail_data[:,2]>cus)]\n",
    "data\n"
   ]
  },
  {
   "cell_type": "code",
   "execution_count": null,
   "id": "e7d3e44f-d3c1-485e-bdf9-ec32a16b536f",
   "metadata": {},
   "outputs": [],
   "source": []
  },
  {
   "cell_type": "code",
   "execution_count": null,
   "id": "665d1d2d-ec71-47eb-a96c-7f275eb19bf4",
   "metadata": {},
   "outputs": [],
   "source": []
  }
 ],
 "metadata": {
  "kernelspec": {
   "display_name": "Python 3 (ipykernel)",
   "language": "python",
   "name": "python3"
  },
  "language_info": {
   "codemirror_mode": {
    "name": "ipython",
    "version": 3
   },
   "file_extension": ".py",
   "mimetype": "text/x-python",
   "name": "python",
   "nbconvert_exporter": "python",
   "pygments_lexer": "ipython3",
   "version": "3.13.5"
  }
 },
 "nbformat": 4,
 "nbformat_minor": 5
}
