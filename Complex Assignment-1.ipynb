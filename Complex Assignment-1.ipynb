{
 "cells": [
  {
   "cell_type": "code",
   "execution_count": 17,
   "id": "b5d39d0a",
   "metadata": {},
   "outputs": [],
   "source": [
    "import cmath"
   ]
  },
  {
   "cell_type": "code",
   "execution_count": 4,
   "id": "c2541b67",
   "metadata": {},
   "outputs": [
    {
     "data": {
      "text/plain": [
       "(5+3j)"
      ]
     },
     "execution_count": 4,
     "metadata": {},
     "output_type": "execute_result"
    }
   ],
   "source": [
    "# Question 1: Create complex number 5 + 3j\n",
    "a = 5 + 3j\n",
    "a"
   ]
  },
  {
   "cell_type": "code",
   "execution_count": 6,
   "id": "60d46f11",
   "metadata": {},
   "outputs": [
    {
     "data": {
      "text/plain": [
       "7.0"
      ]
     },
     "execution_count": 6,
     "metadata": {},
     "output_type": "execute_result"
    }
   ],
   "source": [
    "# Question 2: Find the real part of complex number 7 - 2j\n",
    "a = 7 - 2j\n",
    "a.real"
   ]
  },
  {
   "cell_type": "code",
   "execution_count": 7,
   "id": "d1bd75ff",
   "metadata": {},
   "outputs": [
    {
     "data": {
      "text/plain": [
       "6.0"
      ]
     },
     "execution_count": 7,
     "metadata": {},
     "output_type": "execute_result"
    }
   ],
   "source": [
    "# Question 3: Find the imaginary part of complex number 4 + 6j\n",
    "b = 4 + 6j\n",
    "b.imag"
   ]
  },
  {
   "cell_type": "code",
   "execution_count": 8,
   "id": "eb44168f",
   "metadata": {},
   "outputs": [
    {
     "data": {
      "text/plain": [
       "(4+6j)"
      ]
     },
     "execution_count": 8,
     "metadata": {},
     "output_type": "execute_result"
    }
   ],
   "source": [
    "# Question 4: Add two complex numbers: (3 + 2j) and (1 + 4j)\n",
    "a = (3 + 2j)\n",
    "b = (1 + 4j)\n",
    "a + b"
   ]
  },
  {
   "cell_type": "code",
   "execution_count": 9,
   "id": "acca51a6",
   "metadata": {},
   "outputs": [
    {
     "data": {
      "text/plain": [
       "(-4+7j)"
      ]
     },
     "execution_count": 9,
     "metadata": {},
     "output_type": "execute_result"
    }
   ],
   "source": [
    "# Question 5: Multiply two complex numbers: (2 + 3j) and (1 + 2j)\n",
    "x = (2 + 3j)\n",
    "y = (1 + 2j)\n",
    "x * y"
   ]
  },
  {
   "cell_type": "code",
   "execution_count": 10,
   "id": "6de5e3b0",
   "metadata": {},
   "outputs": [
    {
     "data": {
      "text/plain": [
       "10.0"
      ]
     },
     "execution_count": 10,
     "metadata": {},
     "output_type": "execute_result"
    }
   ],
   "source": [
    "# Question 6: Find the magnitude of complex number 6 + 8j\n",
    "p = 6 + 8j\n",
    "abs(p)"
   ]
  },
  {
   "cell_type": "code",
   "execution_count": 11,
   "id": "4acacd2a",
   "metadata": {},
   "outputs": [
    {
     "data": {
      "text/plain": [
       "(5+7j)"
      ]
     },
     "execution_count": 11,
     "metadata": {},
     "output_type": "execute_result"
    }
   ],
   "source": [
    "# Question 7: Find the conjugate of complex number 5 - 7j\n",
    "m = 5 - 7j\n",
    "m.conjugate()"
   ]
  },
  {
   "cell_type": "code",
   "execution_count": 12,
   "id": "26379b43",
   "metadata": {},
   "outputs": [
    {
     "data": {
      "text/plain": [
       "(7+3j)"
      ]
     },
     "execution_count": 12,
     "metadata": {},
     "output_type": "execute_result"
    }
   ],
   "source": [
    "# Question 8: Subtract complex numbers: (10 + 5j) - (3 + 2j)\n",
    "p = (10 + 5j) - (3 + 2j)\n",
    "p"
   ]
  },
  {
   "cell_type": "code",
   "execution_count": 15,
   "id": "f349c5e8",
   "metadata": {},
   "outputs": [
    {
     "data": {
      "text/plain": [
       "(4.4+0.8j)"
      ]
     },
     "execution_count": 15,
     "metadata": {},
     "output_type": "execute_result"
    }
   ],
   "source": [
    "# Question 9: Divide complex numbers: (8 + 6j) / (2 + 1j)\n",
    "g = (8 + 6j)\n",
    "h = (2 + 1j)\n",
    "g / h"
   ]
  },
  {
   "cell_type": "code",
   "execution_count": 18,
   "id": "53dcbd40",
   "metadata": {},
   "outputs": [
    {
     "data": {
      "text/plain": [
       "0.7853981633974483"
      ]
     },
     "execution_count": 18,
     "metadata": {},
     "output_type": "execute_result"
    }
   ],
   "source": [
    "# Question 10: Find the phase angle of complex number 1 + 1j\n",
    "z = 1 + 1j\n",
    "cmath.phase(z)"
   ]
  },
  {
   "cell_type": "code",
   "execution_count": null,
   "id": "4b8abb19",
   "metadata": {},
   "outputs": [],
   "source": []
  },
  {
   "cell_type": "code",
   "execution_count": null,
   "id": "c375cb0e",
   "metadata": {},
   "outputs": [],
   "source": []
  },
  {
   "cell_type": "code",
   "execution_count": null,
   "id": "0c1735e1",
   "metadata": {},
   "outputs": [],
   "source": []
  }
 ],
 "metadata": {
  "kernelspec": {
   "display_name": "Python 3 (ipykernel)",
   "language": "python",
   "name": "python3"
  },
  "language_info": {
   "codemirror_mode": {
    "name": "ipython",
    "version": 3
   },
   "file_extension": ".py",
   "mimetype": "text/x-python",
   "name": "python",
   "nbconvert_exporter": "python",
   "pygments_lexer": "ipython3",
   "version": "3.9.12"
  }
 },
 "nbformat": 4,
 "nbformat_minor": 5
}
