{
 "cells": [
  {
   "cell_type": "code",
   "execution_count": 84,
   "id": "b51c61a7",
   "metadata": {},
   "outputs": [],
   "source": [
    "import math"
   ]
  },
  {
   "cell_type": "code",
   "execution_count": 27,
   "id": "4d410bf6",
   "metadata": {},
   "outputs": [
    {
     "name": "stdout",
     "output_type": "stream",
     "text": [
      "Question 1: Calculate the product of first 10 natural numbers\n"
     ]
    }
   ],
   "source": [
    "print(\"Question 1: Calculate the product of first 10 natural numbers\")\n"
   ]
  },
  {
   "cell_type": "code",
   "execution_count": 34,
   "id": "7dff6e23",
   "metadata": {},
   "outputs": [
    {
     "name": "stdout",
     "output_type": "stream",
     "text": [
      "product of 10 natural numbers: 3628800\n"
     ]
    }
   ],
   "source": [
    "pro = 1\n",
    "for i in range(1, 11):  # from 1 to 10 \n",
    "    pro *= i\n",
    "print(\"product of 10 natural numbers:\", pro)"
   ]
  },
  {
   "cell_type": "code",
   "execution_count": 32,
   "id": "d926c0f4",
   "metadata": {},
   "outputs": [
    {
     "data": {
      "text/plain": [
       "2"
      ]
     },
     "execution_count": 32,
     "metadata": {},
     "output_type": "execute_result"
    }
   ],
   "source": [
    "# Question 2: Find the remainder when 156 is divided by 7\n",
    "156%7"
   ]
  },
  {
   "cell_type": "code",
   "execution_count": 33,
   "id": "581cae33",
   "metadata": {},
   "outputs": [
    {
     "data": {
      "text/plain": [
       "625"
      ]
     },
     "execution_count": 33,
     "metadata": {},
     "output_type": "execute_result"
    }
   ],
   "source": [
    "# Question 3: Calculate the square of 25\n",
    "25**2"
   ]
  },
  {
   "cell_type": "code",
   "execution_count": 36,
   "id": "0c337ef8",
   "metadata": {},
   "outputs": [
    {
     "data": {
      "text/plain": [
       "1953125"
      ]
     },
     "execution_count": 36,
     "metadata": {},
     "output_type": "execute_result"
    }
   ],
   "source": [
    "# Question 4: Find the cube root of 125\n",
    "125**3"
   ]
  },
  {
   "cell_type": "code",
   "execution_count": 46,
   "id": "74852574",
   "metadata": {},
   "outputs": [
    {
     "data": {
      "text/plain": [
       "15"
      ]
     },
     "execution_count": 46,
     "metadata": {},
     "output_type": "execute_result"
    }
   ],
   "source": [
    "# Question 5: Calculate the sum of digits in number 12345\n",
    "1+2+3+4+5"
   ]
  },
  {
   "cell_type": "code",
   "execution_count": null,
   "id": "9b006a72",
   "metadata": {},
   "outputs": [],
   "source": [
    "# Question 6: Check if 97 is a prime number\n"
   ]
  },
  {
   "cell_type": "code",
   "execution_count": 57,
   "id": "e82a9446",
   "metadata": {},
   "outputs": [
    {
     "name": "stdout",
     "output_type": "stream",
     "text": [
      "factorial of 8 is 40320\n"
     ]
    }
   ],
   "source": [
    "# Question 7: Find the factorial of 8\n",
    "fact = 1\n",
    "for i in range(1,9):\n",
    "    fact*=i\n",
    "print(\"factorial of 8 is\", fact)"
   ]
  },
  {
   "cell_type": "code",
   "execution_count": 58,
   "id": "3f7e9398",
   "metadata": {},
   "outputs": [
    {
     "name": "stdout",
     "output_type": "stream",
     "text": [
      "33.4\n"
     ]
    }
   ],
   "source": [
    "# Question 8: Calculate the average of numbers: 15, 23, 31, 42, 56\n",
    "num = [15, 23, 31, 42, 56]\n",
    "avera = sum(num) / 5\n",
    "print(avera)"
   ]
  },
  {
   "cell_type": "code",
   "execution_count": 87,
   "id": "f198f167",
   "metadata": {},
   "outputs": [
    {
     "data": {
      "text/plain": [
       "12"
      ]
     },
     "execution_count": 87,
     "metadata": {},
     "output_type": "execute_result"
    }
   ],
   "source": [
    "# Question 9: Find the greatest common divisor (GCD) of 48 and 36\n",
    "math.gcd(48,36)"
   ]
  },
  {
   "cell_type": "code",
   "execution_count": 80,
   "id": "e490f4f0",
   "metadata": {},
   "outputs": [
    {
     "name": "stdout",
     "output_type": "stream",
     "text": [
      "400\n"
     ]
    }
   ],
   "source": [
    "# Question 10: Calculate the sum of first 20 odd numbers\n",
    "total = 0\n",
    "for i in range(1,40,2):\n",
    "    total += i\n",
    "print(total)    "
   ]
  },
  {
   "cell_type": "code",
   "execution_count": null,
   "id": "da83d64c",
   "metadata": {},
   "outputs": [],
   "source": []
  },
  {
   "cell_type": "code",
   "execution_count": null,
   "id": "0d95e73c",
   "metadata": {},
   "outputs": [],
   "source": []
  },
  {
   "cell_type": "code",
   "execution_count": null,
   "id": "7b1d46de",
   "metadata": {},
   "outputs": [],
   "source": []
  },
  {
   "cell_type": "code",
   "execution_count": null,
   "id": "616263a1",
   "metadata": {},
   "outputs": [],
   "source": []
  },
  {
   "cell_type": "code",
   "execution_count": null,
   "id": "78699c19",
   "metadata": {},
   "outputs": [],
   "source": []
  },
  {
   "cell_type": "code",
   "execution_count": null,
   "id": "6bd50044",
   "metadata": {},
   "outputs": [],
   "source": []
  }
 ],
 "metadata": {
  "kernelspec": {
   "display_name": "Python 3 (ipykernel)",
   "language": "python",
   "name": "python3"
  },
  "language_info": {
   "codemirror_mode": {
    "name": "ipython",
    "version": 3
   },
   "file_extension": ".py",
   "mimetype": "text/x-python",
   "name": "python",
   "nbconvert_exporter": "python",
   "pygments_lexer": "ipython3",
   "version": "3.9.12"
  }
 },
 "nbformat": 4,
 "nbformat_minor": 5
}
