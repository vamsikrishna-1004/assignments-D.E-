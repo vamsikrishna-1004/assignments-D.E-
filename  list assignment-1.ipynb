{
  "nbformat": 4,
  "nbformat_minor": 0,
  "metadata": {
    "colab": {
      "provenance": []
    },
    "kernelspec": {
      "name": "python3",
      "display_name": "Python 3"
    },
    "language_info": {
      "name": "python"
    }
  },
  "cells": [
    {
      "cell_type": "code",
      "execution_count": null,
      "metadata": {
        "id": "4Pk86evpKW7h"
      },
      "outputs": [],
      "source": [
        "import math\n",
        "import numpy as np\n",
        "import re\n",
        "import string\n",
        "from collections import Counter\n",
        "import statistics"
      ]
    },
    {
      "cell_type": "code",
      "source": [
        "print(\"SOLVED EXAMPLE:\")\n",
        "print(\"Find the maximum and minimum values in a list\")\n",
        "numbers = [23, 45, 12, 67, 34, 89, 56]\n",
        "max_val = max(numbers)\n",
        "min_val = min(numbers)\n",
        "print(f\"List: {numbers}\")\n",
        "print(f\"Maximum: {max_val}\")\n",
        "print(f\"Minimum: {min_val}\")\n",
        "print(\"-\" * 50)"
      ],
      "metadata": {
        "colab": {
          "base_uri": "https://localhost:8080/"
        },
        "id": "gbxY8U5mKtF_",
        "outputId": "771303e2-d1bb-4fd9-ef25-9143c8e9b719"
      },
      "execution_count": null,
      "outputs": [
        {
          "output_type": "stream",
          "name": "stdout",
          "text": [
            "SOLVED EXAMPLE:\n",
            "Find the maximum and minimum values in a list\n",
            "List: [23, 45, 12, 67, 34, 89, 56]\n",
            "Maximum: 89\n",
            "Minimum: 12\n",
            "--------------------------------------------------\n"
          ]
        }
      ]
    },
    {
      "cell_type": "code",
      "source": [
        "#1\n",
        "x=[1,2,3,4,5,6,7,8,9,10]\n",
        "Squres=[x**2 for x in x]\n",
        "print(Squres)"
      ],
      "metadata": {
        "colab": {
          "base_uri": "https://localhost:8080/"
        },
        "id": "_-eB9j7ALEIF",
        "outputId": "bb0a7ab0-8bff-4a3a-fbb2-80ea14156504"
      },
      "execution_count": null,
      "outputs": [
        {
          "output_type": "stream",
          "name": "stdout",
          "text": [
            "[1, 4, 9, 16, 25, 36, 49, 64, 81, 100]\n"
          ]
        }
      ]
    },
    {
      "cell_type": "code",
      "source": [
        "#2\n",
        "s=[1, 2, 3, 4, 5, 6, 7, 8, 9, 10]\n",
        "def is_even(s):return s%2==0\n",
        "def is_odd(s):return s%2!=0\n",
        "even_sum=sum(filter(is_even,s))\n",
        "odd_sum=sum(filter(is_odd,s))\n",
        "print(even_sum)\n",
        "print(odd_sum)"
      ],
      "metadata": {
        "colab": {
          "base_uri": "https://localhost:8080/"
        },
        "id": "nhZErmhhOxhx",
        "outputId": "6e007f25-4cdb-41a9-b94b-e340824b12bc"
      },
      "execution_count": null,
      "outputs": [
        {
          "output_type": "stream",
          "name": "stdout",
          "text": [
            "30\n",
            "25\n"
          ]
        }
      ]
    },
    {
      "cell_type": "code",
      "source": [
        "#3\n",
        "x = [1, 2, 2, 3, 4, 4, 5, 6, 6, 7]\n",
        "unique_x1 = list(set(x))\n",
        "print(unique_x1)\n",
        "\n",
        "unique_x2 = list(dict.fromkeys(x))\n",
        "print(unique_x2)\n"
      ],
      "metadata": {
        "colab": {
          "base_uri": "https://localhost:8080/"
        },
        "id": "zd7w4BlEP70Z",
        "outputId": "b4eeb7dc-9e40-47be-ef67-d235f08dbcb1"
      },
      "execution_count": null,
      "outputs": [
        {
          "output_type": "stream",
          "name": "stdout",
          "text": [
            "[1, 2, 3, 4, 5, 6, 7]\n",
            "[1, 2, 3, 4, 5, 6, 7]\n"
          ]
        }
      ]
    },
    {
      "cell_type": "code",
      "source": [
        "#4\n",
        "list1=[64, 34, 25, 12, 22, 11, 90]\n",
        "#sort_de=sorted(list1,reverse=True)\n",
        "sort_de=sorted(list1)[::-1]\n",
        "print(sort_de)"
      ],
      "metadata": {
        "colab": {
          "base_uri": "https://localhost:8080/"
        },
        "id": "bPkDgBWEQrbA",
        "outputId": "a94fccae-9512-47db-8cdd-c388ff621f4d"
      },
      "execution_count": null,
      "outputs": [
        {
          "output_type": "stream",
          "name": "stdout",
          "text": [
            "[90, 64, 34, 25, 22, 12, 11]\n"
          ]
        }
      ]
    },
    {
      "cell_type": "code",
      "source": [
        "#5\n",
        "List=[15, 23, 31, 42, 56, 78, 91]\n",
        "avg=math.fsum(List)/len(List)\n",
        "print(avg)\n",
        "\n",
        "avg1=sum(List)/len(List)\n",
        "print(avg1)\n",
        "\n",
        "avg2=statistics.mean(List)\n",
        "print(avg2)"
      ],
      "metadata": {
        "colab": {
          "base_uri": "https://localhost:8080/"
        },
        "id": "KrgX4seLegtz",
        "outputId": "5fd3a894-bafa-4af7-a976-3a69b1a00661"
      },
      "execution_count": null,
      "outputs": [
        {
          "output_type": "stream",
          "name": "stdout",
          "text": [
            "48.0\n",
            "48.0\n",
            "48\n"
          ]
        }
      ]
    },
    {
      "cell_type": "code",
      "source": [
        "#6\n",
        "def fib(n):\n",
        "    if n == 0:\n",
        "        return 0\n",
        "    elif n == 1:\n",
        "        return 1\n",
        "    else:\n",
        "        return fib(n-1) + fib(n-2)\n",
        "fib_numbers = [fib(i) for i in range(10)]\n",
        "print(fib_numbers)"
      ],
      "metadata": {
        "colab": {
          "base_uri": "https://localhost:8080/"
        },
        "id": "jNWWjhdSflO9",
        "outputId": "08887979-0bee-49c9-89ef-b8042c7e1c49"
      },
      "execution_count": null,
      "outputs": [
        {
          "output_type": "stream",
          "name": "stdout",
          "text": [
            "[0, 1, 1, 2, 3, 5, 8, 13, 21, 34]\n"
          ]
        }
      ]
    },
    {
      "cell_type": "code",
      "source": [
        "#7\n",
        "List=[45,67,23,89,12,34,78]\n",
        "\n",
        "largest=max(List)\n",
        "print(largest)\n",
        "second_largest2=sorted(List)[-2]\n",
        "print(second_largest2)\n",
        "\n",
        "num=List.copy()\n",
        "num.remove(max(num))\n",
        "print(max(num))"
      ],
      "metadata": {
        "colab": {
          "base_uri": "https://localhost:8080/"
        },
        "id": "WHX9Vcu2f6Yq",
        "outputId": "5a31d7ee-bcf2-4ef2-d0a8-dec455a4a70f"
      },
      "execution_count": null,
      "outputs": [
        {
          "output_type": "stream",
          "name": "stdout",
          "text": [
            "89\n",
            "78\n",
            "78\n"
          ]
        }
      ]
    },
    {
      "cell_type": "code",
      "source": [
        "#8\n",
        "List=[1, 2, 3, 4, 5, 6, 7, 8, 9, 10]\n",
        "rev=List[::-1]\n",
        "print(rev)\n",
        "\n",
        "rev1=list(reversed(List))\n",
        "print(rev1)"
      ],
      "metadata": {
        "colab": {
          "base_uri": "https://localhost:8080/"
        },
        "id": "yFEw4kxAhkn1",
        "outputId": "9c7046bb-6f1b-4b94-da7d-3e5bc8ca0dfd"
      },
      "execution_count": null,
      "outputs": [
        {
          "output_type": "stream",
          "name": "stdout",
          "text": [
            "[10, 9, 8, 7, 6, 5, 4, 3, 2, 1]\n",
            "[10, 9, 8, 7, 6, 5, 4, 3, 2, 1]\n"
          ]
        }
      ]
    },
    {
      "cell_type": "code",
      "source": [
        "#9\n",
        "List= [1, 5, 2, 5, 3, 5, 4, 5, 6]\n",
        "Count_5=List.count(5)\n",
        "print(Count_5)"
      ],
      "metadata": {
        "colab": {
          "base_uri": "https://localhost:8080/"
        },
        "id": "hW3jvq9Uib5f",
        "outputId": "2d6b7f18-b677-4b42-b5fb-ba1d55b661c7"
      },
      "execution_count": null,
      "outputs": [
        {
          "output_type": "stream",
          "name": "stdout",
          "text": [
            "4\n"
          ]
        }
      ]
    },
    {
      "cell_type": "code",
      "source": [
        "#10"
      ],
      "metadata": {
        "id": "-HORKUjN3m_-"
      },
      "execution_count": null,
      "outputs": []
    },
    {
      "cell_type": "code",
      "source": [
        "#11\n",
        "List=[[1,2,3],[4,5,6],[7,8,9]]\n",
        "\n",
        "flat_list = [item for sublist in List for item in sublist]\n",
        "print(flat_list)\n",
        "\n",
        "flat_list1=sum(List,[])\n",
        "print(flat_list1)"
      ],
      "metadata": {
        "id": "NRIFoOQDixLJ",
        "colab": {
          "base_uri": "https://localhost:8080/"
        },
        "outputId": "e1685b61-e43d-4596-a4b3-7a148ea0eed8"
      },
      "execution_count": null,
      "outputs": [
        {
          "output_type": "stream",
          "name": "stdout",
          "text": [
            "[1, 2, 3, 4, 5, 6, 7, 8, 9]\n",
            "[1, 2, 3, 4, 5, 6, 7, 8, 9]\n"
          ]
        }
      ]
    },
    {
      "cell_type": "code",
      "source": [
        "#12\n",
        "List1=[1, 2, 3, 4, 5]\n",
        "List2=[4,5,6, 7, 8]\n",
        "common_elements2=list(set(List1).intersection(List2))\n",
        "\n",
        "common_elements1 = [x for x in List1 if x in List2]\n",
        "\n",
        "print(common_elements1)\n",
        "print(common_elements2)"
      ],
      "metadata": {
        "colab": {
          "base_uri": "https://localhost:8080/"
        },
        "id": "YkrnWkjN3omI",
        "outputId": "6215da59-3a6e-45c7-c3eb-a8fcd7db64f8"
      },
      "execution_count": null,
      "outputs": [
        {
          "output_type": "stream",
          "name": "stdout",
          "text": [
            "[4, 5]\n",
            "[4, 5]\n"
          ]
        }
      ]
    },
    {
      "cell_type": "code",
      "source": [
        "#13\n",
        "List1=[[1,2],[3,4],[5,6]]\n",
        "result1 = [item for sublist in List1 for item in sublist]\n",
        "result2=sum(List1,[])\n",
        "print(result1)\n",
        "print(result2)"
      ],
      "metadata": {
        "colab": {
          "base_uri": "https://localhost:8080/"
        },
        "id": "VsvtcR1r3sNg",
        "outputId": "52432993-1358-40bd-c9ef-ca7f1051cbd0"
      },
      "execution_count": null,
      "outputs": [
        {
          "output_type": "stream",
          "name": "stdout",
          "text": [
            "[1, 2, 3, 4, 5, 6]\n",
            "[1, 2, 3, 4, 5, 6]\n"
          ]
        }
      ]
    },
    {
      "cell_type": "code",
      "source": [
        "#14\n",
        "List=[[1,2,3],[4,5,6],[7,8,9]]\n",
        "sum_of_sublists = [sum(sublist) for sublist in List]\n",
        "\n",
        "sum_of_sublists1=sum(sum(sublist) for sublist in List)\n",
        "\n",
        "sum_of_sublists2=list(map(sum,List))\n",
        "\n",
        "print(sum_of_sublists)\n",
        "print(sum_of_sublists1)\n",
        "print(sum_of_sublists2)"
      ],
      "metadata": {
        "colab": {
          "base_uri": "https://localhost:8080/"
        },
        "id": "wpqA0Lgo3tcA",
        "outputId": "70f1ed38-b165-4ef2-bdf6-5097c669d534"
      },
      "execution_count": null,
      "outputs": [
        {
          "output_type": "stream",
          "name": "stdout",
          "text": [
            "[6, 15, 24]\n",
            "45\n",
            "[6, 15, 24]\n",
            "45\n"
          ]
        }
      ]
    },
    {
      "cell_type": "code",
      "source": [
        "#15\n",
        "List=[[1, 2, 3], [4, 5, 6], [7, 8, 9]]\n",
        "\n",
        "transpose1 = [[List[j][i] for j in range(len(List))] for i in range(len(List[0]))]\n",
        "print(transpose1)\n",
        "\n",
        "transpose2=list(map(list,zip(*List)))\n",
        "print(transpose2)\n",
        "\n",
        "transpose3=np.transpose(List)\n",
        "print(transpose3.tolist())"
      ],
      "metadata": {
        "colab": {
          "base_uri": "https://localhost:8080/"
        },
        "id": "SAKLOf2L3vTF",
        "outputId": "550299bf-b77d-4b51-d648-e919b598ed8a"
      },
      "execution_count": null,
      "outputs": [
        {
          "output_type": "stream",
          "name": "stdout",
          "text": [
            "[[1, 4, 7], [2, 5, 8], [3, 6, 9]]\n",
            "[[1, 4, 7], [2, 5, 8], [3, 6, 9]]\n",
            "[[1, 4, 7], [2, 5, 8], [3, 6, 9]]\n"
          ]
        }
      ]
    },
    {
      "cell_type": "code",
      "source": [
        "#16\n",
        "List=[[1,5,3],[9,2,7],[4,8,6]]\n",
        "\n",
        "nest_max=list(map(max,List))\n",
        "print(nest_max)\n",
        "\n",
        "nest_max1=max(nest_max)\n",
        "print(nest_max1)"
      ],
      "metadata": {
        "colab": {
          "base_uri": "https://localhost:8080/"
        },
        "id": "hIZbJK7J3wYO",
        "outputId": "43ec4c71-3d24-41d1-b13e-3b5aedf2b6d8"
      },
      "execution_count": null,
      "outputs": [
        {
          "output_type": "stream",
          "name": "stdout",
          "text": [
            "[5, 9, 8]\n",
            "9\n"
          ]
        }
      ]
    },
    {
      "cell_type": "code",
      "source": [
        "#17\n",
        "List=[\n",
        "    [[1, 2], [3, 4]],\n",
        "    [[5, 6], [7, 8]]\n",
        "    ]\n",
        "print(List)\n",
        "D3_matrix=np.array(List)\n",
        "print(D3_matrix)"
      ],
      "metadata": {
        "colab": {
          "base_uri": "https://localhost:8080/"
        },
        "id": "bt2cqAtT3zWd",
        "outputId": "1b1b7a9b-4ca2-49bc-b2db-d83377a672fc"
      },
      "execution_count": null,
      "outputs": [
        {
          "output_type": "stream",
          "name": "stdout",
          "text": [
            "[[[1, 2], [3, 4]], [[5, 6], [7, 8]]]\n",
            "[[[1 2]\n",
            "  [3 4]]\n",
            "\n",
            " [[5 6]\n",
            "  [7 8]]]\n"
          ]
        }
      ]
    },
    {
      "cell_type": "code",
      "source": [
        "#18\n",
        "List=[\n",
        "    [[1, 2], [3, 4]],\n",
        "    [[5, 6], [7, 8]]\n",
        "    ]\n",
        "print(List)\n",
        "\n",
        "D3_matrix=np.sum(List)\n",
        "print(D3_matrix)"
      ],
      "metadata": {
        "colab": {
          "base_uri": "https://localhost:8080/"
        },
        "id": "tmAi0Rak3zSz",
        "outputId": "d206e0b1-482b-4101-d61f-45eb0ff8abec"
      },
      "execution_count": null,
      "outputs": [
        {
          "output_type": "stream",
          "name": "stdout",
          "text": [
            "[[[1, 2], [3, 4]], [[5, 6], [7, 8]]]\n",
            "36\n"
          ]
        }
      ]
    },
    {
      "cell_type": "code",
      "source": [
        "#19\n",
        "List=[[1,2,3],[4,5,6],[7,8,9]]\n",
        "\n",
        "array=np.array(List)\n",
        "even_of_sublist=array[array%2==0]\n",
        "print(even_of_sublist.tolist())\n"
      ],
      "metadata": {
        "colab": {
          "base_uri": "https://localhost:8080/"
        },
        "id": "LuUqD85h3zPE",
        "outputId": "036bfe59-3e71-4d57-c0e1-cce95d8b80ab"
      },
      "execution_count": null,
      "outputs": [
        {
          "output_type": "stream",
          "name": "stdout",
          "text": [
            "[2, 4, 6, 8]\n",
            "[2, 4, 6, 8]\n"
          ]
        }
      ]
    },
    {
      "cell_type": "code",
      "source": [
        "#20\n",
        "List=[1,'hello',3.14,True,[1,2,3]]\n",
        "\n",
        "mix_data_types1=list(map(type,List))\n",
        "print(mix_data_types1)\n",
        "\n",
        "mix_data_types2=[type(x) for x in List]\n",
        "print(mix_data_types2)\n",
        "\n",
        "for i in List:\n",
        "    print(type(i).__name__,end=',')\n"
      ],
      "metadata": {
        "colab": {
          "base_uri": "https://localhost:8080/"
        },
        "id": "GFF6xmDW3zLc",
        "outputId": "89615b01-d7ac-4506-ec65-35b8ec7d8f26"
      },
      "execution_count": null,
      "outputs": [
        {
          "output_type": "stream",
          "name": "stdout",
          "text": [
            "[<class 'int'>, <class 'str'>, <class 'float'>, <class 'bool'>, <class 'list'>]\n",
            "[<class 'int'>, <class 'str'>, <class 'float'>, <class 'bool'>, <class 'list'>]\n",
            "int,str,float,bool,list,"
          ]
        }
      ]
    },
    {
      "cell_type": "code",
      "source": [
        "#21\n",
        "fruits = [\"apple\", \"banana\", \"cherry\", \"date\"]\n",
        "#length of every string\n",
        "length1=list(map(len,fruits))\n",
        "print(length1)\n",
        "\n",
        "length2=[len(x) for x in fruits]\n",
        "print(length2)"
      ],
      "metadata": {
        "colab": {
          "base_uri": "https://localhost:8080/"
        },
        "id": "CaqQlVlo3y9I",
        "outputId": "213db9da-adba-4d00-c0e2-91644bcf4f4e"
      },
      "execution_count": null,
      "outputs": [
        {
          "output_type": "stream",
          "name": "stdout",
          "text": [
            "[5, 6, 6, 4]\n",
            "[5, 6, 6, 4]\n"
          ]
        }
      ]
    },
    {
      "cell_type": "code",
      "source": [
        "#22"
      ],
      "metadata": {
        "id": "MNZ1M95q3y5w"
      },
      "execution_count": null,
      "outputs": []
    },
    {
      "cell_type": "code",
      "source": [
        "#23\n",
        "list_1=[(1,'a'),(2,'b'),(3,'c')]\n",
        "first_element=list(list(zip(*list_1))[0])\n",
        "print(first_element)\n",
        "\n",
        "first_element2=list(zip(*list_1))[0]\n",
        "print(first_element2)\n",
        "\n",
        "first_element1=[x[0] for x in list_1]\n",
        "print(first_element1)"
      ],
      "metadata": {
        "id": "MSILTH293yx3",
        "colab": {
          "base_uri": "https://localhost:8080/"
        },
        "outputId": "9843adf1-7232-41b5-8cab-a8ed1d25559b"
      },
      "execution_count": null,
      "outputs": [
        {
          "output_type": "stream",
          "name": "stdout",
          "text": [
            "[1, 2, 3]\n",
            "(1, 2, 3)\n",
            "[1, 2, 3]\n"
          ]
        }
      ]
    },
    {
      "cell_type": "code",
      "source": [
        "#24\n",
        "List1=[{'name': 'Alice', 'age': 25}]\n",
        "List2=[{'name': 'Bob', 'age': 30}]\n",
        "List3=List1+List2\n",
        "print(List3)"
      ],
      "metadata": {
        "id": "SeFauYnE3ytw",
        "colab": {
          "base_uri": "https://localhost:8080/"
        },
        "outputId": "47a02e4b-dcce-4f9e-cc79-66d1de6f65b7"
      },
      "execution_count": null,
      "outputs": [
        {
          "output_type": "stream",
          "name": "stdout",
          "text": [
            "[{'name': 'Alice', 'age': 25}, {'name': 'Bob', 'age': 30}]\n"
          ]
        }
      ]
    },
    {
      "cell_type": "code",
      "source": [
        "#25\n",
        "names=[n['name']for n in List3]\n",
        "print(names)"
      ],
      "metadata": {
        "id": "8xMKJ3Z03yjj",
        "colab": {
          "base_uri": "https://localhost:8080/"
        },
        "outputId": "571b5674-e01c-4b5d-8cc2-24dc939218f8"
      },
      "execution_count": null,
      "outputs": [
        {
          "output_type": "stream",
          "name": "stdout",
          "text": [
            "['Alice', 'Bob']\n"
          ]
        }
      ]
    },
    {
      "cell_type": "code",
      "source": [
        "#26\n",
        "def max_age(people):\n",
        "    return people['age']\n",
        "\n",
        "oldest_person=max(List3,key=max_age)\n",
        "print(oldest_person)\n",
        "\n",
        "def max_age1(people):\n",
        "    return max(people,key=lambda x:x['age'])\n",
        "oldest_person1=max_age1(List3)\n",
        "print(oldest_person1)"
      ],
      "metadata": {
        "id": "f1RDEqMz3yRj",
        "colab": {
          "base_uri": "https://localhost:8080/"
        },
        "outputId": "5af057d6-ec5b-42bf-c089-7f631fdd8aac"
      },
      "execution_count": null,
      "outputs": [
        {
          "output_type": "stream",
          "name": "stdout",
          "text": [
            "{'name': 'Bob', 'age': 30}\n",
            "{'name': 'Bob', 'age': 30}\n"
          ]
        }
      ]
    },
    {
      "cell_type": "code",
      "source": [
        "#27\n",
        "List_4D=[\n",
        "    [[[1,2],[3,4]],\n",
        "     [[5,6],[7,8]]],\n",
        "    [[[9,10],[11,12]],\n",
        "     [[13,14],[15,16]]]\n",
        "    ]\n",
        "print(List_4D)\n"
      ],
      "metadata": {
        "id": "aAN2tDmm4D_s",
        "colab": {
          "base_uri": "https://localhost:8080/"
        },
        "outputId": "528a2611-da7b-4908-b0ca-f773a989875e"
      },
      "execution_count": null,
      "outputs": [
        {
          "output_type": "stream",
          "name": "stdout",
          "text": [
            "[[[[1, 2], [3, 4]], [[5, 6], [7, 8]]], [[[9, 10], [11, 12]], [[13, 14], [15, 16]]]]\n"
          ]
        }
      ]
    },
    {
      "cell_type": "code",
      "source": [
        "#28\n",
        "Max_value_4D=max(\n",
        "    num\n",
        "    for block in List_4D\n",
        "    for layer in block\n",
        "    for row in layer\n",
        "    for num in row\n",
        ")\n",
        "print(Max_value_4D)\n",
        "#\n",
        "flat_3d=[layer for block in List_4D for layer in block]\n",
        "flat_2d=[row for layer in flat_3d for row in layer]\n",
        "flat_1d=[num for row in flat_2d for num in row]\n",
        "max_val=max(flat_1d)\n",
        "print(max_val)\n",
        "#\n",
        "import itertools\n",
        "flat = itertools.chain.from_iterable\n",
        "max_val = max(flat(flat(flat(List_4D))))\n",
        "print(max_val)"
      ],
      "metadata": {
        "id": "t0BcVtiD4D4v",
        "colab": {
          "base_uri": "https://localhost:8080/"
        },
        "outputId": "c02a6306-013a-4de8-d108-5cee11415101"
      },
      "execution_count": null,
      "outputs": [
        {
          "output_type": "stream",
          "name": "stdout",
          "text": [
            "16\n",
            "16\n",
            "16\n"
          ]
        }
      ]
    },
    {
      "cell_type": "code",
      "source": [
        "#29\n",
        "sets = [{1, 2}, {3, 4}, {5, 6}]\n",
        "print(sets)\n",
        "\n",
        "List=[1,2,3,4,5,6,7,8,9]\n",
        "sets1=set(List)\n",
        "print(sets1)"
      ],
      "metadata": {
        "id": "BwNzz9rU4Dxp",
        "colab": {
          "base_uri": "https://localhost:8080/"
        },
        "outputId": "0a5a219a-801d-49fc-888d-fd4702412db6"
      },
      "execution_count": null,
      "outputs": [
        {
          "output_type": "stream",
          "name": "stdout",
          "text": [
            "[{1, 2}, {3, 4}, {5, 6}]\n",
            "{1, 2, 3, 4, 5, 6, 7, 8, 9}\n"
          ]
        }
      ]
    },
    {
      "cell_type": "code",
      "source": [
        "#30\n",
        "sets = [{1, 2}, {3, 4}, {5, 6}]\n",
        "union=set.union(*sets)\n",
        "print(union)\n",
        "\n",
        "union1=set()\n",
        "for s in sets:\n",
        "    union1=union1.union(s)\n",
        "print(union1)\n",
        "#"
      ],
      "metadata": {
        "id": "kNuIr8hg4Dqv",
        "colab": {
          "base_uri": "https://localhost:8080/"
        },
        "outputId": "f2ce15a8-f346-4366-d590-399621dbcb1b"
      },
      "execution_count": null,
      "outputs": [
        {
          "output_type": "stream",
          "name": "stdout",
          "text": [
            "{1, 2, 3, 4, 5, 6}\n",
            "{1, 2, 3, 4, 5, 6}\n"
          ]
        }
      ]
    },
    {
      "cell_type": "code",
      "source": [
        "#31\n",
        "Complex_list=[1+2j,3+4j,5+6j]\n",
        "print(Complex_list)"
      ],
      "metadata": {
        "id": "oU0KoeL94Di9",
        "colab": {
          "base_uri": "https://localhost:8080/"
        },
        "outputId": "2c32eb95-6c19-43d3-e0f9-064523dcb428"
      },
      "execution_count": 2,
      "outputs": [
        {
          "output_type": "stream",
          "name": "stdout",
          "text": [
            "[(1+2j), (3+4j), (5+6j)]\n"
          ]
        }
      ]
    },
    {
      "cell_type": "code",
      "source": [
        "#32\n",
        "magnitude_alt=list(map(abs,Complex_list))\n",
        "print(magnitude_alt)"
      ],
      "metadata": {
        "id": "68j_f6is4DbP",
        "colab": {
          "base_uri": "https://localhost:8080/"
        },
        "outputId": "eaf26e4b-2291-4922-bca6-7d3c2f49e2ed"
      },
      "execution_count": 3,
      "outputs": [
        {
          "output_type": "stream",
          "name": "stdout",
          "text": [
            "[2.23606797749979, 5.0, 7.810249675906654]\n"
          ]
        }
      ]
    },
    {
      "cell_type": "code",
      "source": [
        "#33\n",
        "nested_list=[1,[2,3],[4,[5,6],7],8]\n",
        "print(nested_list)"
      ],
      "metadata": {
        "id": "VlnmOQTK4DPb",
        "colab": {
          "base_uri": "https://localhost:8080/"
        },
        "outputId": "894da977-fe91-4c6e-882f-e74f23f620bf"
      },
      "execution_count": 4,
      "outputs": [
        {
          "output_type": "stream",
          "name": "stdout",
          "text": [
            "[1, [2, 3], [4, [5, 6], 7], 8]\n"
          ]
        }
      ]
    },
    {
      "cell_type": "code",
      "source": [
        "#34\n",
        "def Count_depth(lst):\n",
        "    if not isinstance(lst,list):\n",
        "        return 0\n",
        "    if not lst:\n",
        "        return 1\n",
        "    return 1+max(Count_depth(item) for item in lst)\n",
        "depth=Count_depth(nested_list)\n",
        "print(depth)"
      ],
      "metadata": {
        "id": "c3L-W3HA4N2G",
        "colab": {
          "base_uri": "https://localhost:8080/"
        },
        "outputId": "ed569271-ec56-462f-bae9-f6d9e6deb236"
      },
      "execution_count": 5,
      "outputs": [
        {
          "output_type": "stream",
          "name": "stdout",
          "text": [
            "3\n"
          ]
        }
      ]
    },
    {
      "cell_type": "code",
      "source": [
        "#35\n",
        "Fun_list=[len,str,int,float]\n",
        "print(Fun_list)"
      ],
      "metadata": {
        "id": "5_ReZL234NoC",
        "colab": {
          "base_uri": "https://localhost:8080/"
        },
        "outputId": "43393fed-7a7a-4d80-f9a4-cd5c93e09c6f"
      },
      "execution_count": 6,
      "outputs": [
        {
          "output_type": "stream",
          "name": "stdout",
          "text": [
            "[<built-in function len>, <class 'str'>, <class 'int'>, <class 'float'>]\n"
          ]
        }
      ]
    },
    {
      "cell_type": "code",
      "source": [
        "#36\n",
        "results = [func(\"123\") for func in Fun_list]\n",
        "print(results)"
      ],
      "metadata": {
        "colab": {
          "base_uri": "https://localhost:8080/"
        },
        "id": "lJaDD4IRxG5p",
        "outputId": "6ecfe818-da37-4ba5-d071-179cae976771"
      },
      "execution_count": 10,
      "outputs": [
        {
          "output_type": "stream",
          "name": "stdout",
          "text": [
            "[3, '123', 123, 123.0]\n"
          ]
        }
      ]
    },
    {
      "cell_type": "code",
      "source": [
        "#37\n",
        "lambda_list = [lambda x: x*2, lambda x: x**2, lambda x: x+1]\n",
        "print(lambda_list)"
      ],
      "metadata": {
        "id": "_iXxgwJs4NhC",
        "colab": {
          "base_uri": "https://localhost:8080/"
        },
        "outputId": "edbc31be-b326-49bf-c5f7-052384bcee34"
      },
      "execution_count": 11,
      "outputs": [
        {
          "output_type": "stream",
          "name": "stdout",
          "text": [
            "[<function <lambda> at 0x7b7b31659da0>, <function <lambda> at 0x7b7b31659b20>, <function <lambda> at 0x7b7b31659ee0>]\n"
          ]
        }
      ]
    },
    {
      "cell_type": "code",
      "source": [
        "#38\n",
        "results = [func(5) for func in lambda_list]\n",
        "print(results)"
      ],
      "metadata": {
        "id": "xWFvWjOQ4NeT",
        "colab": {
          "base_uri": "https://localhost:8080/"
        },
        "outputId": "b727cb8d-2e15-42e8-e465-5cad8354a5c4"
      },
      "execution_count": 12,
      "outputs": [
        {
          "output_type": "stream",
          "name": "stdout",
          "text": [
            "[10, 25, 6]\n"
          ]
        }
      ]
    },
    {
      "cell_type": "code",
      "source": [
        "#39\n",
        "class_list = [list, dict, set, tuple]\n",
        "print(class_list)"
      ],
      "metadata": {
        "id": "h77CBWC84NVc",
        "colab": {
          "base_uri": "https://localhost:8080/"
        },
        "outputId": "ff8dcdbf-f3a3-40c8-8550-ae2f52348367"
      },
      "execution_count": 13,
      "outputs": [
        {
          "output_type": "stream",
          "name": "stdout",
          "text": [
            "[<class 'list'>, <class 'dict'>, <class 'set'>, <class 'tuple'>]\n"
          ]
        }
      ]
    },
    {
      "cell_type": "code",
      "source": [
        "#40\n",
        "list_instance=list()\n",
        "dict_instance=dict()\n",
        "set_instance=set()\n",
        "tuple_instance=tuple()\n",
        "instance=[list_instance,dict_instance,set_instance,tuple_instance]\n",
        "print(instance)"
      ],
      "metadata": {
        "id": "TXKx_coo4Uce",
        "colab": {
          "base_uri": "https://localhost:8080/"
        },
        "outputId": "38719414-6eec-4da5-edc6-b34e8b6ad172"
      },
      "execution_count": 14,
      "outputs": [
        {
          "output_type": "stream",
          "name": "stdout",
          "text": [
            "[[], {}, set(), ()]\n"
          ]
        }
      ]
    },
    {
      "cell_type": "code",
      "source": [
        "#41\n",
        "None_list=[None,None,None]\n",
        "print(None_list)"
      ],
      "metadata": {
        "colab": {
          "base_uri": "https://localhost:8080/"
        },
        "id": "xskmbdWKyOEu",
        "outputId": "89fe79e0-aff0-4c36-d6f9-0146c8577020"
      },
      "execution_count": 15,
      "outputs": [
        {
          "output_type": "stream",
          "name": "stdout",
          "text": [
            "[None, None, None]\n"
          ]
        }
      ]
    },
    {
      "cell_type": "code",
      "source": [
        "#42\n",
        "None_replace_0=[0 if list in None_list else list for list in None_list]\n",
        "print(None_replace_0)"
      ],
      "metadata": {
        "colab": {
          "base_uri": "https://localhost:8080/"
        },
        "id": "MN0gSbc3ydVx",
        "outputId": "973ec98e-e8c4-4caf-8fa1-82b572d00d4b"
      },
      "execution_count": 16,
      "outputs": [
        {
          "output_type": "stream",
          "name": "stdout",
          "text": [
            "[0, 0, 0]\n"
          ]
        }
      ]
    },
    {
      "cell_type": "code",
      "source": [
        "#43\n",
        "Bool_list=[True,False,True,False]\n",
        "print(Bool_list)"
      ],
      "metadata": {
        "colab": {
          "base_uri": "https://localhost:8080/"
        },
        "id": "RM1rmVPizMhh",
        "outputId": "31ba47df-610d-4233-caa0-1b4ca6e3984c"
      },
      "execution_count": 17,
      "outputs": [
        {
          "output_type": "stream",
          "name": "stdout",
          "text": [
            "[True, False, True, False]\n"
          ]
        }
      ]
    },
    {
      "cell_type": "code",
      "source": [
        "#44\n",
        "Count_t_f=Bool_list.count(True)\n",
        "print(Count_t_f)"
      ],
      "metadata": {
        "colab": {
          "base_uri": "https://localhost:8080/"
        },
        "id": "SCwD7bBGzQ09",
        "outputId": "c8e14403-3628-41ba-d14d-a16cef605fa8"
      },
      "execution_count": 18,
      "outputs": [
        {
          "output_type": "stream",
          "name": "stdout",
          "text": [
            "2\n"
          ]
        }
      ]
    },
    {
      "cell_type": "code",
      "source": [
        "#45\n",
        "range_list = [range(3), range(5), range(2)]\n",
        "print(range_list)"
      ],
      "metadata": {
        "colab": {
          "base_uri": "https://localhost:8080/"
        },
        "id": "RD1RMI4jzaq8",
        "outputId": "88075b2f-4237-48c0-86ee-6bbd1d190dce"
      },
      "execution_count": 19,
      "outputs": [
        {
          "output_type": "stream",
          "name": "stdout",
          "text": [
            "[range(0, 3), range(0, 5), range(0, 2)]\n"
          ]
        }
      ]
    },
    {
      "cell_type": "code",
      "source": [
        "#46\n",
        "list_of_lists = [list(r) for r in range_list]\n",
        "print(list_of_lists)"
      ],
      "metadata": {
        "colab": {
          "base_uri": "https://localhost:8080/"
        },
        "id": "JGFN7-0_zgTP",
        "outputId": "04ca9b6c-09b3-4c62-c243-7b27306651ea"
      },
      "execution_count": 20,
      "outputs": [
        {
          "output_type": "stream",
          "name": "stdout",
          "text": [
            "[[0, 1, 2], [0, 1, 2, 3, 4], [0, 1]]\n"
          ]
        }
      ]
    },
    {
      "cell_type": "code",
      "source": [
        "#47\n",
        "gen_list = [ (x for x in range(3)), (x for x in range(5)) ]\n",
        "print(gen_list)"
      ],
      "metadata": {
        "colab": {
          "base_uri": "https://localhost:8080/"
        },
        "id": "7ATCUgmlznib",
        "outputId": "d150630f-77dd-475b-b099-9898054837a6"
      },
      "execution_count": 21,
      "outputs": [
        {
          "output_type": "stream",
          "name": "stdout",
          "text": [
            "[<generator object <genexpr> at 0x7b7b31655560>, <generator object <genexpr> at 0x7b7b31656a80>]\n"
          ]
        }
      ]
    },
    {
      "cell_type": "code",
      "source": [
        "#48\n",
        "gens_to_lists = [list(g) for g in gen_list]\n",
        "print(gens_to_lists)"
      ],
      "metadata": {
        "colab": {
          "base_uri": "https://localhost:8080/"
        },
        "id": "Jh4qMwhDzvMS",
        "outputId": "5f7b59d7-a5df-44e6-d123-ee8d7f97beb5"
      },
      "execution_count": 22,
      "outputs": [
        {
          "output_type": "stream",
          "name": "stdout",
          "text": [
            "[[0, 1, 2], [0, 1, 2, 3, 4]]\n"
          ]
        }
      ]
    },
    {
      "cell_type": "code",
      "source": [
        "#49\n",
        "iter_list = [iter([1, 2, 3]), iter([4, 5, 6])]\n",
        "print(iter_list)"
      ],
      "metadata": {
        "colab": {
          "base_uri": "https://localhost:8080/"
        },
        "id": "3DXd6szDz25m",
        "outputId": "579ebed6-7fbc-4e5a-9e92-e1d03d664db0"
      },
      "execution_count": 23,
      "outputs": [
        {
          "output_type": "stream",
          "name": "stdout",
          "text": [
            "[<list_iterator object at 0x7b7b31a2a320>, <list_iterator object at 0x7b7b31a28d60>]\n"
          ]
        }
      ]
    },
    {
      "cell_type": "code",
      "source": [
        "#50\n",
        "it_extracted = list(map(list, iter_list))\n",
        "print(it_extracted)"
      ],
      "metadata": {
        "colab": {
          "base_uri": "https://localhost:8080/"
        },
        "id": "qHLTnxojz8Tu",
        "outputId": "67e63f5c-0abb-42c9-864f-0b774eb292ee"
      },
      "execution_count": 24,
      "outputs": [
        {
          "output_type": "stream",
          "name": "stdout",
          "text": [
            "[[1, 2, 3], [4, 5, 6]]\n"
          ]
        }
      ]
    }
  ]
}