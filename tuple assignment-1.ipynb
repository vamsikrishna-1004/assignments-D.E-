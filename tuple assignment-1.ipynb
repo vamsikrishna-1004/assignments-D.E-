{
 "cells": [
  {
   "cell_type": "code",
   "execution_count": 5,
   "id": "3b1950e4",
   "metadata": {},
   "outputs": [
    {
     "data": {
      "text/plain": [
       "(1, 2, 3, 4, 5, 6, 7, 8, 9, 10)"
      ]
     },
     "execution_count": 5,
     "metadata": {},
     "output_type": "execute_result"
    }
   ],
   "source": [
    "# Question 1: Create a tuple of first 10 natural numbers\n",
    "tuple(range(1,11))\n"
   ]
  },
  {
   "cell_type": "code",
   "execution_count": 6,
   "id": "3a019278",
   "metadata": {},
   "outputs": [
    {
     "data": {
      "text/plain": [
       "10"
      ]
     },
     "execution_count": 6,
     "metadata": {},
     "output_type": "execute_result"
    }
   ],
   "source": [
    "# Question 2: Find the length of tuple (1, 2, 3, 4, 5, 6, 7, 8, 9, 10)\n",
    "tup = (1, 2, 3, 4, 5, 6, 7, 8, 9, 10)\n",
    "len(tup)"
   ]
  },
  {
   "cell_type": "code",
   "execution_count": 7,
   "id": "d52edeb6",
   "metadata": {},
   "outputs": [
    {
     "data": {
      "text/plain": [
       "'c'"
      ]
     },
     "execution_count": 7,
     "metadata": {},
     "output_type": "execute_result"
    }
   ],
   "source": [
    "# Question 3: Access the 3rd element from tuple ('a', 'b', 'c', 'd', 'e')\n",
    "ele = ('a', 'b', 'c', 'd', 'e')\n",
    "ele[2]"
   ]
  },
  {
   "cell_type": "code",
   "execution_count": 8,
   "id": "49980f6c",
   "metadata": {},
   "outputs": [
    {
     "data": {
      "text/plain": [
       "89"
      ]
     },
     "execution_count": 8,
     "metadata": {},
     "output_type": "execute_result"
    }
   ],
   "source": [
    "# Question 4: Find the maximum value in tuple (23, 45, 12, 67, 34, 89, 56)\n",
    "ma = (23, 45, 12, 67, 34, 89, 56)\n",
    "max(ma)"
   ]
  },
  {
   "cell_type": "code",
   "execution_count": 9,
   "id": "ee3e18cd",
   "metadata": {},
   "outputs": [
    {
     "data": {
      "text/plain": [
       "4"
      ]
     },
     "execution_count": 9,
     "metadata": {},
     "output_type": "execute_result"
    }
   ],
   "source": [
    "# Question 5: Count how many times 5 appears in (1, 5, 2, 5, 3, 5, 4, 5, 6)\n",
    "nu = (1, 5, 2, 5, 3, 5, 4, 5, 6)\n",
    "nu.count(5)"
   ]
  },
  {
   "cell_type": "code",
   "execution_count": 19,
   "id": "8d5bdf79",
   "metadata": {},
   "outputs": [
    {
     "data": {
      "text/plain": [
       "(25, 3.14, 'Praveen', True)"
      ]
     },
     "execution_count": 19,
     "metadata": {},
     "output_type": "execute_result"
    }
   ],
   "source": [
    "# Question 6: Create a tuple of mixed data types (integer, float, string, boolean)\n",
    "tu = (25, 3.14, \"Praveen\", True)\n",
    "tu"
   ]
  },
  {
   "cell_type": "code",
   "execution_count": 21,
   "id": "aeb96ec5",
   "metadata": {},
   "outputs": [
    {
     "data": {
      "text/plain": [
       "'python'"
      ]
     },
     "execution_count": 21,
     "metadata": {},
     "output_type": "execute_result"
    }
   ],
   "source": [
    "# Question 7: Find the index of element 'python' in ('java', 'python', 'c++', 'javascript')\n",
    "fin = ('java', 'python', 'c++', 'javascript')\n",
    "fin[1]"
   ]
  },
  {
   "cell_type": "code",
   "execution_count": 25,
   "id": "f8665368",
   "metadata": {},
   "outputs": [
    {
     "data": {
      "text/plain": [
       "0"
      ]
     },
     "execution_count": 25,
     "metadata": {},
     "output_type": "execute_result"
    }
   ],
   "source": [
    "# Question 8: Check if 25 exists in tuple (10, 20, 30, 40, 50)\n",
    "ele = (10, 20, 30, 40, 50)\n",
    "ele.count(25)"
   ]
  },
  {
   "cell_type": "code",
   "execution_count": 26,
   "id": "85f12cf8",
   "metadata": {},
   "outputs": [
    {
     "name": "stdout",
     "output_type": "stream",
     "text": [
      "it's not\n"
     ]
    }
   ],
   "source": [
    "if 25 in ele:\n",
    "    print(\"it's present\")\n",
    "else:\n",
    "    print(\"it's not\")"
   ]
  },
  {
   "cell_type": "code",
   "execution_count": 32,
   "id": "b55ab9cd",
   "metadata": {},
   "outputs": [
    {
     "data": {
      "text/plain": [
       "(2, 4, 6, 8, 10)"
      ]
     },
     "execution_count": 32,
     "metadata": {},
     "output_type": "execute_result"
    }
   ],
   "source": [
    "# Question 9: Create a tuple of first 5 even numbers\n",
    "tup = tuple(range(2,11,2))\n",
    "tup"
   ]
  },
  {
   "cell_type": "code",
   "execution_count": 36,
   "id": "ee19ce59",
   "metadata": {},
   "outputs": [
    {
     "data": {
      "text/plain": [
       "40.833333333333336"
      ]
     },
     "execution_count": 36,
     "metadata": {},
     "output_type": "execute_result"
    }
   ],
   "source": [
    "# Question 10: Find the average of numbers in tuple (15, 23, 31, 42, 56, 78)\n",
    "last = (15, 23, 31, 42, 56, 78)\n",
    "sum(last) / len(last)"
   ]
  },
  {
   "cell_type": "code",
   "execution_count": null,
   "id": "2478b553",
   "metadata": {},
   "outputs": [],
   "source": []
  },
  {
   "cell_type": "code",
   "execution_count": null,
   "id": "e4a4d436",
   "metadata": {},
   "outputs": [],
   "source": []
  },
  {
   "cell_type": "code",
   "execution_count": null,
   "id": "2d030450",
   "metadata": {},
   "outputs": [],
   "source": []
  }
 ],
 "metadata": {
  "kernelspec": {
   "display_name": "Python 3 (ipykernel)",
   "language": "python",
   "name": "python3"
  },
  "language_info": {
   "codemirror_mode": {
    "name": "ipython",
    "version": 3
   },
   "file_extension": ".py",
   "mimetype": "text/x-python",
   "name": "python",
   "nbconvert_exporter": "python",
   "pygments_lexer": "ipython3",
   "version": "3.9.12"
  }
 },
 "nbformat": 4,
 "nbformat_minor": 5
}
