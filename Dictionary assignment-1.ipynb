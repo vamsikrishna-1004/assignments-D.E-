{
  "nbformat": 4,
  "nbformat_minor": 0,
  "metadata": {
    "colab": {
      "provenance": []
    },
    "kernelspec": {
      "name": "python3",
      "display_name": "Python 3"
    },
    "language_info": {
      "name": "python"
    }
  },
  "cells": [
    {
      "cell_type": "code",
      "execution_count": 5,
      "metadata": {
        "id": "QF_ythglOxjB"
      },
      "outputs": [],
      "source": [
        "import math\n",
        "import cmath\n",
        "import numpy as np\n",
        "import re\n",
        "import string\n",
        "from collections import Counter\n",
        "from urllib.parse import urlparse"
      ]
    },
    {
      "cell_type": "code",
      "source": [
        "print(\"SOLVED EXAMPLE:\")\n",
        "print(\"Find the key with maximum value in a dictionary\")\n",
        "scores = {'Alice': 85, 'Bob': 92, 'Charlie': 78, 'Diana': 95, 'Eve': 88}\n",
        "max_key = max(scores, key=scores.get)\n",
        "max_value = scores[max_key]\n",
        "print(f\"Dictionary: {scores}\")\n",
        "print(f\"Key with maximum value: {max_key}\")\n",
        "print(f\"Maximum value: {max_value}\")\n",
        "print(\"-\" * 50)"
      ],
      "metadata": {
        "colab": {
          "base_uri": "https://localhost:8080/"
        },
        "id": "Tr-47wbOsr8T",
        "outputId": "72a9d402-7dc1-4685-b185-7739be91ccaa"
      },
      "execution_count": 6,
      "outputs": [
        {
          "output_type": "stream",
          "name": "stdout",
          "text": [
            "SOLVED EXAMPLE:\n",
            "Find the key with maximum value in a dictionary\n",
            "Dictionary: {'Alice': 85, 'Bob': 92, 'Charlie': 78, 'Diana': 95, 'Eve': 88}\n",
            "Key with maximum value: Diana\n",
            "Maximum value: 95\n",
            "--------------------------------------------------\n"
          ]
        }
      ]
    },
    {
      "cell_type": "code",
      "source": [
        "#1\n",
        "Students={\"Alice\": 20, \"Bob\": 22, \"Charlie\": 19}\n",
        "print(\"Dictionary of students and their ages:\")\n",
        "print(Students)"
      ],
      "metadata": {
        "colab": {
          "base_uri": "https://localhost:8080/"
        },
        "id": "TOtiaBFbsxzv",
        "outputId": "c2006cda-f323-4077-e1cc-f4651a4ff5e4"
      },
      "execution_count": 7,
      "outputs": [
        {
          "output_type": "stream",
          "name": "stdout",
          "text": [
            "Dictionary of students and their ages:\n",
            "{'Alice': 20, 'Bob': 22, 'Charlie': 19}\n"
          ]
        }
      ]
    },
    {
      "cell_type": "code",
      "source": [
        "#2\n",
        "d={'a': 100, 'b': 200, 'c': 300}\n",
        "print(\"Dictionary of items:\")\n",
        "print(d)\n",
        "d['d']=400\n",
        "print(d)"
      ],
      "metadata": {
        "colab": {
          "base_uri": "https://localhost:8080/"
        },
        "id": "4X4x5AlgukvT",
        "outputId": "5223fb09-d339-4a7e-a214-32096eb81b0f"
      },
      "execution_count": 8,
      "outputs": [
        {
          "output_type": "stream",
          "name": "stdout",
          "text": [
            "Dictionary of items:\n",
            "{'a': 100, 'b': 200, 'c': 300}\n",
            "{'a': 100, 'b': 200, 'c': 300, 'd': 400}\n"
          ]
        }
      ]
    },
    {
      "cell_type": "code",
      "source": [
        "#3\n",
        "person = {'name': 'John', 'age': 25, 'city': 'New York'}\n",
        "print(list(person.keys()))"
      ],
      "metadata": {
        "colab": {
          "base_uri": "https://localhost:8080/"
        },
        "id": "E3dIOvjTuygH",
        "outputId": "bb020a83-420f-47e1-9e03-69df3f9de506"
      },
      "execution_count": 9,
      "outputs": [
        {
          "output_type": "stream",
          "name": "stdout",
          "text": [
            "['name', 'age', 'city']\n"
          ]
        }
      ]
    },
    {
      "cell_type": "code",
      "source": [
        "#4\n",
        "langs = {'python': 3, 'java': 2, 'c++': 1}\n",
        "print(list(langs.values()))"
      ],
      "metadata": {
        "colab": {
          "base_uri": "https://localhost:8080/"
        },
        "id": "757TBksXvOK-",
        "outputId": "090cb282-68cb-483b-f55f-92ad2972c087"
      },
      "execution_count": 10,
      "outputs": [
        {
          "output_type": "stream",
          "name": "stdout",
          "text": [
            "[3, 2, 1]\n"
          ]
        }
      ]
    },
    {
      "cell_type": "code",
      "source": [
        "#5\n",
        "info = {'name': 'Alice', 'age': 30, 'city': 'London'}\n",
        "print('age' in info)"
      ],
      "metadata": {
        "colab": {
          "base_uri": "https://localhost:8080/"
        },
        "id": "DqbuUGfjvTg5",
        "outputId": "ebacc18a-9b03-4acc-e45b-577a626c01a6"
      },
      "execution_count": 11,
      "outputs": [
        {
          "output_type": "stream",
          "name": "stdout",
          "text": [
            "True\n"
          ]
        }
      ]
    },
    {
      "cell_type": "code",
      "source": [
        "#6\n",
        "data = {'a': 1, 'b': 2, 'temp': 3, 'c': 4}\n",
        "print(data)\n",
        "\n",
        "\n",
        "data.pop('temp')\n",
        "print(data)\n",
        "\n",
        "# del data['temp']\n",
        "# print(data)\n"
      ],
      "metadata": {
        "colab": {
          "base_uri": "https://localhost:8080/"
        },
        "id": "EKDHYsLdvay4",
        "outputId": "54221865-8a31-4378-917e-8fdfc9109e08"
      },
      "execution_count": 12,
      "outputs": [
        {
          "output_type": "stream",
          "name": "stdout",
          "text": [
            "{'a': 1, 'b': 2, 'temp': 3, 'c': 4}\n",
            "{'a': 1, 'b': 2, 'c': 4}\n"
          ]
        }
      ]
    },
    {
      "cell_type": "code",
      "source": [
        "#7\n",
        "marks = {'math': 85, 'science': 92, 'english': 78}\n",
        "print(marks)\n",
        "print(sum(marks.values()))"
      ],
      "metadata": {
        "colab": {
          "base_uri": "https://localhost:8080/"
        },
        "id": "8CQjq7tKwAYL",
        "outputId": "ccda91a7-ec66-4a3a-8048-1aff5f01eb22"
      },
      "execution_count": 13,
      "outputs": [
        {
          "output_type": "stream",
          "name": "stdout",
          "text": [
            "{'math': 85, 'science': 92, 'english': 78}\n",
            "255\n"
          ]
        }
      ]
    },
    {
      "cell_type": "code",
      "source": [
        "#8\n",
        "sqr={x: x**2 for x in range(1, 6)}\n",
        "print(sqr)"
      ],
      "metadata": {
        "colab": {
          "base_uri": "https://localhost:8080/"
        },
        "id": "-9wjI_UGwHl3",
        "outputId": "8fd91112-0f85-489a-be6f-58a0f4812929"
      },
      "execution_count": 14,
      "outputs": [
        {
          "output_type": "stream",
          "name": "stdout",
          "text": [
            "{1: 1, 2: 4, 3: 9, 4: 16, 5: 25}\n"
          ]
        }
      ]
    },
    {
      "cell_type": "code",
      "source": [
        "#9\n",
        "S='hello'\n",
        "freq=dict(Counter(S))\n",
        "print(freq)"
      ],
      "metadata": {
        "colab": {
          "base_uri": "https://localhost:8080/"
        },
        "id": "y_zFGX9KwquY",
        "outputId": "4106575e-9949-4433-f9ea-c4e9ad65c328"
      },
      "execution_count": 15,
      "outputs": [
        {
          "output_type": "stream",
          "name": "stdout",
          "text": [
            "{'h': 1, 'e': 1, 'l': 2, 'o': 1}\n"
          ]
        }
      ]
    },
    {
      "cell_type": "code",
      "source": [
        "#10\n",
        "d1={'a': 1, 'b': 2}\n",
        "d2 = {'c': 3, 'd': 4}\n",
        "\n",
        "merged_dict1 = {**d1, **d2}\n",
        "print(merged_dict1)\n",
        "\n",
        "merged_dict2 = d1.copy()\n",
        "merged_dict2.update(d2)\n",
        "print(merged_dict2)"
      ],
      "metadata": {
        "colab": {
          "base_uri": "https://localhost:8080/"
        },
        "id": "9wWfWjOExJZV",
        "outputId": "b701dc33-f5b5-436b-fe49-ae1cdc87f696"
      },
      "execution_count": 16,
      "outputs": [
        {
          "output_type": "stream",
          "name": "stdout",
          "text": [
            "{'a': 1, 'b': 2, 'c': 3, 'd': 4}\n",
            "{'a': 1, 'b': 2, 'c': 3, 'd': 4}\n"
          ]
        }
      ]
    },
    {
      "cell_type": "code",
      "source": [
        "#11\n",
        "nested_dict = {'p1': {'name': 'bharath', 'age': '24'},\n",
        "               'p2': {'name': 'jaya', 'age': '20'}}\n",
        "print(nested_dict)"
      ],
      "metadata": {
        "colab": {
          "base_uri": "https://localhost:8080/"
        },
        "id": "fhMlQfzxygNm",
        "outputId": "85f55103-e105-4a9a-e0fe-6b6d927d97c3"
      },
      "execution_count": 17,
      "outputs": [
        {
          "output_type": "stream",
          "name": "stdout",
          "text": [
            "{'p1': {'name': 'bharath', 'age': '24'}, 'p2': {'name': 'jaya', 'age': '20'}}\n"
          ]
        }
      ]
    },
    {
      "cell_type": "code",
      "source": [
        "#12\n",
        "print(nested_dict['p1']['name'])\n",
        "print(nested_dict['p2']['age'])\n",
        "\n",
        "names=[nested_dict[key]['name']for key in nested_dict]\n",
        "print(names)"
      ],
      "metadata": {
        "colab": {
          "base_uri": "https://localhost:8080/"
        },
        "id": "rPad6sbXz8E6",
        "outputId": "f28a45fd-5880-4360-b669-91a517feb0d1"
      },
      "execution_count": 18,
      "outputs": [
        {
          "output_type": "stream",
          "name": "stdout",
          "text": [
            "bharath\n",
            "20\n",
            "['bharath', 'jaya']\n"
          ]
        }
      ]
    },
    {
      "cell_type": "code",
      "source": [
        "#13\n",
        "dict_with_lists = {'fruits': ['apple', 'banana'], 'colors': ['red', 'blue']}\n",
        "print(dict_with_lists)"
      ],
      "metadata": {
        "colab": {
          "base_uri": "https://localhost:8080/"
        },
        "id": "aXHBUIJo0XFd",
        "outputId": "fbed7420-25a3-41a8-a4d7-37b13b02b700"
      },
      "execution_count": 19,
      "outputs": [
        {
          "output_type": "stream",
          "name": "stdout",
          "text": [
            "{'fruits': ['apple', 'banana'], 'colors': ['red', 'blue']}\n"
          ]
        }
      ]
    },
    {
      "cell_type": "code",
      "source": [
        "#14\n",
        "dict_with_lists['fruits'].append('orange')\n",
        "print(dict_with_lists)"
      ],
      "metadata": {
        "colab": {
          "base_uri": "https://localhost:8080/"
        },
        "id": "KT45wHGz0Wx7",
        "outputId": "45864153-6fa5-4e1d-cc9e-b056b702f63f"
      },
      "execution_count": 20,
      "outputs": [
        {
          "output_type": "stream",
          "name": "stdout",
          "text": [
            "{'fruits': ['apple', 'banana', 'orange'], 'colors': ['red', 'blue']}\n"
          ]
        }
      ]
    },
    {
      "cell_type": "code",
      "source": [
        "#15\n",
        "tuple_dict = {'coordinates': (10, 20), 'rgb': (255, 0, 0)}\n",
        "print(tuple_dict)"
      ],
      "metadata": {
        "colab": {
          "base_uri": "https://localhost:8080/"
        },
        "id": "aTiUDBIt0obt",
        "outputId": "71b82d60-5f7e-493c-de19-3005a4947982"
      },
      "execution_count": 21,
      "outputs": [
        {
          "output_type": "stream",
          "name": "stdout",
          "text": [
            "{'coordinates': (10, 20), 'rgb': (255, 0, 0)}\n"
          ]
        }
      ]
    },
    {
      "cell_type": "code",
      "source": [
        "#16\n",
        "print(tuple_dict['coordinates'][0])\n",
        "print(tuple_dict['rgb'][2])"
      ],
      "metadata": {
        "colab": {
          "base_uri": "https://localhost:8080/"
        },
        "id": "HHwjY0_M0rlY",
        "outputId": "4e3cf411-013d-4459-cd77-253715e35988"
      },
      "execution_count": 22,
      "outputs": [
        {
          "output_type": "stream",
          "name": "stdout",
          "text": [
            "10\n",
            "0\n"
          ]
        }
      ]
    },
    {
      "cell_type": "code",
      "source": [
        "#17\n",
        "set_dict = {'vowels': {'a', 'e', 'i'}, 'consonants': {'b', 'c', 'd'}}\n",
        "print(set_dict)"
      ],
      "metadata": {
        "colab": {
          "base_uri": "https://localhost:8080/"
        },
        "id": "mfHmeSFU003W",
        "outputId": "fdeb92be-7a80-4d67-f0fd-6f3ffd2bc9a8"
      },
      "execution_count": 23,
      "outputs": [
        {
          "output_type": "stream",
          "name": "stdout",
          "text": [
            "{'vowels': {'a', 'e', 'i'}, 'consonants': {'c', 'b', 'd'}}\n"
          ]
        }
      ]
    },
    {
      "cell_type": "code",
      "source": [
        "#18\n",
        "set_dict['vowels'].add('o')\n",
        "print(set_dict)"
      ],
      "metadata": {
        "colab": {
          "base_uri": "https://localhost:8080/"
        },
        "id": "3O_a2vLk03QD",
        "outputId": "df940ec0-ee77-464d-8b99-94acdc05cc43"
      },
      "execution_count": 24,
      "outputs": [
        {
          "output_type": "stream",
          "name": "stdout",
          "text": [
            "{'vowels': {'a', 'o', 'e', 'i'}, 'consonants': {'c', 'b', 'd'}}\n"
          ]
        }
      ]
    },
    {
      "cell_type": "code",
      "source": [
        "#19\n",
        "three_level_dict = {'company': {'department': {'employee': {'name': 'John', 'id': 123}}}}\n",
        "print(three_level_dict)"
      ],
      "metadata": {
        "colab": {
          "base_uri": "https://localhost:8080/"
        },
        "id": "viU_Bdmt1P1-",
        "outputId": "0277ccc4-1734-4797-e221-92302949d87c"
      },
      "execution_count": 25,
      "outputs": [
        {
          "output_type": "stream",
          "name": "stdout",
          "text": [
            "{'company': {'department': {'employee': {'name': 'John', 'id': 123}}}}\n"
          ]
        }
      ]
    },
    {
      "cell_type": "code",
      "source": [
        "#20\n",
        "print(three_level_dict['company']['department']['employee']['name'])\n",
        "print(three_level_dict['company']['department']['employee']['id'])"
      ],
      "metadata": {
        "colab": {
          "base_uri": "https://localhost:8080/"
        },
        "id": "cr65Y6k01TSD",
        "outputId": "6e172a92-3625-4dab-d8bb-200863971638"
      },
      "execution_count": 26,
      "outputs": [
        {
          "output_type": "stream",
          "name": "stdout",
          "text": [
            "John\n",
            "123\n"
          ]
        }
      ]
    },
    {
      "cell_type": "code",
      "source": [
        "#21\n",
        "mixed = {'int': 42, 'float': 3.14, 'str': 'hello', 'bool': True}\n",
        "print(mixed)"
      ],
      "metadata": {
        "colab": {
          "base_uri": "https://localhost:8080/"
        },
        "id": "V1hxvmLk2f3Z",
        "outputId": "89c70dd0-e6a3-401b-fa2f-689456cfe18d"
      },
      "execution_count": 27,
      "outputs": [
        {
          "output_type": "stream",
          "name": "stdout",
          "text": [
            "{'int': 42, 'float': 3.14, 'str': 'hello', 'bool': True}\n"
          ]
        }
      ]
    },
    {
      "cell_type": "code",
      "source": [
        "#22"
      ],
      "metadata": {
        "id": "m-SPobAD2wf1"
      },
      "execution_count": 28,
      "outputs": []
    },
    {
      "cell_type": "code",
      "source": [
        "#23\n",
        "funcs = {'len': len, 'str': str, 'int': int}\n",
        "print(funcs)"
      ],
      "metadata": {
        "colab": {
          "base_uri": "https://localhost:8080/"
        },
        "id": "ukBmBx4W2x3d",
        "outputId": "01e2a370-dca8-43b5-c7ea-4a057c2a2b05"
      },
      "execution_count": 29,
      "outputs": [
        {
          "output_type": "stream",
          "name": "stdout",
          "text": [
            "{'len': <built-in function len>, 'str': <class 'str'>, 'int': <class 'int'>}\n"
          ]
        }
      ]
    },
    {
      "cell_type": "code",
      "source": [
        "#24\n",
        "mix_123 = {'len': funcs['len'](\"123\"), 'str': funcs['str'](\"123\"), 'int': funcs['int'](\"123\")}\n",
        "print(mix_123)\n"
      ],
      "metadata": {
        "colab": {
          "base_uri": "https://localhost:8080/"
        },
        "id": "pC-9H3m33EYT",
        "outputId": "6ea87e7a-b120-4de1-d723-a77958791a1e"
      },
      "execution_count": 30,
      "outputs": [
        {
          "output_type": "stream",
          "name": "stdout",
          "text": [
            "{'len': 3, 'str': '123', 'int': 123}\n"
          ]
        }
      ]
    },
    {
      "cell_type": "code",
      "source": [
        "#25\n",
        "lambdas={'square': lambda x: x**2, 'cube': lambda x: x**3}\n",
        "print(lambdas)"
      ],
      "metadata": {
        "colab": {
          "base_uri": "https://localhost:8080/"
        },
        "id": "koi0pXPfBevZ",
        "outputId": "77a7a615-12be-4930-b13a-bab8f9526173"
      },
      "execution_count": 31,
      "outputs": [
        {
          "output_type": "stream",
          "name": "stdout",
          "text": [
            "{'square': <function <lambda> at 0x7db602b7ff60>, 'cube': <function <lambda> at 0x7db602230540>}\n"
          ]
        }
      ]
    },
    {
      "cell_type": "code",
      "source": [
        "lambdas1={\n",
        "    'square': lambda x: x**2,\n",
        "    'cube': lambda x: x**3\n",
        "}\n",
        "lambdas1a={key:func(5) for key,func in lambdas1.items()}\n",
        "print(lambdas1a)\n",
        "\n",
        "\n",
        "lambdas2=(\n",
        "  (lambda x: {'double': (lambda y: y * 2)(x),\n",
        "              'square': (lambda y: y ** 2)(x)})(5)\n",
        ")\n",
        "print(lambdas2)"
      ],
      "metadata": {
        "colab": {
          "base_uri": "https://localhost:8080/"
        },
        "id": "4qwMTJHhE8iE",
        "outputId": "f561ea6f-8116-447c-e3c2-575fba55b5fe"
      },
      "execution_count": 32,
      "outputs": [
        {
          "output_type": "stream",
          "name": "stdout",
          "text": [
            "{'square': 25, 'cube': 125}\n",
            "{'double': 10, 'square': 25}\n"
          ]
        }
      ]
    },
    {
      "cell_type": "code",
      "source": [
        "#26\n",
        "result={'doublr':lambdas2,'square':lambdas2}\n",
        "print(result)"
      ],
      "metadata": {
        "colab": {
          "base_uri": "https://localhost:8080/"
        },
        "id": "ubEdZKCoFJr_",
        "outputId": "d591022b-b84d-4067-ca4a-2449a823f4fb"
      },
      "execution_count": 33,
      "outputs": [
        {
          "output_type": "stream",
          "name": "stdout",
          "text": [
            "{'doublr': {'double': 10, 'square': 25}, 'square': {'double': 10, 'square': 25}}\n"
          ]
        }
      ]
    },
    {
      "cell_type": "code",
      "source": [
        "#27\n",
        "Class_dit={\n",
        "    'list':list,\n",
        "    'tuple':tuple,\n",
        "    'set':set,\n",
        "    'dict':dict\n",
        "}\n",
        "print(Class_dit)\n"
      ],
      "metadata": {
        "colab": {
          "base_uri": "https://localhost:8080/"
        },
        "id": "UKcbCbSiQoPx",
        "outputId": "3a45293c-57d1-49b5-8ee9-7a4715441cd4"
      },
      "execution_count": 34,
      "outputs": [
        {
          "output_type": "stream",
          "name": "stdout",
          "text": [
            "{'list': <class 'list'>, 'tuple': <class 'tuple'>, 'set': <class 'set'>, 'dict': <class 'dict'>}\n"
          ]
        }
      ]
    },
    {
      "cell_type": "code",
      "source": [
        "from typing import Dict\n",
        "#28\n",
        "list_instance=Class_dit['list']()\n",
        "print(list_instance)\n",
        "Dict_instance=Class_dit['dict']()\n",
        "print(Dict_instance)\n",
        "Set_instance=Class_dit['set']()\n",
        "print(Set_instance)"
      ],
      "metadata": {
        "colab": {
          "base_uri": "https://localhost:8080/"
        },
        "id": "NuwqjHAW1tU-",
        "outputId": "7a1ab963-f890-4457-e106-4cebd18d03ae"
      },
      "execution_count": 35,
      "outputs": [
        {
          "output_type": "stream",
          "name": "stdout",
          "text": [
            "[]\n",
            "{}\n",
            "set()\n"
          ]
        }
      ]
    },
    {
      "cell_type": "code",
      "source": [
        "#29\n",
        "None_dict={'key':None}\n",
        "print(None_dict)\n",
        "\n",
        "None_dic1=dict.fromkeys(['a','b','c'])\n",
        "print(None_dic1)"
      ],
      "metadata": {
        "colab": {
          "base_uri": "https://localhost:8080/"
        },
        "id": "IV5ZCgvU3JJ0",
        "outputId": "266c1e54-e37e-445f-959f-2219cafed55a"
      },
      "execution_count": 36,
      "outputs": [
        {
          "output_type": "stream",
          "name": "stdout",
          "text": [
            "{'key': None}\n",
            "{'a': None, 'b': None, 'c': None}\n"
          ]
        }
      ]
    },
    {
      "cell_type": "code",
      "source": [
        "#30\n",
        "none_dict={k:0 for k,v in None_dic1.items()}\n",
        "print(none_dict)"
      ],
      "metadata": {
        "colab": {
          "base_uri": "https://localhost:8080/"
        },
        "id": "ZRSqE2ll39bB",
        "outputId": "c7b97ebf-28aa-43f9-dec6-fb235b6641ae"
      },
      "execution_count": 37,
      "outputs": [
        {
          "output_type": "stream",
          "name": "stdout",
          "text": [
            "{'a': 0, 'b': 0, 'c': 0}\n"
          ]
        }
      ]
    },
    {
      "cell_type": "code",
      "source": [
        "#31\n",
        "boole_dict={'true':True,'false':False}\n",
        "print(boole_dict)"
      ],
      "metadata": {
        "colab": {
          "base_uri": "https://localhost:8080/"
        },
        "id": "C4zo5-q_4aaS",
        "outputId": "65916d1c-2638-4543-83b3-5afab4e43152"
      },
      "execution_count": 38,
      "outputs": [
        {
          "output_type": "stream",
          "name": "stdout",
          "text": [
            "{'true': True, 'false': False}\n"
          ]
        }
      ]
    },
    {
      "cell_type": "code",
      "source": [],
      "metadata": {
        "id": "YQXeE88SIObn"
      },
      "execution_count": 38,
      "outputs": []
    },
    {
      "cell_type": "code",
      "source": [
        "#32\n",
        "Count_boole=sum(value is True for value in boole_dict.values())\n",
        "print(Count_boole)\n",
        "\n",
        "count_true = 0\n",
        "for value in boole_dict.values():\n",
        "    if value == True:\n",
        "        count_true += 1\n",
        "\n",
        "print(count_true)\n"
      ],
      "metadata": {
        "colab": {
          "base_uri": "https://localhost:8080/"
        },
        "id": "gZDAv-tx4gei",
        "outputId": "24875839-b140-4958-fdf7-d7409ba83efa"
      },
      "execution_count": 39,
      "outputs": [
        {
          "output_type": "stream",
          "name": "stdout",
          "text": [
            "1\n",
            "1\n"
          ]
        }
      ]
    },
    {
      "cell_type": "code",
      "source": [
        "#33\n",
        "complex_dict = {'z1': 3+4j, 'z2': 1+2j}\n",
        "print(complex_dict)"
      ],
      "metadata": {
        "colab": {
          "base_uri": "https://localhost:8080/"
        },
        "id": "BQG1I3u841ox",
        "outputId": "d44fc154-fb36-486b-a86a-6672a67bdb8a"
      },
      "execution_count": 40,
      "outputs": [
        {
          "output_type": "stream",
          "name": "stdout",
          "text": [
            "{'z1': (3+4j), 'z2': (1+2j)}\n"
          ]
        }
      ]
    },
    {
      "cell_type": "code",
      "source": [
        "#34\n",
        "magnitude_dict = {key: abs(value) for key, value in complex_dict.items()}\n",
        "print(magnitude_dict)"
      ],
      "metadata": {
        "colab": {
          "base_uri": "https://localhost:8080/"
        },
        "id": "w1s8LuUk4700",
        "outputId": "a657b127-8d57-4649-be58-ce33b194c5eb"
      },
      "execution_count": 41,
      "outputs": [
        {
          "output_type": "stream",
          "name": "stdout",
          "text": [
            "{'z1': 5.0, 'z2': 2.23606797749979}\n"
          ]
        }
      ]
    },
    {
      "cell_type": "code",
      "source": [
        "#35\n",
        "nested_dict = {'level1': {'level2': {'level3': {'level4': 'value'}}}}\n",
        "print(nested_dict)"
      ],
      "metadata": {
        "colab": {
          "base_uri": "https://localhost:8080/"
        },
        "id": "Ui6V6kXi6CjS",
        "outputId": "7a862ea8-4925-4bf6-d7c4-97a893504538"
      },
      "execution_count": 42,
      "outputs": [
        {
          "output_type": "stream",
          "name": "stdout",
          "text": [
            "{'level1': {'level2': {'level3': {'level4': 'value'}}}}\n"
          ]
        }
      ]
    },
    {
      "cell_type": "code",
      "source": [
        "#36\n",
        "print(nested_dict['level1']['level2']['level3']['level4'])"
      ],
      "metadata": {
        "colab": {
          "base_uri": "https://localhost:8080/"
        },
        "id": "TgyWq1KsOXlE",
        "outputId": "1a9bef29-c9ad-4abe-cdff-3b834c014486"
      },
      "execution_count": 43,
      "outputs": [
        {
          "output_type": "stream",
          "name": "stdout",
          "text": [
            "value\n"
          ]
        }
      ]
    },
    {
      "cell_type": "code",
      "source": [
        "#37\n",
        "range_dict={\"r1\":range(1,6),\"r2\":range(6,11)}\n",
        "print(range_dict)"
      ],
      "metadata": {
        "colab": {
          "base_uri": "https://localhost:8080/"
        },
        "id": "r0o0T-JdPHcW",
        "outputId": "5e5bfecc-7441-43e5-9a16-ea51e20369a4"
      },
      "execution_count": 44,
      "outputs": [
        {
          "output_type": "stream",
          "name": "stdout",
          "text": [
            "{'r1': range(1, 6), 'r2': range(6, 11)}\n"
          ]
        }
      ]
    },
    {
      "cell_type": "code",
      "source": [
        "#38\n",
        "list_dict={}\n",
        "for key,value in range_dict.items():\n",
        "    list_dict[key]=list(value)\n",
        "print(list_dict)\n",
        "\n",
        "list_dict1 = {key: list(value) for key, value in range_dict.items()}\n",
        "print(list_dict1)"
      ],
      "metadata": {
        "colab": {
          "base_uri": "https://localhost:8080/"
        },
        "id": "lKHi489_PvOa",
        "outputId": "e93e8545-198b-4582-fae9-c24235c52eb4"
      },
      "execution_count": 45,
      "outputs": [
        {
          "output_type": "stream",
          "name": "stdout",
          "text": [
            "{'r1': [1, 2, 3, 4, 5], 'r2': [6, 7, 8, 9, 10]}\n",
            "{'r1': [1, 2, 3, 4, 5], 'r2': [6, 7, 8, 9, 10]}\n"
          ]
        }
      ]
    },
    {
      "cell_type": "code",
      "source": [
        "#39\n",
        "gen_dict={\n",
        "    'gen1':(i for i in range(1,6)),\n",
        "    'gen2':(i for i in range(6,11))\n",
        "}\n",
        "print(gen_dict)"
      ],
      "metadata": {
        "colab": {
          "base_uri": "https://localhost:8080/"
        },
        "id": "yNJG0-iJPxai",
        "outputId": "8759ea02-0500-4e57-a56f-1ab50aa34cec"
      },
      "execution_count": 46,
      "outputs": [
        {
          "output_type": "stream",
          "name": "stdout",
          "text": [
            "{'gen1': <generator object <genexpr> at 0x7db602b8d8a0>, 'gen2': <generator object <genexpr> at 0x7db602b8e8e0>}\n"
          ]
        }
      ]
    },
    {
      "cell_type": "code",
      "source": [
        "#40\n",
        "con_dict={}\n",
        "for key,gen in range_dict.items():\n",
        "    con_dict[key]=list(gen)\n",
        "print(con_dict)\n",
        "\n",
        "converted_dict1 = {key: list(gen) for key, gen in gen_dict.items()}\n",
        "print(converted_dict1)"
      ],
      "metadata": {
        "colab": {
          "base_uri": "https://localhost:8080/"
        },
        "id": "-tMUZbpyQCGz",
        "outputId": "c6cd6583-8af3-455a-ef96-230b88a4f548"
      },
      "execution_count": 48,
      "outputs": [
        {
          "output_type": "stream",
          "name": "stdout",
          "text": [
            "{'r1': [1, 2, 3, 4, 5], 'r2': [6, 7, 8, 9, 10]}\n",
            "{'gen1': [1, 2, 3, 4, 5], 'gen2': [6, 7, 8, 9, 10]}\n"
          ]
        }
      ]
    },
    {
      "cell_type": "code",
      "source": [
        "#41\n",
        "iterator_dict = {\n",
        "    'it1': iter([0, 1, 2]),\n",
        "    'it2': iter([10, 11])\n",
        "}\n",
        "print(iterator_dict)"
      ],
      "metadata": {
        "colab": {
          "base_uri": "https://localhost:8080/"
        },
        "id": "2kBdnCOKWLk8",
        "outputId": "82eba76e-df51-46b1-c8a2-7b1ffa43aadc"
      },
      "execution_count": 49,
      "outputs": [
        {
          "output_type": "stream",
          "name": "stdout",
          "text": [
            "{'it1': <list_iterator object at 0x7db602b9b520>, 'it2': <list_iterator object at 0x7db602b9b910>}\n"
          ]
        }
      ]
    },
    {
      "cell_type": "code",
      "source": [
        "#42\n",
        "extracted_dict = {}\n",
        "for key, it in iterator_dict.items():\n",
        "    extracted_dict[key] = list(it)\n",
        "print(extracted_dict)\n",
        "\n",
        "extracted_dict1 = {key: list(it) for key, it in iterator_dict.items()}\n",
        "print(extracted_dict1)"
      ],
      "metadata": {
        "colab": {
          "base_uri": "https://localhost:8080/"
        },
        "id": "0rV7yrLzWS3k",
        "outputId": "2ade09d4-a4dd-4654-a07b-e24db02cbc45"
      },
      "execution_count": 55,
      "outputs": [
        {
          "output_type": "stream",
          "name": "stdout",
          "text": [
            "{'it1': [], 'it2': []}\n",
            "{'it1': [], 'it2': []}\n"
          ]
        }
      ]
    },
    {
      "cell_type": "code",
      "source": [
        "#43\n",
        "nested_lists_dict = {\n",
        "    'matrix': [[1, 2], [3, 4]],\n",
        "    'vector': [5, 6, 7]\n",
        "}\n",
        "print(nested_lists_dict)"
      ],
      "metadata": {
        "colab": {
          "base_uri": "https://localhost:8080/"
        },
        "id": "PlqPJPIVWgH2",
        "outputId": "6c6aa661-1363-4402-9568-0a2a7a912ee7"
      },
      "execution_count": 56,
      "outputs": [
        {
          "output_type": "stream",
          "name": "stdout",
          "text": [
            "{'matrix': [[1, 2], [3, 4]], 'vector': [5, 6, 7]}\n"
          ]
        }
      ]
    },
    {
      "cell_type": "code",
      "source": [
        "#44\n",
        "nested_sum_dict = {}\n",
        "for key, val in nested_lists_dict.items():\n",
        "    # If it's a list of lists (like 'matrix'), sum each sublist\n",
        "    if isinstance(val[0], list):\n",
        "        nested_sum_dict[key] = [sum(x) for x in val]\n",
        "    else:\n",
        "        nested_sum_dict[key] = sum(val)\n",
        "print(nested_sum_dict)"
      ],
      "metadata": {
        "colab": {
          "base_uri": "https://localhost:8080/"
        },
        "id": "sarFiZeeWoVf",
        "outputId": "4ec3339e-14a2-46b4-c63e-dde84e28373c"
      },
      "execution_count": 61,
      "outputs": [
        {
          "output_type": "stream",
          "name": "stdout",
          "text": [
            "{'matrix': [3, 7], 'vector': 18}\n"
          ]
        }
      ]
    },
    {
      "cell_type": "code",
      "source": [
        "#45\n",
        "nested_dict = {\n",
        "    'config': {\n",
        "        'db': {\n",
        "            'host': 'localhost',\n",
        "            'port': 5432\n",
        "        }\n",
        "    }\n",
        "}\n",
        "print(nested_dict)"
      ],
      "metadata": {
        "colab": {
          "base_uri": "https://localhost:8080/"
        },
        "id": "OgRIHw7FW7PH",
        "outputId": "65c39d41-4592-4947-8558-ba0757c18c0e"
      },
      "execution_count": 62,
      "outputs": [
        {
          "output_type": "stream",
          "name": "stdout",
          "text": [
            "{'config': {'db': {'host': 'localhost', 'port': 5432}}}\n"
          ]
        }
      ]
    },
    {
      "cell_type": "code",
      "source": [
        "#46\n",
        "print(nested_dict['config']['db']['host'])\n",
        "print(nested_dict['config']['db']['port'])"
      ],
      "metadata": {
        "colab": {
          "base_uri": "https://localhost:8080/"
        },
        "id": "HhKaKSXZXEgN",
        "outputId": "672c1bec-e42a-4542-d816-1ecbf160c29e"
      },
      "execution_count": 63,
      "outputs": [
        {
          "output_type": "stream",
          "name": "stdout",
          "text": [
            "localhost\n",
            "5432\n"
          ]
        }
      ]
    },
    {
      "cell_type": "code",
      "source": [
        "#47\n",
        "tuple_dict = {\n",
        "    'points': ((1, 2), (3, 4)),\n",
        "    'rgb': ((255, 0, 0), (0, 255, 0))\n",
        "}\n",
        "print(tuple_dict)"
      ],
      "metadata": {
        "colab": {
          "base_uri": "https://localhost:8080/"
        },
        "id": "ohR3p1g4XNGm",
        "outputId": "b06007e7-1652-4e5b-8791-d78e65343c38"
      },
      "execution_count": 64,
      "outputs": [
        {
          "output_type": "stream",
          "name": "stdout",
          "text": [
            "{'points': ((1, 2), (3, 4)), 'rgb': ((255, 0, 0), (0, 255, 0))}\n"
          ]
        }
      ]
    },
    {
      "cell_type": "code",
      "source": [
        "#48\n",
        "print(tuple_dict['points'][0])\n",
        "print(tuple_dict['rgb'][1][0])"
      ],
      "metadata": {
        "colab": {
          "base_uri": "https://localhost:8080/"
        },
        "id": "eCt9kCVGXRgd",
        "outputId": "37da8f1f-10cb-4b32-d2f0-e23f500a91d3"
      },
      "execution_count": 66,
      "outputs": [
        {
          "output_type": "stream",
          "name": "stdout",
          "text": [
            "(1, 2)\n",
            "0\n"
          ]
        }
      ]
    },
    {
      "cell_type": "code",
      "source": [
        "#49\n",
        "set_dict = {\n",
        "    'groups': [{1, 2, 3}, {4, 5, 6}],\n",
        "    'categories': [{'a', 'b'}, {'c', 'd'}]\n",
        "}\n",
        "print(set_dict)"
      ],
      "metadata": {
        "colab": {
          "base_uri": "https://localhost:8080/"
        },
        "id": "SltSbg7vXZxm",
        "outputId": "6c3ec2a6-dcc4-4d3b-ac0d-b566799959b2"
      },
      "execution_count": 69,
      "outputs": [
        {
          "output_type": "stream",
          "name": "stdout",
          "text": [
            "{'groups': [{1, 2, 3}, {4, 5, 6}], 'categories': [{'a', 'b'}, {'c', 'd'}]}\n"
          ]
        }
      ]
    },
    {
      "cell_type": "code",
      "source": [
        "#50\n",
        "union_set1={\n",
        "    key:set().union(*value) for key,value in set_dict.items()\n",
        "}\n",
        "print(union_set1)\n",
        "\n",
        "union_set = set.union(*set_dict['groups'])\n",
        "print(union_set)"
      ],
      "metadata": {
        "colab": {
          "base_uri": "https://localhost:8080/"
        },
        "id": "fvDNFz-OXdor",
        "outputId": "f3d777bb-6326-4918-86b9-5202cf0fe302"
      },
      "execution_count": 72,
      "outputs": [
        {
          "output_type": "stream",
          "name": "stdout",
          "text": [
            "{'groups': {1, 2, 3, 4, 5, 6}, 'categories': {'a', 'c', 'b', 'd'}}\n",
            "{1, 2, 3, 4, 5, 6}\n"
          ]
        }
      ]
    }
  ]
}