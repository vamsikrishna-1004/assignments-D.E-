{
 "cells": [
  {
   "cell_type": "code",
   "execution_count": 288,
   "id": "134470b7",
   "metadata": {},
   "outputs": [],
   "source": [
    "import string"
   ]
  },
  {
   "cell_type": "code",
   "execution_count": 289,
   "id": "3a72995e",
   "metadata": {},
   "outputs": [],
   "source": [
    "from collections import Counter"
   ]
  },
  {
   "cell_type": "code",
   "execution_count": 381,
   "id": "5ede746b",
   "metadata": {},
   "outputs": [],
   "source": [
    "import codecs"
   ]
  },
  {
   "cell_type": "code",
   "execution_count": 290,
   "id": "f9ba6188",
   "metadata": {},
   "outputs": [
    {
     "data": {
      "text/plain": [
       "'gnimmargorP nohtyP'"
      ]
     },
     "execution_count": 290,
     "metadata": {},
     "output_type": "execute_result"
    }
   ],
   "source": [
    " # Question 1: Reverse the string \"Python Programming\"\n",
    "string = \"Python Programming\"\n",
    "string[::-1]"
   ]
  },
  {
   "cell_type": "code",
   "execution_count": 291,
   "id": "19b3467e",
   "metadata": {},
   "outputs": [
    {
     "name": "stdout",
     "output_type": "stream",
     "text": [
      "it is a palidrome\n"
     ]
    }
   ],
   "source": [
    "# Question 2: Check if \"racecar\" is a palindrome\n",
    "word = 'racecar'\n",
    "if word == word[::-1]:\n",
    "    print(\"it is a palidrome\")\n",
    "else:\n",
    "    print(\"it is not a palidrome\")"
   ]
  },
  {
   "cell_type": "code",
   "execution_count": 292,
   "id": "f6405da2",
   "metadata": {},
   "outputs": [
    {
     "data": {
      "text/plain": [
       "6"
      ]
     },
     "execution_count": 292,
     "metadata": {},
     "output_type": "execute_result"
    }
   ],
   "source": [
    "# Question 3: Count the number of words in \"Python is a great programming language\"\n",
    "word = \"Python is a great programming language\"\n",
    "len(word.split())"
   ]
  },
  {
   "cell_type": "code",
   "execution_count": 293,
   "id": "3e7fcc15",
   "metadata": {},
   "outputs": [
    {
     "data": {
      "text/plain": [
       "'Hello World'"
      ]
     },
     "execution_count": 293,
     "metadata": {},
     "output_type": "execute_result"
    }
   ],
   "source": [
    "# Question 4: Convert \"hello world\" to title case\n",
    "tit = \"hello world\"\n",
    "tit.title()"
   ]
  },
  {
   "cell_type": "code",
   "execution_count": 294,
   "id": "b4452fff",
   "metadata": {},
   "outputs": [
    {
     "data": {
      "text/plain": [
       "12"
      ]
     },
     "execution_count": 294,
     "metadata": {},
     "output_type": "execute_result"
    }
   ],
   "source": [
    "# Question 5: Find the length of string \"Data Science\"\n",
    "sent = \"Data Science\"\n",
    "len(sent)"
   ]
  },
  {
   "cell_type": "code",
   "execution_count": 295,
   "id": "5828a4fa",
   "metadata": {},
   "outputs": [
    {
     "data": {
      "text/plain": [
       "'Machine_Learning'"
      ]
     },
     "execution_count": 295,
     "metadata": {},
     "output_type": "execute_result"
    }
   ],
   "source": [
    "# Question 6: Replace all spaces with underscores in \"Machine Learning\"\n",
    "sen = \"Machine Learning\"\n",
    "sen.replace(' ', '_')"
   ]
  },
  {
   "cell_type": "code",
   "execution_count": 296,
   "id": "47bdb765",
   "metadata": {},
   "outputs": [
    {
     "name": "stdout",
     "output_type": "stream",
     "text": [
      "True\n"
     ]
    }
   ],
   "source": [
    "# Question 7: Check if \"python\" is in \"Python Programming Language\"\n",
    "che = \"Python Programming Language\"\n",
    "print('Python' in che)\n"
   ]
  },
  {
   "cell_type": "code",
   "execution_count": 297,
   "id": "7b664ec6",
   "metadata": {},
   "outputs": [
    {
     "data": {
      "text/plain": [
       "'Artifi'"
      ]
     },
     "execution_count": 297,
     "metadata": {},
     "output_type": "execute_result"
    }
   ],
   "source": [
    "# Question 8: Extract the first 5 characters from \"Artificial Intelligence\"\n",
    "sent = \"Artificial Intelligence\"\n",
    "sent[0:6]"
   ]
  },
  {
   "cell_type": "code",
   "execution_count": 298,
   "id": "1b06775a",
   "metadata": {},
   "outputs": [
    {
     "data": {
      "text/plain": [
       "'uppercase'"
      ]
     },
     "execution_count": 298,
     "metadata": {},
     "output_type": "execute_result"
    }
   ],
   "source": [
    "# Question 9: Convert \"UPPERCASE\" to lowercase\n",
    "a = 'UPPERCASE'\n",
    "a.swapcase()"
   ]
  },
  {
   "cell_type": "code",
   "execution_count": 299,
   "id": "2eaa7811",
   "metadata": {},
   "outputs": [
    {
     "name": "stdout",
     "output_type": "stream",
     "text": [
      "Cmptr Scnc\n"
     ]
    }
   ],
   "source": [
    "# Question 10: Remove all vowels from \"Computer Science\"\n",
    "a = \"Computer Science\"\n",
    "vowels = 'aeiouAEIOU'\n",
    "result = ''.join(i for i in a if i not in vowels)\n",
    "print(result)"
   ]
  },
  {
   "cell_type": "code",
   "execution_count": 300,
   "id": "159b83ba",
   "metadata": {},
   "outputs": [
    {
     "name": "stdout",
     "output_type": "stream",
     "text": [
      "i\n"
     ]
    }
   ],
   "source": [
    "# Question 11: Find the most frequent character in \"mississippi\"\n",
    "char = 'mississippi'\n",
    "frequ = {}\n",
    "for i in char:\n",
    "    frequ[i] = frequ.get(i,0)+1\n",
    "most_fre = max(frequ, key = frequ.get)\n",
    "print(most_fre)"
   ]
  },
  {
   "cell_type": "code",
   "execution_count": 301,
   "id": "860bffa9",
   "metadata": {},
   "outputs": [
    {
     "name": "stdout",
     "output_type": "stream",
     "text": [
      "\n",
      "\n",
      "yes it is same\n"
     ]
    }
   ],
   "source": [
    "# Question 12: Check if two strings are anagrams: \"listen\" and \"silent\"\n",
    "a = input()\n",
    "b = input()\n",
    "\n",
    "if sorted(a) == sorted(b):\n",
    "    print('yes it is same')\n",
    "else:\n",
    "    print('it is not same')"
   ]
  },
  {
   "cell_type": "code",
   "execution_count": 302,
   "id": "20a61961",
   "metadata": {},
   "outputs": [
    {
     "data": {
      "text/plain": [
       "'Python Programming Language'"
      ]
     },
     "execution_count": 302,
     "metadata": {},
     "output_type": "execute_result"
    }
   ],
   "source": [
    "# Question 13: Capitalize first letter of each word in \"python programming language\"\n",
    "let = \"python programming language\"\n",
    "let.title()"
   ]
  },
  {
   "cell_type": "code",
   "execution_count": 303,
   "id": "e41c993d",
   "metadata": {},
   "outputs": [
    {
     "data": {
      "text/plain": [
       "8"
      ]
     },
     "execution_count": 303,
     "metadata": {},
     "output_type": "execute_result"
    }
   ],
   "source": [
    "# Question 14: Count consonants in \"Hello World\"\n",
    "let = \"Hello World\"\n",
    "vowels = 'aeiouAEIOU'\n",
    "result = ''.join(i for i in let if i not in vowels)\n",
    "len(result)"
   ]
  },
  {
   "cell_type": "code",
   "execution_count": 304,
   "id": "e4432578",
   "metadata": {},
   "outputs": [
    {
     "data": {
      "text/plain": [
       "'programming'"
      ]
     },
     "execution_count": 304,
     "metadata": {},
     "output_type": "execute_result"
    }
   ],
   "source": [
    "# Question 15: Find the longest word in \"Python is a programming language\"\n",
    "sent = \"Python is a programming language\"\n",
    "max(sent.split(), key = len)"
   ]
  },
  {
   "cell_type": "code",
   "execution_count": 305,
   "id": "3c0ed389",
   "metadata": {},
   "outputs": [
    {
     "ename": "AttributeError",
     "evalue": "'str' object has no attribute 'punctuation'",
     "output_type": "error",
     "traceback": [
      "\u001b[1;31m---------------------------------------------------------------------------\u001b[0m",
      "\u001b[1;31mAttributeError\u001b[0m                            Traceback (most recent call last)",
      "Input \u001b[1;32mIn [305]\u001b[0m, in \u001b[0;36m<cell line: 3>\u001b[1;34m()\u001b[0m\n\u001b[0;32m      1\u001b[0m \u001b[38;5;66;03m# Question 16: Remove all punctuation from \"Hello, World! How are you?\"\u001b[39;00m\n\u001b[0;32m      2\u001b[0m line \u001b[38;5;241m=\u001b[39m \u001b[38;5;124m\"\u001b[39m\u001b[38;5;124mHello, World! How are you?\u001b[39m\u001b[38;5;124m\"\u001b[39m\n\u001b[1;32m----> 3\u001b[0m conv \u001b[38;5;241m=\u001b[39m \u001b[38;5;124;43m'\u001b[39;49m\u001b[38;5;124;43m'\u001b[39;49m\u001b[38;5;241;43m.\u001b[39;49m\u001b[43mjoin\u001b[49m\u001b[43m(\u001b[49m\u001b[43mi\u001b[49m\u001b[43m \u001b[49m\u001b[38;5;28;43;01mfor\u001b[39;49;00m\u001b[43m \u001b[49m\u001b[43mi\u001b[49m\u001b[43m \u001b[49m\u001b[38;5;129;43;01min\u001b[39;49;00m\u001b[43m \u001b[49m\u001b[43mline\u001b[49m\u001b[43m \u001b[49m\u001b[38;5;28;43;01mif\u001b[39;49;00m\u001b[43m \u001b[49m\u001b[43mi\u001b[49m\u001b[43m \u001b[49m\u001b[38;5;129;43;01mnot\u001b[39;49;00m\u001b[43m \u001b[49m\u001b[38;5;129;43;01min\u001b[39;49;00m\u001b[43m \u001b[49m\u001b[43mstring\u001b[49m\u001b[38;5;241;43m.\u001b[39;49m\u001b[43mpunctuation\u001b[49m\u001b[43m)\u001b[49m\n\u001b[0;32m      4\u001b[0m conv\n",
      "Input \u001b[1;32mIn [305]\u001b[0m, in \u001b[0;36m<genexpr>\u001b[1;34m(.0)\u001b[0m\n\u001b[0;32m      1\u001b[0m \u001b[38;5;66;03m# Question 16: Remove all punctuation from \"Hello, World! How are you?\"\u001b[39;00m\n\u001b[0;32m      2\u001b[0m line \u001b[38;5;241m=\u001b[39m \u001b[38;5;124m\"\u001b[39m\u001b[38;5;124mHello, World! How are you?\u001b[39m\u001b[38;5;124m\"\u001b[39m\n\u001b[1;32m----> 3\u001b[0m conv \u001b[38;5;241m=\u001b[39m \u001b[38;5;124m'\u001b[39m\u001b[38;5;124m'\u001b[39m\u001b[38;5;241m.\u001b[39mjoin(i \u001b[38;5;28;01mfor\u001b[39;00m i \u001b[38;5;129;01min\u001b[39;00m line \u001b[38;5;28;01mif\u001b[39;00m i \u001b[38;5;129;01mnot\u001b[39;00m \u001b[38;5;129;01min\u001b[39;00m \u001b[43mstring\u001b[49m\u001b[38;5;241;43m.\u001b[39;49m\u001b[43mpunctuation\u001b[49m)\n\u001b[0;32m      4\u001b[0m conv\n",
      "\u001b[1;31mAttributeError\u001b[0m: 'str' object has no attribute 'punctuation'"
     ]
    }
   ],
   "source": [
    "# Question 16: Remove all punctuation from \"Hello, World! How are you?\"\n",
    "line = \"Hello, World! How are you?\"\n",
    "conv = ''.join(i for i in line if i not in string.punctuation)\n",
    "conv"
   ]
  },
  {
   "cell_type": "code",
   "execution_count": 306,
   "id": "e6451d0a",
   "metadata": {},
   "outputs": [
    {
     "data": {
      "text/plain": [
       "True"
      ]
     },
     "execution_count": 306,
     "metadata": {},
     "output_type": "execute_result"
    }
   ],
   "source": [
    "# Question 17: Check if string starts with \"Python\"\n",
    "line = 'Python'\n",
    "line.startswith('Python')"
   ]
  },
  {
   "cell_type": "code",
   "execution_count": 307,
   "id": "92751ed3",
   "metadata": {},
   "outputs": [
    {
     "data": {
      "text/plain": [
       "4"
      ]
     },
     "execution_count": 307,
     "metadata": {},
     "output_type": "execute_result"
    }
   ],
   "source": [
    "# Question 18: Find the index of first occurrence of 'o' in \"Hello World\"\n",
    "line = \"Hello World\"\n",
    "line.index('o')"
   ]
  },
  {
   "cell_type": "code",
   "execution_count": 308,
   "id": "fb9fbe6a",
   "metadata": {},
   "outputs": [
    {
     "data": {
      "text/plain": [
       "['apple', 'banana', 'orange']"
      ]
     },
     "execution_count": 308,
     "metadata": {},
     "output_type": "execute_result"
    }
   ],
   "source": [
    "# Question 19: Split string \"apple,banana,orange\" by comma\n",
    "var = \"apple,banana,orange\"\n",
    "var.split(',')"
   ]
  },
  {
   "cell_type": "code",
   "execution_count": 309,
   "id": "961b5303",
   "metadata": {},
   "outputs": [
    {
     "data": {
      "text/plain": [
       "'Python is awesome'"
      ]
     },
     "execution_count": 309,
     "metadata": {},
     "output_type": "execute_result"
    }
   ],
   "source": [
    "# Question 20: Join list ['Python', 'is', 'awesome'] with spaces\n",
    "char = ['Python', 'is', 'awesome']\n",
    "new = ' '.join(char)\n",
    "new"
   ]
  },
  {
   "cell_type": "code",
   "execution_count": 310,
   "id": "af432566",
   "metadata": {},
   "outputs": [
    {
     "data": {
      "text/plain": [
       "True"
      ]
     },
     "execution_count": 310,
     "metadata": {},
     "output_type": "execute_result"
    }
   ],
   "source": [
    "# Question 21: Check if string contains only digits: \"12345\"\n",
    "senten = \"12345\"\n",
    "senten.isdigit()"
   ]
  },
  {
   "cell_type": "code",
   "execution_count": 311,
   "id": "a18c418c",
   "metadata": {},
   "outputs": [
    {
     "data": {
      "text/plain": [
       "True"
      ]
     },
     "execution_count": 311,
     "metadata": {},
     "output_type": "execute_result"
    }
   ],
   "source": [
    "# Question 22: Check if string contains only letters: \"HelloWorld\"\n",
    "line = \"HelloWorld\"\n",
    "line.isalpha()"
   ]
  },
  {
   "cell_type": "code",
   "execution_count": 312,
   "id": "cf474f91",
   "metadata": {},
   "outputs": [
    {
     "data": {
      "text/plain": [
       "'hElLo wOrLd'"
      ]
     },
     "execution_count": 312,
     "metadata": {},
     "output_type": "execute_result"
    }
   ],
   "source": [
    "# Question 23: Convert \"hello world\" to \"hElLo WoRlD\" (alternating case)\n",
    "latest = \"hello world\"\n",
    "result = ''\n",
    "i = 0\n",
    "for x in latest:\n",
    "    if i % 2 == 0:\n",
    "        result += x.lower()\n",
    "    else:\n",
    "        result += x.upper()\n",
    "    i += 1\n",
    "result"
   ]
  },
  {
   "cell_type": "code",
   "execution_count": 313,
   "id": "b571cedb",
   "metadata": {},
   "outputs": [
    {
     "data": {
      "text/plain": [
       "[1, 3, 5]"
      ]
     },
     "execution_count": 313,
     "metadata": {},
     "output_type": "execute_result"
    }
   ],
   "source": [
    "# Question 24: Find all positions of 'a' in \"banana\"\n",
    "line = \"banana\"\n",
    "new = [i for i, val in enumerate(line) if val == 'a']\n",
    "new"
   ]
  },
  {
   "cell_type": "code",
   "execution_count": 314,
   "id": "e6d4a489",
   "metadata": {},
   "outputs": [
    {
     "data": {
      "text/plain": [
       "'Hello World'"
      ]
     },
     "execution_count": 314,
     "metadata": {},
     "output_type": "execute_result"
    }
   ],
   "source": [
    "# Question 25: Remove leading and trailing whitespace from \"  Hello World  \"\n",
    "var = \"  Hello World  \"\n",
    "var.strip()"
   ]
  },
  {
   "cell_type": "code",
   "execution_count": 315,
   "id": "2d4975b3",
   "metadata": {},
   "outputs": [
    {
     "data": {
      "text/plain": [
       "True"
      ]
     },
     "execution_count": 315,
     "metadata": {},
     "output_type": "execute_result"
    }
   ],
   "source": [
    "# Question 26: Check if string ends with \"ing\": \"programming\"\n",
    "word = \"programming\"\n",
    "word.endswith('ing')"
   ]
  },
  {
   "cell_type": "code",
   "execution_count": 316,
   "id": "b946b4a8",
   "metadata": {},
   "outputs": [
    {
     "data": {
      "text/plain": [
       "'Hell0 World'"
      ]
     },
     "execution_count": 316,
     "metadata": {},
     "output_type": "execute_result"
    }
   ],
   "source": [
    "# Question 27: Replace first occurrence of 'o' with '0' in \"Hello World\"\n",
    "var = \"Hello World\"\n",
    "var.replace('o', '0',1)"
   ]
  },
  {
   "cell_type": "code",
   "execution_count": 317,
   "id": "62478af4",
   "metadata": {},
   "outputs": [
    {
     "data": {
      "text/plain": [
       "'a'"
      ]
     },
     "execution_count": 317,
     "metadata": {},
     "output_type": "execute_result"
    }
   ],
   "source": [
    "# Question 28: Find the shortest word in \"Python is a programming language\"\n",
    "latest = \"Python is a programming language\"\n",
    "just = latest.split()\n",
    "min(just, key = len)"
   ]
  },
  {
   "cell_type": "code",
   "execution_count": 318,
   "id": "d6c1ec7f",
   "metadata": {},
   "outputs": [
    {
     "data": {
      "text/plain": [
       "2"
      ]
     },
     "execution_count": 318,
     "metadata": {},
     "output_type": "execute_result"
    }
   ],
   "source": [
    "# Question 29: Count words that start with 'p' in \"Python programming is powerful\"\n",
    "var = \"Python programming is powerful\"\n",
    "var.count('p')"
   ]
  },
  {
   "cell_type": "code",
   "execution_count": 319,
   "id": "c48eaea7",
   "metadata": {},
   "outputs": [
    {
     "data": {
      "text/plain": [
       "'nohtyP dlroW olleH'"
      ]
     },
     "execution_count": 319,
     "metadata": {},
     "output_type": "execute_result"
    }
   ],
   "source": [
    "# Question 30: Reverse words in \"Hello World Python\"\n",
    "char = \"Hello World Python\"\n",
    "char[::-1]"
   ]
  },
  {
   "cell_type": "code",
   "execution_count": 320,
   "id": "02498bab",
   "metadata": {},
   "outputs": [
    {
     "data": {
      "text/plain": [
       "True"
      ]
     },
     "execution_count": 320,
     "metadata": {},
     "output_type": "execute_result"
    }
   ],
   "source": [
    "# Question 31: Check if string is a valid email format: \"user@example.com\"\n",
    "a = \"user@example.com\"\n",
    "a.endswith(\"@example.com\")"
   ]
  },
  {
   "cell_type": "code",
   "execution_count": 321,
   "id": "8e391607",
   "metadata": {},
   "outputs": [
    {
     "data": {
      "text/plain": [
       "'com/path'"
      ]
     },
     "execution_count": 321,
     "metadata": {},
     "output_type": "execute_result"
    }
   ],
   "source": [
    "# Question 32: Extract domain from \"https://www.example.com/path\"\n",
    "a = \"https://www.example.com/path\"\n",
    "a.split('.')[2]"
   ]
  },
  {
   "cell_type": "code",
   "execution_count": 322,
   "id": "03a634d4",
   "metadata": {},
   "outputs": [
    {
     "data": {
      "text/plain": [
       "5"
      ]
     },
     "execution_count": 322,
     "metadata": {},
     "output_type": "execute_result"
    }
   ],
   "source": [
    "# Question 33: Count lines in multi-line string\n",
    "text = \"\"\"Python is great\\n.\n",
    "It is easy to learn.\n",
    "It is widely used\n",
    "It is easy to learn.\n",
    "It is widely used.\"\"\"\n",
    "\n",
    "text.count('\\n')"
   ]
  },
  {
   "cell_type": "code",
   "execution_count": 323,
   "id": "e13e767a",
   "metadata": {},
   "outputs": [
    {
     "data": {
      "text/plain": [
       "{'l', 'o'}"
      ]
     },
     "execution_count": 323,
     "metadata": {},
     "output_type": "execute_result"
    }
   ],
   "source": [
    "# Question 34: Find common characters between \"hello\" and \"world\"\n",
    "b = \"hello\" \n",
    "c = \"world\"\n",
    "resu = set(b)\n",
    "res = set(c)\n",
    "resu.intersection(res)"
   ]
  },
  {
   "cell_type": "code",
   "execution_count": 324,
   "id": "6b000ffb",
   "metadata": {},
   "outputs": [
    {
     "name": "stdout",
     "output_type": "stream",
     "text": [
      "Valid phone number\n"
     ]
    }
   ],
   "source": [
    "# Question 35: Check if string is a valid phone number: \"+1-555-123-4567\"\n",
    "d = \"+1-555-123-4567\"\n",
    "parts = d.split('-')\n",
    "\n",
    "if (\n",
    "    len(parts) == 4 and\n",
    "    parts[0].startswith('+') and parts[0][1:].isdigit() and\n",
    "    parts[1].isdigit() and len(parts[1]) == 3 and\n",
    "    parts[2].isdigit() and len(parts[2]) == 3 and\n",
    "    parts[3].isdigit() and len(parts[3]) == 4\n",
    "):\n",
    "    print(\"Valid phone number\")\n",
    "else:\n",
    "    print(\"Invalid phone number\")\n"
   ]
  },
  {
   "cell_type": "code",
   "execution_count": 325,
   "id": "3b4f208d",
   "metadata": {},
   "outputs": [],
   "source": [
    "# Question 36: Extract numbers from \"abc123def456ghi789\"\n",
    "text = \"abc123def456ghi789\"\n",
    "cleaned = ''.join(char if char.isdigit() else ' ' for char in text)\n"
   ]
  },
  {
   "cell_type": "code",
   "execution_count": null,
   "id": "8d240de7",
   "metadata": {},
   "outputs": [],
   "source": []
  },
  {
   "cell_type": "code",
   "execution_count": 326,
   "id": "025ef42f",
   "metadata": {},
   "outputs": [
    {
     "name": "stdout",
     "output_type": "stream",
     "text": [
      "snakeCase\n"
     ]
    }
   ],
   "source": [
    "# Question 37: Convert \"snake_case\" to \"camelCase\"\n",
    "snake_case = \"snake_case\"\n",
    "\n",
    "# Split the string at underscores\n",
    "words = snake_case.split(\"_\")\n",
    "\n",
    "# Capitalize all except the first word, then join\n",
    "camel_case = words[0] + ''.join(word.capitalize() for word in words[1:])\n",
    "\n",
    "print(camel_case)\n"
   ]
  },
  {
   "cell_type": "code",
   "execution_count": 327,
   "id": "cae6dc55",
   "metadata": {},
   "outputs": [
    {
     "data": {
      "text/plain": [
       "True"
      ]
     },
     "execution_count": 327,
     "metadata": {},
     "output_type": "execute_result"
    }
   ],
   "source": [
    "# Question 38: Check if string is a valid palindrome ignoring case: \"A man a plan a canal Panama\"\n",
    "pol = \"A man a plan a canal Panama\"\n",
    "first = pol.replace(' ', '').lower()\n",
    "answer = first == first[::-1]\n",
    "answer"
   ]
  },
  {
   "cell_type": "code",
   "execution_count": 329,
   "id": "814cd8ce",
   "metadata": {},
   "outputs": [
    {
     "name": "stdout",
     "output_type": "stream",
     "text": [
      "Most common word: the\n",
      "Count: 2\n"
     ]
    }
   ],
   "source": [
    "# Question 39: Find the most common word in \"the quick brown fox jumps over the lazy dog\"\n",
    "sentence = \"the quick brown fox jumps over the lazy dog\"\n",
    "words = sentence.split()\n",
    "\n",
    "# Create a dictionary to count each word\n",
    "word_count = {}\n",
    "\n",
    "for word in words:\n",
    "    if word in word_count:\n",
    "        word_count[word] += 1\n",
    "    else:\n",
    "        word_count[word] = 1\n",
    "\n",
    "# Find the word with the maximum count\n",
    "most_common_word = max(word_count, key=word_count.get)\n",
    "\n",
    "print(\"Most common word:\", most_common_word)\n",
    "print(\"Count:\", word_count[most_common_word])"
   ]
  },
  {
   "cell_type": "code",
   "execution_count": 334,
   "id": "5d44c60e",
   "metadata": {},
   "outputs": [
    {
     "data": {
      "text/plain": [
       "'NASA'"
      ]
     },
     "execution_count": 334,
     "metadata": {},
     "output_type": "execute_result"
    }
   ],
   "source": [
    "# Question 40: Generate acronym from \"National Aeronautics and Space Administration\"\n",
    "a = \"National Aeronautics and Space Administration\"\n",
    "word = a.split()\n",
    "\n",
    "ignor = ['and']\n",
    "\n",
    "acro = ''.join(i[0].upper() for i in word if i.lower() not in ignor)\n",
    "acro"
   ]
  },
  {
   "cell_type": "code",
   "execution_count": 341,
   "id": "44daf109",
   "metadata": {},
   "outputs": [
    {
     "name": "stdout",
     "output_type": "stream",
     "text": [
      "True\n"
     ]
    }
   ],
   "source": [
    "# Question 41: Check if string contains balanced parentheses: \"((()))\"\n",
    "new = \"((()))\"\n",
    "opened = new.count('(')\n",
    "closed = new.count(')')\n",
    "\n",
    "# check order and count\n",
    "balanced = opened == closed and new.find(')') > new.find('(')\n",
    "\n",
    "print(balanced)"
   ]
  },
  {
   "cell_type": "code",
   "execution_count": 344,
   "id": "e6d92ce7",
   "metadata": {},
   "outputs": [
    {
     "name": "stdout",
     "output_type": "stream",
     "text": [
      ".... . .-.. .-.. --- / .-- --- .-. .-.. -..\n"
     ]
    }
   ],
   "source": [
    "# Question 42: Convert \"hello world\" to Morse code\n",
    "morse_dict = {\n",
    "    'A': '.-',    'B': '-...',  'C': '-.-.', 'D': '-..',   'E': '.',\n",
    "    'F': '..-.',  'G': '--.',   'H': '....', 'I': '..',    'J': '.---',\n",
    "    'K': '-.-',   'L': '.-..',  'M': '--',   'N': '-.',    'O': '---',\n",
    "    'P': '.--.',  'Q': '--.-',  'R': '.-.',  'S': '...',   'T': '-',\n",
    "    'U': '..-',   'V': '...-',  'W': '.--',  'X': '-..-',  'Y': '-.--',\n",
    "    'Z': '--..',\n",
    "    '0': '-----', '1': '.----', '2': '..---','3': '...--', '4': '....-',\n",
    "    '5': '.....', '6': '-....', '7': '--...', '8': '---..','9': '----.',\n",
    "    ' ': '/'\n",
    "}\n",
    "text = \"hello world\"\n",
    "morse_code = ' '.join(morse_dict[char.upper()] for char in text)\n",
    "\n",
    "print(morse_code)"
   ]
  },
  {
   "cell_type": "code",
   "execution_count": 345,
   "id": "5bf31aa8",
   "metadata": {},
   "outputs": [],
   "source": [
    "# Question 43: Find the longest common substring between \"programming\" and \"grammar\"\n"
   ]
  },
  {
   "cell_type": "code",
   "execution_count": 350,
   "id": "e6a57e0e",
   "metadata": {},
   "outputs": [
    {
     "name": "stdout",
     "output_type": "stream",
     "text": [
      "True\n"
     ]
    }
   ],
   "source": [
    "# Question 44: Check if string is a valid URL: \"https://www.google.com\"\n",
    "url = \"https://www.google.com\"\n",
    "new = url.startswith('http://') or url.startswith('https://') and '.' in url\n",
    "print(new)"
   ]
  },
  {
   "cell_type": "code",
   "execution_count": 354,
   "id": "7b8deae8",
   "metadata": {},
   "outputs": [
    {
     "data": {
      "text/plain": [
       "['Python', 'programming', 'amazing', 'powerful']"
      ]
     },
     "execution_count": 354,
     "metadata": {},
     "output_type": "execute_result"
    }
   ],
   "source": [
    "# Question 45: Extract all words with length > 5 from \"Python programming is amazing and powerful\"\n",
    "wor = \"Python programming is amazing and powerful\"\n",
    "nex = wor.split()\n",
    "result = [i for i in nex if len(i) > 5]\n",
    "result\n"
   ]
  },
  {
   "cell_type": "code",
   "execution_count": 365,
   "id": "63525a7d",
   "metadata": {},
   "outputs": [
    {
     "name": "stdout",
     "output_type": "stream",
     "text": [
      "ellohay orldway\n"
     ]
    }
   ],
   "source": [
    "# Question 46: Convert \"hello world\" to Pig Latin\n",
    "sent = \"hello world\"  # elloworldhay\n",
    "word = sent.split()\n",
    "res = []\n",
    "\n",
    "for i in word:\n",
    "    pig = i[1:] + i[0] + 'ay'\n",
    "    res.append(pig)\n",
    "print(' '.join(res))"
   ]
  },
  {
   "cell_type": "code",
   "execution_count": 375,
   "id": "3458b5f6",
   "metadata": {},
   "outputs": [
    {
     "name": "stdout",
     "output_type": "stream",
     "text": [
      "Valid IPv4\n"
     ]
    }
   ],
   "source": [
    "# Question 47: Check if string is a valid IPv4 address: \"192.168.1.1\"\n",
    "proto = \"192.168.1.1\"  # 255.255.255.255\n",
    "lat = proto.split('.')\n",
    "\n",
    "if (\n",
    "    len(lat) == 4 and\n",
    "    lat[0].isdigit() and 0 <= int(lat[0]) <= 255 and\n",
    "    lat[1].isdigit() and 0 <= int(lat[1]) <= 255 and\n",
    "    lat[2].isdigit() and 0 <= int(lat[2]) <= 255 and\n",
    "    lat[3].isdigit() and 0 <= int(lat[3]) <= 255\n",
    "):\n",
    "    print(\"Valid IPv4\")\n",
    "else:\n",
    "    print(\"Invalid IPv4\")"
   ]
  },
  {
   "cell_type": "code",
   "execution_count": 376,
   "id": "e98e00cf",
   "metadata": {},
   "outputs": [
    {
     "name": "stdout",
     "output_type": "stream",
     "text": [
      "['a', 'ab', 'abc', 'b', 'bc', 'c']\n"
     ]
    }
   ],
   "source": [
    "# Question 48: Find all substrings of \"abc\"\n",
    "x = 'abc' \n",
    "n = len(x)\n",
    "\n",
    "substring = []\n",
    "for i in range(n):                 \n",
    "    for j in range(i+1, n+1):  \n",
    "        substring.append(x[i:j])\n",
    "\n",
    "print(substring)\n"
   ]
  },
  {
   "cell_type": "code",
   "execution_count": 382,
   "id": "5ff60c70",
   "metadata": {},
   "outputs": [
    {
     "name": "stdout",
     "output_type": "stream",
     "text": [
      "uryyb jbeyq\n"
     ]
    }
   ],
   "source": [
    "# Question 49: Convert \"hello world\" to ROT13 encoding \n",
    "text = \"hello world\"\n",
    "rot13_text = codecs.encode(text, 'rot_13')\n",
    "\n",
    "print(rot13_text)\n"
   ]
  },
  {
   "cell_type": "code",
   "execution_count": 384,
   "id": "d935e32c",
   "metadata": {},
   "outputs": [
    {
     "name": "stdout",
     "output_type": "stream",
     "text": [
      "Valid credit card number\n"
     ]
    }
   ],
   "source": [
    "# Question 50: Check if string is a valid credit card number: \"4532015112830366\"\n",
    "card = \"4532015112830366\"\n",
    "digits = list(card[::-1])  # Reverse the card number\n",
    "\n",
    "total = 0\n",
    "for i in range(len(digits)):\n",
    "    n = int(digits[i])\n",
    "    if i % 2 == 1:  # Double every second digit\n",
    "        n *= 2\n",
    "        if n > 9:\n",
    "            n -= 9\n",
    "    total += n\n",
    "\n",
    "if total % 10 == 0:\n",
    "    print(\"Valid credit card number\")\n",
    "else:\n",
    "    print(\"Invalid credit card number\")"
   ]
  },
  {
   "cell_type": "code",
   "execution_count": null,
   "id": "83230f66",
   "metadata": {},
   "outputs": [],
   "source": []
  },
  {
   "cell_type": "code",
   "execution_count": null,
   "id": "b821ac5f",
   "metadata": {},
   "outputs": [],
   "source": []
  },
  {
   "cell_type": "code",
   "execution_count": null,
   "id": "e8d4c116",
   "metadata": {},
   "outputs": [],
   "source": []
  },
  {
   "cell_type": "code",
   "execution_count": null,
   "id": "2bf5cb98",
   "metadata": {},
   "outputs": [],
   "source": []
  },
  {
   "cell_type": "code",
   "execution_count": null,
   "id": "3adfbca5",
   "metadata": {},
   "outputs": [],
   "source": []
  },
  {
   "cell_type": "raw",
   "id": "5f04f5f9",
   "metadata": {},
   "source": []
  },
  {
   "cell_type": "code",
   "execution_count": null,
   "id": "52513d56",
   "metadata": {},
   "outputs": [],
   "source": []
  },
  {
   "cell_type": "code",
   "execution_count": null,
   "id": "7cb277c9",
   "metadata": {},
   "outputs": [],
   "source": []
  },
  {
   "cell_type": "code",
   "execution_count": null,
   "id": "a03d1c90",
   "metadata": {},
   "outputs": [],
   "source": []
  },
  {
   "cell_type": "code",
   "execution_count": null,
   "id": "1af48a08",
   "metadata": {},
   "outputs": [],
   "source": []
  },
  {
   "cell_type": "code",
   "execution_count": null,
   "id": "7e900bdc",
   "metadata": {},
   "outputs": [],
   "source": []
  },
  {
   "cell_type": "code",
   "execution_count": null,
   "id": "ad3fdc5b",
   "metadata": {},
   "outputs": [],
   "source": []
  },
  {
   "cell_type": "code",
   "execution_count": null,
   "id": "69ffd946",
   "metadata": {},
   "outputs": [],
   "source": []
  },
  {
   "cell_type": "code",
   "execution_count": null,
   "id": "e07afa81",
   "metadata": {},
   "outputs": [],
   "source": []
  },
  {
   "cell_type": "code",
   "execution_count": null,
   "id": "639ef1dd",
   "metadata": {},
   "outputs": [],
   "source": []
  },
  {
   "cell_type": "code",
   "execution_count": null,
   "id": "87eba488",
   "metadata": {},
   "outputs": [],
   "source": []
  },
  {
   "cell_type": "code",
   "execution_count": null,
   "id": "32f92dd6",
   "metadata": {},
   "outputs": [],
   "source": []
  },
  {
   "cell_type": "code",
   "execution_count": null,
   "id": "1f24a2f1",
   "metadata": {},
   "outputs": [],
   "source": []
  },
  {
   "cell_type": "code",
   "execution_count": null,
   "id": "1855ecbd",
   "metadata": {},
   "outputs": [],
   "source": []
  },
  {
   "cell_type": "code",
   "execution_count": null,
   "id": "8dc35505",
   "metadata": {},
   "outputs": [],
   "source": []
  }
 ],
 "metadata": {
  "kernelspec": {
   "display_name": "Python 3 (ipykernel)",
   "language": "python",
   "name": "python3"
  },
  "language_info": {
   "codemirror_mode": {
    "name": "ipython",
    "version": 3
   },
   "file_extension": ".py",
   "mimetype": "text/x-python",
   "name": "python",
   "nbconvert_exporter": "python",
   "pygments_lexer": "ipython3",
   "version": "3.9.12"
  }
 },
 "nbformat": 4,
 "nbformat_minor": 5
}
