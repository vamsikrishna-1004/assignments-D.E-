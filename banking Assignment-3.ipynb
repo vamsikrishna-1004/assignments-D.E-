{
 "cells": [
  {
   "cell_type": "markdown",
   "id": "99890395-bcc2-4793-9d41-ccd785090bb0",
   "metadata": {},
   "source": [
    "### Array Creation and Manipulation"
   ]
  },
  {
   "cell_type": "code",
   "execution_count": 1,
   "id": "10676f6d-ff28-48c2-b4cc-9038709b6712",
   "metadata": {},
   "outputs": [
    {
     "name": "stdout",
     "output_type": "stream",
     "text": [
      "[[1. 0. 0. 0.]\n",
      " [0. 1. 0. 0.]\n",
      " [0. 0. 1. 0.]\n",
      " [0. 0. 0. 1.]]\n"
     ]
    }
   ],
   "source": [
    "#Q1.1: Create a 4x4 identity matrix using np.eye()\n",
    "import numpy as np\n",
    "identity_matrix=np.eye(4)\n",
    "print(identity_matrix)"
   ]
  },
  {
   "cell_type": "code",
   "execution_count": 2,
   "id": "f30337f3-c431-4d44-9435-bc9b192daf34",
   "metadata": {},
   "outputs": [
    {
     "name": "stdout",
     "output_type": "stream",
     "text": [
      "[0. 0. 0. 0. 0. 0. 0. 0.]\n"
     ]
    }
   ],
   "source": [
    "#Q1.2: Create an array of 8 zeros using np.zeros()\n",
    "array_zeros = np.zeros(8)\n",
    "print(array_zeros)"
   ]
  },
  {
   "cell_type": "code",
   "execution_count": 3,
   "id": "19944dc2-b2c2-4fc1-b7d5-effa03d45f5f",
   "metadata": {},
   "outputs": [
    {
     "name": "stdout",
     "output_type": "stream",
     "text": [
      "[1. 1. 1. 1. 1. 1.]\n"
     ]
    }
   ],
   "source": [
    "#Q1.3: Create an array of 6 ones using np.ones()\n",
    "array_ones = np.ones(6)\n",
    "print(array_ones)"
   ]
  },
  {
   "cell_type": "code",
   "execution_count": 4,
   "id": "2c36096f-af73-41b7-b484-22632a69460e",
   "metadata": {},
   "outputs": [
    {
     "name": "stdout",
     "output_type": "stream",
     "text": [
      "[ 0  1  2  3  4  5  6  7  8  9 10 11 12 13 14 15]\n"
     ]
    }
   ],
   "source": [
    "#Q1.4: Create an array with values from 0 to 15 using np.arange()\n",
    "range_array = np.arange(16)\n",
    "print(range_array)"
   ]
  },
  {
   "cell_type": "code",
   "execution_count": 5,
   "id": "f2193537-2c12-4e87-ab0b-76fe054b1cf4",
   "metadata": {},
   "outputs": [
    {
     "name": "stdout",
     "output_type": "stream",
     "text": [
      "[  0.          14.28571429  28.57142857  42.85714286  57.14285714\n",
      "  71.42857143  85.71428571 100.        ]\n"
     ]
    }
   ],
   "source": [
    "#Q1.5: Create an array with 8 evenly spaced values from 0 to 100 using np.linspace()\n",
    "linespace_array = np.linspace(0,100,8)\n",
    "print(linespace_array)"
   ]
  },
  {
   "cell_type": "markdown",
   "id": "27b53929-1964-478d-8f19-8fe14ab48346",
   "metadata": {},
   "source": [
    "### Array Attributes and Information"
   ]
  },
  {
   "cell_type": "code",
   "execution_count": 6,
   "id": "3731dd0e-c676-41a8-9c66-81518818d336",
   "metadata": {},
   "outputs": [
    {
     "name": "stdout",
     "output_type": "stream",
     "text": [
      "[[    1 25000   300  1200    10]\n",
      " [    2 12000   450   150     5]\n",
      " [    3 28000   380    46     8]\n",
      " [    4 41000   500   160    18]\n",
      " [    5 35000   420   400    12]\n",
      " [    6 27000   360    30     9]\n",
      " [    7 39000   480   700    18]\n",
      " [    8 30000   400   250    14]\n",
      " [    9 45000   420   800    20]\n",
      " [   10 23000   410    45     9]]\n"
     ]
    }
   ],
   "source": [
    "import numpy as np\n",
    "#[Customer_ID,Account_Balance,Credit_Score,Transaction_Count,Years_Active]\n",
    "banking_data = np.array([[ 1, 25000, 300, 1200, 10],\n",
    "    [2, 12000, 450, 150, 5],\n",
    "    [3, 28000, 380, 46, 8],\n",
    "    [4, 41000, 500, 160, 18],\n",
    "    [5, 35000, 420, 400, 12],\n",
    "    [6, 27000, 360, 30, 9],\n",
    "    [7, 39000, 480, 700, 18],\n",
    "    [8, 30000, 400, 250, 14],\n",
    "    [9, 45000, 420, 800, 20],\n",
    "    [10, 23000, 410, 45, 9]])\n",
    "\n",
    "print(banking_data)"
   ]
  },
  {
   "cell_type": "code",
   "execution_count": 7,
   "id": "8735fc67-bc49-4f8a-8935-c324200423bd",
   "metadata": {},
   "outputs": [
    {
     "name": "stdout",
     "output_type": "stream",
     "text": [
      "shape: (10, 5)\n"
     ]
    }
   ],
   "source": [
    "#Q2.1: What is the shape of the banking_data array?\n",
    "print(f\"shape: {banking_data.shape}\")"
   ]
  },
  {
   "cell_type": "code",
   "execution_count": 8,
   "id": "5297d7c6-6afe-489c-a0f3-f31cc0c47d95",
   "metadata": {},
   "outputs": [
    {
     "name": "stdout",
     "output_type": "stream",
     "text": [
      "data type: int64\n"
     ]
    }
   ],
   "source": [
    "#Q2.2: What is the data type of the banking_data array?\n",
    "print(f\"data type: {banking_data.dtype}\")"
   ]
  },
  {
   "cell_type": "code",
   "execution_count": 9,
   "id": "04bac433-a631-41a7-b0b0-50e0c1b7ad07",
   "metadata": {},
   "outputs": [
    {
     "name": "stdout",
     "output_type": "stream",
     "text": [
      "size: 50\n"
     ]
    }
   ],
   "source": [
    "#Q2.3: What is the size (total number of elements) of the banking_data array?\n",
    "print(f\"size: {banking_data.size}\")"
   ]
  },
  {
   "cell_type": "code",
   "execution_count": 10,
   "id": "f6c80c58-fd8a-4560-8083-254b628c0930",
   "metadata": {},
   "outputs": [
    {
     "name": "stdout",
     "output_type": "stream",
     "text": [
      "dim: 2\n"
     ]
    }
   ],
   "source": [
    "#Q2.4: What is the number of dimensions of the banking_data array?\n",
    "print(f\"dim: {banking_data.ndim}\")"
   ]
  },
  {
   "cell_type": "code",
   "execution_count": 11,
   "id": "3f0f9068-ba58-4a51-835f-ab705ed71a72",
   "metadata": {},
   "outputs": [
    {
     "name": "stdout",
     "output_type": "stream",
     "text": [
      "bytes: 400\n"
     ]
    }
   ],
   "source": [
    "#Q2.5: What is the memory size of the banking_data array in bytes?\n",
    "print(f\"bytes: {banking_data.nbytes}\")"
   ]
  },
  {
   "cell_type": "markdown",
   "id": "007e4e47-3bcd-4a8d-ba82-4dca21da20f4",
   "metadata": {},
   "source": [
    "### Indexing and Slicing"
   ]
  },
  {
   "cell_type": "code",
   "execution_count": 12,
   "id": "eb164454-f3e3-4d5f-96eb-77d0f21337bb",
   "metadata": {},
   "outputs": [
    {
     "name": "stdout",
     "output_type": "stream",
     "text": [
      "[    1 25000   300  1200    10]\n"
     ]
    }
   ],
   "source": [
    "#Q3.1: Extract the first row of banking_data\n",
    "first_row = banking_data[0]\n",
    "print(first_row)"
   ]
  },
  {
   "cell_type": "code",
   "execution_count": 13,
   "id": "61ffbf83-21e3-4911-9375-3922c068c8e5",
   "metadata": {},
   "outputs": [
    {
     "name": "stdout",
     "output_type": "stream",
     "text": [
      "[   10 23000   410    45     9]\n"
     ]
    }
   ],
   "source": [
    "#Q3.2: Extract the last row of banking_data\n",
    "last_row = banking_data[-1]\n",
    "print(last_row)"
   ]
  },
  {
   "cell_type": "code",
   "execution_count": 14,
   "id": "30a61cb0-9033-46c9-a0e0-82033df6a7ac",
   "metadata": {},
   "outputs": [
    {
     "name": "stdout",
     "output_type": "stream",
     "text": [
      "[25000 12000 28000 41000 35000 27000 39000 30000 45000 23000]\n"
     ]
    }
   ],
   "source": [
    "#Q3.3: Extract the Account_Balance column (column index 1)\n",
    "column_index = banking_data[:,1]\n",
    "print(column_index)"
   ]
  },
  {
   "cell_type": "code",
   "execution_count": 15,
   "id": "036a2c85-500a-460b-8338-784bf67a145f",
   "metadata": {},
   "outputs": [
    {
     "name": "stdout",
     "output_type": "stream",
     "text": [
      "[[    1 25000   300]\n",
      " [    2 12000   450]\n",
      " [    3 28000   380]\n",
      " [    4 41000   500]]\n"
     ]
    }
   ],
   "source": [
    "#Q3.4: Extract the first 4 rows and first 3 columns\n",
    "subset = banking_data[:4, :3]\n",
    "print(subset)"
   ]
  },
  {
   "cell_type": "code",
   "execution_count": 16,
   "id": "49a33a10-83dc-4076-8ea4-b8967ef8096c",
   "metadata": {},
   "outputs": [
    {
     "name": "stdout",
     "output_type": "stream",
     "text": [
      "[[    4 41000   500   160    18]\n",
      " [    5 35000   420   400    12]\n",
      " [    6 27000   360    30     9]\n",
      " [    7 39000   480   700    18]]\n"
     ]
    }
   ],
   "source": [
    "#Q3.5: Extract rows 3 to 7 (inclusive)\n",
    "rows_3_to_7 = banking_data[3:7]\n",
    "print(rows_3_to_7)"
   ]
  },
  {
   "cell_type": "markdown",
   "id": "46e80a54-fa43-4b37-af48-ca7606f6d6c8",
   "metadata": {},
   "source": [
    "### Mathematical Operations"
   ]
  },
  {
   "cell_type": "code",
   "execution_count": 17,
   "id": "cab78b40-600e-45d2-82d0-8b9aa2075ad4",
   "metadata": {},
   "outputs": [
    {
     "name": "stdout",
     "output_type": "stream",
     "text": [
      "Total balance : 305000\n"
     ]
    }
   ],
   "source": [
    "#Q4.1: Calculate the sum of all account balances\n",
    "total_balance = np.sum(banking_data[:,1])\n",
    "print(f\"Total balance : {total_balance}\")"
   ]
  },
  {
   "cell_type": "code",
   "execution_count": 18,
   "id": "8d043247-d7fb-4bc7-b787-aa5bcb334638",
   "metadata": {},
   "outputs": [
    {
     "name": "stdout",
     "output_type": "stream",
     "text": [
      "Mean account : 30500.0\n"
     ]
    }
   ],
   "source": [
    "#Q4.2: Calculate the mean account \n",
    "mean_account = np.mean(banking_data[:,1])\n",
    "print(f\"Mean account : {mean_account}\")"
   ]
  },
  {
   "cell_type": "code",
   "execution_count": 19,
   "id": "9a95d46e-a46d-46bd-ba8f-a6fcb10b3d10",
   "metadata": {},
   "outputs": [
    {
     "name": "stdout",
     "output_type": "stream",
     "text": [
      "standard deviation of account: 9276.313923105448\n"
     ]
    }
   ],
   "source": [
    "#Q4.3: Calculate the standard deviation of account balances\n",
    "std_balance = np.std(banking_data[:,1])\n",
    "print(f\"standard deviation of account: {std_balance}\")"
   ]
  },
  {
   "cell_type": "code",
   "execution_count": 20,
   "id": "67ccdc60-3536-4a91-b81d-ed2a1435e44c",
   "metadata": {},
   "outputs": [
    {
     "name": "stdout",
     "output_type": "stream",
     "text": [
      "variance of account: 86050000.0\n"
     ]
    }
   ],
   "source": [
    "#Q4.4: Calculate the variance of account balances\n",
    "var_balance = np.var(banking_data[:,1])\n",
    "print(f\"variance of account: { var_balance}\")"
   ]
  },
  {
   "cell_type": "code",
   "execution_count": 21,
   "id": "0893d858-05a7-4c65-825c-5b13ddf943f5",
   "metadata": {},
   "outputs": [
    {
     "name": "stdout",
     "output_type": "stream",
     "text": [
      "median account : 29000.0\n"
     ]
    }
   ],
   "source": [
    "#Q4.5: Calculate the median account balance\n",
    "med_balance = np.median(banking_data[:,1])\n",
    "print(f\"median account : {med_balance}\")"
   ]
  },
  {
   "cell_type": "markdown",
   "id": "e5f6d466-62cf-46b0-a5ac-ae8e0c1196bc",
   "metadata": {},
   "source": [
    "### Statistical Functions"
   ]
  },
  {
   "cell_type": "code",
   "execution_count": 22,
   "id": "85ace634-2281-4b5b-9017-e6cba4af8269",
   "metadata": {},
   "outputs": [
    {
     "name": "stdout",
     "output_type": "stream",
     "text": [
      "minimum : 12000\n",
      "maximum : 45000\n"
     ]
    }
   ],
   "source": [
    "#Q5.1: Find the minimum and maximum account balances\n",
    "min_balance = np.min(banking_data[:,1])\n",
    "max_balance = np.max(banking_data[:,1])\n",
    "print(f\"minimum : {min_balance}\")\n",
    "print(f\"maximum : {max_balance}\")"
   ]
  },
  {
   "cell_type": "code",
   "execution_count": 23,
   "id": "a53ec5fb-a87e-4edd-9710-50e8f4b1fa5c",
   "metadata": {},
   "outputs": [
    {
     "name": "stdout",
     "output_type": "stream",
     "text": [
      "minimum credit : 300\n",
      "maximum credit : 500\n"
     ]
    }
   ],
   "source": [
    "#Q5.2: Find the minimum and maximum credit scores\n",
    "min_scores = np.min(banking_data[:,2])\n",
    "max_scores = np.max(banking_data[:,2])\n",
    "print(f\"minimum credit : {min_scores}\")\n",
    "print(f\"maximum credit : {max_scores}\")"
   ]
  },
  {
   "cell_type": "code",
   "execution_count": 24,
   "id": "bf9519dd-0042-4e20-a1d9-59e16e144ce1",
   "metadata": {},
   "outputs": [
    {
     "name": "stdout",
     "output_type": "stream",
     "text": [
      "+25th percentile : 25500.0\n",
      "+50th percentile : 29000.0\n",
      "+75th percentile : 38000.0\n"
     ]
    }
   ],
   "source": [
    "#Q5.3: Calculate the percentile values for account balances (25th, 50th, 75th)\n",
    "percentile = np.percentile(banking_data[:,1],[25,50,75])\n",
    "print(f\"+25th percentile : {percentile[0]}\")\n",
    "print(f\"+50th percentile : {percentile[1]}\")\n",
    "print(f\"+75th percentile : {percentile[2]}\")\n"
   ]
  },
  {
   "cell_type": "code",
   "execution_count": 25,
   "id": "01728d76-d1af-4453-9c9b-9affd1d466dd",
   "metadata": {},
   "outputs": [
    {
     "name": "stdout",
     "output_type": "stream",
     "text": [
      "correlation :0.31433420336741874\n"
     ]
    }
   ],
   "source": [
    "#Q5.4: Calculate the correlation between account balance and credit score\n",
    "correlation = np.corrcoef(banking_data[:,1],banking_data[:,3])[0,1]\n",
    "print(f\"correlation :{correlation}\")"
   ]
  },
  {
   "cell_type": "code",
   "execution_count": 26,
   "id": "f7e385b4-f013-4d14-8232-3931725247f2",
   "metadata": {},
   "outputs": [
    {
     "name": "stdout",
     "output_type": "stream",
     "text": [
      "covariance :1219166.6666666665\n"
     ]
    }
   ],
   "source": [
    "#Q5.5: Calculate the covariance between account balance and credit score\n",
    "covariance = np.cov(banking_data[:,1],banking_data[:,3])[0,1]\n",
    "print(f\"covariance :{covariance}\")"
   ]
  },
  {
   "cell_type": "markdown",
   "id": "26b8e3d5-403f-4d52-81f2-97b29d6915ae",
   "metadata": {},
   "source": [
    "###  Array Reshaping and Manipulation"
   ]
  },
  {
   "cell_type": "code",
   "execution_count": 27,
   "id": "fb7ca457-061a-467f-bcac-a49a5f274c91",
   "metadata": {},
   "outputs": [
    {
     "name": "stdout",
     "output_type": "stream",
     "text": [
      "[[    1 25000   300  1200    10     2 12000   450   150     5]\n",
      " [    3 28000   380    46     8     4 41000   500   160    18]\n",
      " [    5 35000   420   400    12     6 27000   360    30     9]\n",
      " [    7 39000   480   700    18     8 30000   400   250    14]\n",
      " [    9 45000   420   800    20    10 23000   410    45     9]]\n"
     ]
    }
   ],
   "source": [
    "#Q6.1: Reshape the banking_data to 5 rows × 10 columns\n",
    "reshaped_5x10 = banking_data.reshape(5,10)\n",
    "print(reshaped_5x10)"
   ]
  },
  {
   "cell_type": "code",
   "execution_count": 28,
   "id": "697ea1ed-0601-4fcb-a0e6-0c27f7ecd59f",
   "metadata": {},
   "outputs": [
    {
     "name": "stdout",
     "output_type": "stream",
     "text": [
      "[    1 25000   300  1200    10     2 12000   450   150     5     3 28000\n",
      "   380    46     8     4 41000   500   160    18     5 35000   420   400\n",
      "    12     6 27000   360    30     9     7 39000   480   700    18     8\n",
      " 30000   400   250    14     9 45000   420   800    20    10 23000   410\n",
      "    45     9]\n"
     ]
    }
   ],
   "source": [
    "#Q6.2: Flatten the banking_data to a 1D array\n",
    "flattend = banking_data.flatten()\n",
    "print(flattend)"
   ]
  },
  {
   "cell_type": "code",
   "execution_count": 29,
   "id": "325f30bb-1bae-455f-b790-b7b6d5f9e99e",
   "metadata": {},
   "outputs": [
    {
     "name": "stdout",
     "output_type": "stream",
     "text": [
      "[[    1     2     3     4     5     6     7     8     9    10]\n",
      " [25000 12000 28000 41000 35000 27000 39000 30000 45000 23000]\n",
      " [  300   450   380   500   420   360   480   400   420   410]\n",
      " [ 1200   150    46   160   400    30   700   250   800    45]\n",
      " [   10     5     8    18    12     9    18    14    20     9]]\n"
     ]
    }
   ],
   "source": [
    "#Q6.3: Transpose the banking_data\n",
    "transpose = banking_data.transpose()\n",
    "print(transpose)"
   ]
  },
  {
   "cell_type": "code",
   "execution_count": 30,
   "id": "beb91206-c046-4a8a-b71c-4bba3bed4037",
   "metadata": {},
   "outputs": [
    {
     "name": "stdout",
     "output_type": "stream",
     "text": [
      "first_part: [[    1 25000   300  1200    10]\n",
      " [    2 12000   450   150     5]\n",
      " [    3 28000   380    46     8]\n",
      " [    4 41000   500   160    18]\n",
      " [    5 35000   420   400    12]]\n",
      "second_part: [[    6 27000   360    30     9]\n",
      " [    7 39000   480   700    18]\n",
      " [    8 30000   400   250    14]\n",
      " [    9 45000   420   800    20]\n",
      " [   10 23000   410    45     9]]\n"
     ]
    }
   ],
   "source": [
    "#Q6.4: Split the banking_data into 2 equal parts vertically\n",
    "split_vertical = np.vsplit(banking_data,2)\n",
    "print(f\"first_part: {split_vertical[0]}\")\n",
    "print(f\"second_part: {split_vertical[1]}\")\n"
   ]
  },
  {
   "cell_type": "code",
   "execution_count": 31,
   "id": "4511898b-8e57-4e57-b73b-36e0461dabbd",
   "metadata": {},
   "outputs": [
    {
     "name": "stdout",
     "output_type": "stream",
     "text": [
      "first_part: [[    1 25000   300]\n",
      " [    2 12000   450]\n",
      " [    3 28000   380]\n",
      " [    4 41000   500]\n",
      " [    5 35000   420]\n",
      " [    6 27000   360]\n",
      " [    7 39000   480]\n",
      " [    8 30000   400]\n",
      " [    9 45000   420]\n",
      " [   10 23000   410]]\n",
      "second_part: [[1200   10]\n",
      " [ 150    5]\n",
      " [  46    8]\n",
      " [ 160   18]\n",
      " [ 400   12]\n",
      " [  30    9]\n",
      " [ 700   18]\n",
      " [ 250   14]\n",
      " [ 800   20]\n",
      " [  45    9]]\n"
     ]
    }
   ],
   "source": [
    "#Q6.5: Split the banking_data into 2 equal parts horizontally\n",
    "split_horizontal = np.hsplit(banking_data,2.5)\n",
    "print(f\"first_part: {split_horizontal[0]}\")\n",
    "print(f\"second_part: {split_horizontal[1]}\")\n",
    "\n"
   ]
  },
  {
   "cell_type": "markdown",
   "id": "1c7fd2e8-1d1d-49f4-9181-b5f3dfa30432",
   "metadata": {},
   "source": [
    "##### Logical Operations and Filtering"
   ]
  },
  {
   "cell_type": "code",
   "execution_count": 32,
   "id": "54567e4e-37fd-4616-bd5b-6575aed62c54",
   "metadata": {},
   "outputs": [
    {
     "name": "stdout",
     "output_type": "stream",
     "text": [
      "(array([ True,  True,  True,  True,  True,  True,  True,  True,  True,\n",
      "        True]), 0)\n"
     ]
    }
   ],
   "source": [
    "#Q7.1: Find customers with account balance greater than $100,000\n",
    "high_balance_customers = banking_data[:, 1] > 100,000\n",
    "print(high_balance_customers)"
   ]
  },
  {
   "cell_type": "code",
   "execution_count": 33,
   "id": "401a9a98-74dc-4651-a651-86bc2ad09fdc",
   "metadata": {},
   "outputs": [
    {
     "data": {
      "text/plain": [
       "array([False, False, False, False, False, False, False, False, False,\n",
       "       False])"
      ]
     },
     "execution_count": 33,
     "metadata": {},
     "output_type": "execute_result"
    }
   ],
   "source": [
    "#Q7.2: Find customers with credit score greater than 800\n",
    "banking_data[:,2]>800"
   ]
  },
  {
   "cell_type": "code",
   "execution_count": 34,
   "id": "b67c04fc-ad9c-43db-88d4-d49464f9f03a",
   "metadata": {},
   "outputs": [
    {
     "data": {
      "text/plain": [
       "array([[    1, 25000,   300,  1200,    10],\n",
       "       [    2, 12000,   450,   150,     5],\n",
       "       [    4, 41000,   500,   160,    18],\n",
       "       [    5, 35000,   420,   400,    12],\n",
       "       [    7, 39000,   480,   700,    18],\n",
       "       [    8, 30000,   400,   250,    14],\n",
       "       [    9, 45000,   420,   800,    20]])"
      ]
     },
     "execution_count": 34,
     "metadata": {},
     "output_type": "execute_result"
    }
   ],
   "source": [
    "#Q7.3: Find customers with transaction count greater than 50 AND credit score less than 750\n",
    "banking_data[(banking_data[:, 3] > 50) & (banking_data[:, 2] < 750)]"
   ]
  },
  {
   "cell_type": "code",
   "execution_count": 35,
   "id": "bba21053-014c-4042-8149-1e4ade923b96",
   "metadata": {},
   "outputs": [
    {
     "name": "stdout",
     "output_type": "stream",
     "text": [
      "10\n"
     ]
    }
   ],
   "source": [
    "#Q7.4: Count how many customers have account balance between $10,000 and $100,000\n",
    "data = np.sum((banking_data[:,1] >= 10000) & (banking_data[:,1] <= 100000))\n",
    "print(data)"
   ]
  },
  {
   "cell_type": "code",
   "execution_count": 36,
   "id": "f5c5180a-fbc3-4dc6-aa53-fe01fbaa5a89",
   "metadata": {},
   "outputs": [
    {
     "name": "stdout",
     "output_type": "stream",
     "text": [
      "4\n"
     ]
    }
   ],
   "source": [
    "#Q7.5: Find the index of the customer with the highest credit score\n",
    "customer = np.argmax(banking_data[:, 2])+1\n",
    "print(customer)"
   ]
  },
  {
   "cell_type": "markdown",
   "id": "f919fc33-0b34-478b-b66d-ee50b088f934",
   "metadata": {},
   "source": [
    "### Sorting and Searching"
   ]
  },
  {
   "cell_type": "code",
   "execution_count": 37,
   "id": "d3867092-1ad6-45e3-b09a-9d8cdcfe6109",
   "metadata": {},
   "outputs": [
    {
     "data": {
      "text/plain": [
       "array([[    2, 12000,   450,   150,     5],\n",
       "       [   10, 23000,   410,    45,     9],\n",
       "       [    1, 25000,   300,  1200,    10],\n",
       "       [    6, 27000,   360,    30,     9],\n",
       "       [    3, 28000,   380,    46,     8],\n",
       "       [    8, 30000,   400,   250,    14],\n",
       "       [    5, 35000,   420,   400,    12],\n",
       "       [    7, 39000,   480,   700,    18],\n",
       "       [    4, 41000,   500,   160,    18],\n",
       "       [    9, 45000,   420,   800,    20]])"
      ]
     },
     "execution_count": 37,
     "metadata": {},
     "output_type": "execute_result"
    }
   ],
   "source": [
    "#Q8.1: Sort the banking_data by account balance (ascending)\n",
    "sorted_by_account = banking_data[banking_data[:,1].argsort()]\n",
    "sorted_by_account"
   ]
  },
  {
   "cell_type": "code",
   "execution_count": 38,
   "id": "430f5ea8-6051-4ee6-906c-c35f38227c35",
   "metadata": {},
   "outputs": [
    {
     "name": "stdout",
     "output_type": "stream",
     "text": [
      "[[    1 25000   300  1200    10]\n",
      " [    9 45000   420   800    20]\n",
      " [    7 39000   480   700    18]\n",
      " [    5 35000   420   400    12]\n",
      " [    8 30000   400   250    14]\n",
      " [    4 41000   500   160    18]\n",
      " [    2 12000   450   150     5]\n",
      " [    3 28000   380    46     8]\n",
      " [   10 23000   410    45     9]\n",
      " [    6 27000   360    30     9]]\n"
     ]
    }
   ],
   "source": [
    "#Q8.2: Sort the banking_data by credit score (descending)\n",
    "data = banking_data[np.argsort(banking_data[:,3])[::-1]]\n",
    "print(data)"
   ]
  },
  {
   "cell_type": "code",
   "execution_count": 39,
   "id": "afa7cc75-039c-45c1-a6a8-d2dcf8216c47",
   "metadata": {},
   "outputs": [
    {
     "name": "stdout",
     "output_type": "stream",
     "text": [
      "[1 2 5 9 0 4 7 3 6 8]\n"
     ]
    }
   ],
   "source": [
    "#Q8.3: Find the indices that would sort the array by years active\n",
    "active_indices = np.argsort(banking_data[:,4])\n",
    "print(active_indices)"
   ]
  },
  {
   "cell_type": "code",
   "execution_count": 40,
   "id": "6d60403c-781e-4ace-a4f7-22d1b1d42705",
   "metadata": {},
   "outputs": [
    {
     "name": "stdout",
     "output_type": "stream",
     "text": [
      "Customer ID: 4, Account Balance: 41000\n"
     ]
    }
   ],
   "source": [
    "#Q8.4: Find the customer with the second highest account balance\n",
    "second_highest_account = np.argsort(banking_data[:,1])[-2]\n",
    "second_highest_account = banking_data[second_highest_account]\n",
    "print(f\"Customer ID: {int(second_highest_account[0])}, Account Balance: {int(second_highest_account[1])}\")"
   ]
  },
  {
   "cell_type": "code",
   "execution_count": 41,
   "id": "82cd562d-eafd-4ad4-8478-bac9d92989ce",
   "metadata": {},
   "outputs": [
    {
     "name": "stdout",
     "output_type": "stream",
     "text": [
      "Customer ID: 6, Transaction Count: 30\n"
     ]
    }
   ],
   "source": [
    "#Q8.5: Find the customer with the lowest transaction count\n",
    "lowest_transaction = np.argmin(banking_data[:, 3])\n",
    "lowest_transaction = banking_data[lowest_transaction]\n",
    "print(f\"Customer ID: {int(lowest_transaction [0])}, Transaction Count: {int(lowest_transaction [3])}\")"
   ]
  },
  {
   "cell_type": "markdown",
   "id": "38cc68a4-015b-4c37-89de-ba2fe8ce90fb",
   "metadata": {},
   "source": [
    "### Mathematical Functions"
   ]
  },
  {
   "cell_type": "code",
   "execution_count": 42,
   "id": "7246ee0c-b52a-4250-835f-ab22ca7f3011",
   "metadata": {},
   "outputs": [
    {
     "name": "stdout",
     "output_type": "stream",
     "text": [
      "[[    1 25000   300  1200    10]\n",
      " [    2 12000   450   150     5]\n",
      " [    3 28000   380    46     8]\n",
      " [    4 41000   500   160    18]\n",
      " [    5 35000   420   400    12]\n",
      " [    6 27000   360    30     9]\n",
      " [    7 39000   480   700    18]\n",
      " [    8 30000   400   250    14]\n",
      " [    9 45000   420   800    20]\n",
      " [   10 23000   410    45     9]]\n"
     ]
    }
   ],
   "source": [
    "#Q9.1: Calculate the absolute values of all elements\n",
    "absolute_values = np.abs(banking_data)\n",
    "print(absolute_values)"
   ]
  },
  {
   "cell_type": "code",
   "execution_count": 43,
   "id": "9c5ea855-4438-467d-b21b-8514fb25731c",
   "metadata": {},
   "outputs": [
    {
     "name": "stdout",
     "output_type": "stream",
     "text": [
      "[158.11388301 109.5445115  167.33200531 202.48456731 187.08286934\n",
      " 164.31676725 197.48417658 173.20508076 212.13203436 151.65750888]\n"
     ]
    }
   ],
   "source": [
    "#Q9.2: Calculate the square root of all account balances\n",
    "sqrt_account = np.sqrt(banking_data[:,1])\n",
    "print(sqrt_account)"
   ]
  },
  {
   "cell_type": "code",
   "execution_count": 44,
   "id": "80682fd8-b52b-4e71-9439-ad6595fccf93",
   "metadata": {},
   "outputs": [
    {
     "name": "stdout",
     "output_type": "stream",
     "text": [
      "[ 90000 202500 144400 250000 176400 129600 230400 160000 176400 168100]\n"
     ]
    }
   ],
   "source": [
    "#Q9.3: Calculate the square of all credit scores\n",
    "credit_scores = np.square(banking_data[:,2])\n",
    "print(credit_scores)"
   ]
  },
  {
   "cell_type": "code",
   "execution_count": 5,
   "id": "4b72e248-8a3d-4601-973c-7a74de2bec5e",
   "metadata": {},
   "outputs": [
    {
     "name": "stdout",
     "output_type": "stream",
     "text": [
      "[[    1 25000   300  1200    10]\n",
      " [    2 12000   450   150     5]\n",
      " [    3 28000   380    46     8]\n",
      " [    4 41000   500   160    18]\n",
      " [    5 35000   420   400    12]\n",
      " [    6 27000   360    30     9]\n",
      " [    7 39000   480   700    18]\n",
      " [    8 30000   400   250    14]\n",
      " [    9 45000   420   800    20]\n",
      " [   10 23000   410    45     9]]\n"
     ]
    },
    {
     "name": "stderr",
     "output_type": "stream",
     "text": [
      "C:\\Users\\admin\\AppData\\Local\\Temp\\ipykernel_6236\\2203053695.py:16: RuntimeWarning: overflow encountered in exp\n",
      "  np.exp(banking_data[:, 3])\n"
     ]
    },
    {
     "data": {
      "text/plain": [
       "array([            inf, 1.39370958e+065, 9.49611942e+019, 3.06984964e+069,\n",
       "       5.22146969e+173, 1.06864746e+013, 1.01423205e+304, 3.74645461e+108,\n",
       "                   inf, 3.49342711e+019])"
      ]
     },
     "execution_count": 5,
     "metadata": {},
     "output_type": "execute_result"
    }
   ],
   "source": [
    "#Q9.4: Calculate the exponential of all transaction counts\n",
    "import numpy as np\n",
    "banking_data = np.array([\n",
    "    [ 1, 25000, 300, 1200, 10],\n",
    "    [2, 12000, 450, 150, 5],\n",
    "    [3, 28000, 380, 46, 8],\n",
    "    [4, 41000, 500, 160, 18],\n",
    "    [5, 35000, 420, 400, 12],\n",
    "    [6, 27000, 360, 30, 9],\n",
    "    [7, 39000, 480, 700, 18],\n",
    "    [8, 30000, 400, 250, 14],\n",
    "    [9, 45000, 420, 800, 20],\n",
    "    [10, 23000, 410, 45, 9]])\n",
    "\n",
    "print(banking_data)\n",
    "np.exp(banking_data[:, 3])"
   ]
  },
  {
   "cell_type": "code",
   "execution_count": 46,
   "id": "6206c2fe-3365-4d04-b54d-965609829fe5",
   "metadata": {},
   "outputs": [
    {
     "name": "stdout",
     "output_type": "stream",
     "text": [
      "[10.1266311   9.39266193 10.23995979 10.62132735 10.46310334 10.20359214\n",
      " 10.57131693 10.30895266 10.71441777 10.04324949]\n"
     ]
    }
   ],
   "source": [
    "#Q9.5: Calculate the natural logarithm of all account balances\n",
    "logarithm = np.log(banking_data[:, 1])\n",
    "print(logarithm)"
   ]
  },
  {
   "cell_type": "markdown",
   "id": "b1fa4711-b9c6-4ecb-b580-19a76ddea59c",
   "metadata": {},
   "source": [
    "### Advanced Operations"
   ]
  },
  {
   "cell_type": "code",
   "execution_count": 47,
   "id": "0ef8bdef-620d-441e-9495-10ed30a34f7b",
   "metadata": {},
   "outputs": [
    {
     "name": "stdout",
     "output_type": "stream",
     "text": [
      "305000\n"
     ]
    }
   ],
   "source": [
    "#Q10.1: Calculate the cumulative sum of account balances\n",
    "cummulative = np.sum(banking_data[:, 1])\n",
    "print(cummulative)"
   ]
  },
  {
   "cell_type": "code",
   "execution_count": 48,
   "id": "95e57606-2627-4d7f-bf10-90682561e691",
   "metadata": {},
   "outputs": [
    {
     "name": "stdout",
     "output_type": "stream",
     "text": [
      "[                1200               180000              8280000\n",
      "           1324800000         529920000000       15897600000000\n",
      "    11128320000000000  2782080000000000000 -6392032918855745536\n",
      "  7506423830844276736]\n"
     ]
    }
   ],
   "source": [
    "#Q10.2: Calculate the cumulative product of transaction counts\n",
    "cumprod_transaction = np.cumprod(banking_data[:,3])\n",
    "print(cumprod_transaction)"
   ]
  },
  {
   "cell_type": "markdown",
   "id": "f830dbc4-5400-477b-88d1-6c79fd81b4ce",
   "metadata": {},
   "source": [
    "#Q10.3: Calculate the difference between consecutive account balances\n",
    "diff_account = np.diff(banking_data[:, 1])\n",
    "print(diff_account)"
   ]
  },
  {
   "cell_type": "code",
   "execution_count": 49,
   "id": "72c9c3aa-4621-44cb-99ed-425b6847c66f",
   "metadata": {},
   "outputs": [
    {
     "name": "stdout",
     "output_type": "stream",
     "text": [
      "[-13000.   1500.  14500.   3500.  -7000.   2000.   1500.   3000.  -3500.\n",
      " -22000.]\n"
     ]
    }
   ],
   "source": [
    "#Q10.4: Calculate the gradient of account balances\n",
    "gradient_account = np.gradient(banking_data[:,1])\n",
    "print(gradient_account)"
   ]
  },
  {
   "cell_type": "code",
   "execution_count": 50,
   "id": "68c63d08-2677-4f00-aed1-13e86a002467",
   "metadata": {},
   "outputs": [
    {
     "name": "stdout",
     "output_type": "stream",
     "text": [
      "histogram : [1 2 3 1 3]\n",
      "bin_edges : [12000. 18600. 25200. 31800. 38400. 45000.]\n"
     ]
    }
   ],
   "source": [
    "#Q10.5: Calculate the histogram of account balances with 5 bins\n",
    "hist_account ,bin_edges = np.histogram(banking_data[:,1], bins=5)\n",
    "print(f\"histogram : {hist_account}\")\n",
    "print(f\"bin_edges : {bin_edges}\")"
   ]
  },
  {
   "cell_type": "markdown",
   "id": "02c2467d-3d94-40ce-b6fe-eab034682206",
   "metadata": {},
   "source": [
    "### Random Numbers and Simulation"
   ]
  },
  {
   "cell_type": "code",
   "execution_count": 51,
   "id": "04bf808c-e24e-4b07-9136-e70fba64170e",
   "metadata": {},
   "outputs": [
    {
     "name": "stdout",
     "output_type": "stream",
     "text": [
      "[941 396 778 883 884 732]\n"
     ]
    }
   ],
   "source": [
    "#Q11.1: Generate 6 random integers between 1 and 1000\n",
    "random_int = np.random.randint(1,1001,6)\n",
    "print(random_int)"
   ]
  },
  {
   "cell_type": "code",
   "execution_count": 52,
   "id": "2a0b00b0-9c35-46de-93d9-0d3161ff52b5",
   "metadata": {},
   "outputs": [
    {
     "name": "stdout",
     "output_type": "stream",
     "text": [
      "[0.44824327 0.64758382 0.43269545 0.1021279  0.5534456  0.10312104]\n"
     ]
    }
   ],
   "source": [
    "#Q11.2: Generate 6 random floats between 0 and 1\n",
    "random_floats = np.random.random(6)\n",
    "print(random_floats)"
   ]
  },
  {
   "cell_type": "code",
   "execution_count": 53,
   "id": "dce20dc6-0d7d-44c5-bee3-15dfb569061c",
   "metadata": {},
   "outputs": [
    {
     "name": "stdout",
     "output_type": "stream",
     "text": [
      "[915.41446851 648.70281519 601.18606543 673.11361091 586.34779393\n",
      " 805.16599085]\n"
     ]
    }
   ],
   "source": [
    "#Q11.3: Generate 6 random numbers from normal distribution (mean=700, std=100) normal_random = np.random.normal(700,100,6) print(normal_random)\n",
    "normal_random = np.random.normal(700,100,6)\n",
    "print(normal_random)"
   ]
  },
  {
   "cell_type": "code",
   "execution_count": 54,
   "id": "ac07178d-ac94-49c0-9aa9-68b2ee2e7165",
   "metadata": {},
   "outputs": [
    {
     "name": "stdout",
     "output_type": "stream",
     "text": [
      "[[    4 41000   500   160    18]\n",
      " [    8 30000   400   250    14]\n",
      " [   10 23000   410    45     9]\n",
      " [    6 27000   360    30     9]\n",
      " [    9 45000   420   800    20]\n",
      " [    5 35000   420   400    12]\n",
      " [    7 39000   480   700    18]\n",
      " [    1 25000   300  1200    10]\n",
      " [    3 28000   380    46     8]\n",
      " [    2 12000   450   150     5]]\n"
     ]
    }
   ],
   "source": [
    "#Q11.4: Shuffle the banking_data rows randomly\n",
    "shuffled_data = banking_data.copy()\n",
    "np.random.shuffle(shuffled_data)\n",
    "print(shuffled_data)"
   ]
  },
  {
   "cell_type": "code",
   "execution_count": 55,
   "id": "a3dba10f-bfe1-4fdc-8595-0af69cfcf13c",
   "metadata": {},
   "outputs": [
    {
     "name": "stdout",
     "output_type": "stream",
     "text": [
      "[0.69646919 0.28613933 0.22685145 0.55131477]\n"
     ]
    }
   ],
   "source": [
    "#Q11.5: Set random seed to 123 and generate 4 random numbers\n",
    "np.random.seed(123)\n",
    "seeded_random = np.random.random(4)\n",
    "print(seeded_random)"
   ]
  },
  {
   "cell_type": "markdown",
   "id": "ddcd4d4b-dd51-4aa0-8e65-91b68b79915e",
   "metadata": {},
   "source": [
    "### Linear Algebra Operations"
   ]
  },
  {
   "cell_type": "code",
   "execution_count": 56,
   "id": "1eac6b14-25b3-4f5d-8055-06a5af3ac64a",
   "metadata": {},
   "outputs": [
    {
     "name": "stdout",
     "output_type": "stream",
     "text": [
      "Dot product : 127510000\n"
     ]
    }
   ],
   "source": [
    "#Q12.1: Calculate the dot product of account balance and credit score columns\n",
    "dot_product = np.dot(banking_data[:, 1],banking_data[:, 2])\n",
    "print(f\"Dot product : {dot_product}\")"
   ]
  },
  {
   "cell_type": "code",
   "execution_count": 57,
   "id": "173e1eb4-dbae-418c-8a42-9aa9b6da8082",
   "metadata": {},
   "outputs": [
    {
     "name": "stdout",
     "output_type": "stream",
     "text": [
      "[7650000     150  -38000]\n"
     ]
    }
   ],
   "source": [
    "#Q12.2: Calculate the cross product of first two rows\n",
    "cross_product = np.cross(banking_data[0,:3], banking_data[1, :3])\n",
    "print(cross_product)"
   ]
  },
  {
   "cell_type": "code",
   "execution_count": 58,
   "id": "c929e73c-412e-4f2b-abe7-a184efe55ed8",
   "metadata": {},
   "outputs": [
    {
     "name": "stdout",
     "output_type": "stream",
     "text": [
      "100811.70566953026\n"
     ]
    }
   ],
   "source": [
    "#Q12.3: Calculate the norm (magnitude) of the account balance column\n",
    "account_norm  = np.linalg.norm(banking_data[:,1])\n",
    "print(account_norm)"
   ]
  },
  {
   "cell_type": "code",
   "execution_count": 59,
   "id": "d6e82291-5343-4102-aa26-52215082e975",
   "metadata": {},
   "outputs": [
    {
     "name": "stdout",
     "output_type": "stream",
     "text": [
      "Matrix :\n",
      "[[ 2  5  3]\n",
      " [ 1 -2  9]\n",
      " [ 3  6  2]]\n",
      "determinant : 44.99999999999999\n"
     ]
    }
   ],
   "source": [
    "#Q12.4: Create a 3x3 matrix and calculate its determinant\n",
    "matrix_3x3 = np.array([ \n",
    "    [2, 5, 3],\n",
    "    [1, -2, 9],\n",
    "    [3, 6, 2]\n",
    "])\n",
    "determinant = np.linalg.det(matrix_3x3)\n",
    "print(f\"Matrix :\\n{matrix_3x3}\")\n",
    "print(f\"determinant : {determinant}\")"
   ]
  },
  {
   "cell_type": "code",
   "execution_count": 60,
   "id": "0f33a0ca-b0ba-47f3-9fd7-d9f2ea26d3ab",
   "metadata": {},
   "outputs": [
    {
     "name": "stdout",
     "output_type": "stream",
     "text": [
      "[[-1.28888889  0.17777778  1.13333333]\n",
      " [ 0.55555556 -0.11111111 -0.33333333]\n",
      " [ 0.26666667  0.06666667 -0.2       ]]\n"
     ]
    }
   ],
   "source": [
    "#Q12.5: Calculate the inverse of the 3x3 matrix\n",
    "inverse_matrix = np.linalg.inv(matrix_3x3)\n",
    "print(inverse_matrix)"
   ]
  },
  {
   "cell_type": "markdown",
   "id": "0bac3b5d-eb8d-4e4a-bab0-2d68d0e29d62",
   "metadata": {},
   "source": [
    "### String Operations"
   ]
  },
  {
   "cell_type": "code",
   "execution_count": 61,
   "id": "df3c09fb-ce0c-481e-8d72-16989b1307e8",
   "metadata": {},
   "outputs": [
    {
     "name": "stdout",
     "output_type": "stream",
     "text": [
      "['1' '2' '3' '4' '5' '6' '7' '8' '9' '10']\n"
     ]
    }
   ],
   "source": [
    "#Q13.1: Convert all customer IDs to strings\n",
    "customer_IDs_str = banking_data[:, 0].astype(str)  #stringarrayusing.astype()\n",
    "print(customer_IDs_str)"
   ]
  },
  {
   "cell_type": "code",
   "execution_count": 62,
   "id": "6299d3f3-bbe4-47fd-87fe-b8f9b3c8bef0",
   "metadata": {},
   "outputs": [
    {
     "name": "stdout",
     "output_type": "stream",
     "text": [
      "[False False False False False False False False False False]\n"
     ]
    }
   ],
   "source": [
    "#Q13.2: Check if any customer ID contains '100'\n",
    "customer_100 = np.char.find(customer_IDs_str, '100') >= 0\n",
    "print(customer_100)"
   ]
  },
  {
   "cell_type": "code",
   "execution_count": 63,
   "id": "6f6a4bba-dbdc-422c-b2f6-26022e9ef616",
   "metadata": {},
   "outputs": [
    {
     "name": "stdout",
     "output_type": "stream",
     "text": [
      "['1' '2' '3' '4' '5' '6' '7' '8' '9' '10']\n"
     ]
    }
   ],
   "source": [
    "#Q13.3: Convert all customer IDs to uppercase (if they were strings)\n",
    "customer_IDs_upper = np.char.upper(customer_IDs_str)\n",
    "print(customer_IDs_upper)"
   ]
  },
  {
   "cell_type": "code",
   "execution_count": 64,
   "id": "dff5e8f5-db9f-433c-beb7-c9bb8b6b6c97",
   "metadata": {},
   "outputs": [
    {
     "name": "stdout",
     "output_type": "stream",
     "text": [
      "[1 1 1 1 1 1 1 1 1 2]\n"
     ]
    }
   ],
   "source": [
    "#Q13.4: Count the length of each customer ID string\n",
    "Id_length = np.char.str_len(customer_IDs_str)\n",
    "print(Id_length)"
   ]
  },
  {
   "cell_type": "code",
   "execution_count": 65,
   "id": "a5c0d54c-d709-4c98-b0e7-686ce488eecf",
   "metadata": {},
   "outputs": [
    {
     "name": "stdout",
     "output_type": "stream",
     "text": [
      "['1' '2' '3' '4' '5' '6' '7' '8' '9' '10']\n"
     ]
    }
   ],
   "source": [
    "#Q13.5: Replace '100' with 'CUST' in customer IDs\n",
    "replaced_Ids = np.char.replace(customer_IDs_str, '100', 'CUST')\n",
    "print(replaced_Ids)"
   ]
  },
  {
   "cell_type": "markdown",
   "id": "3751f860-2541-46f8-8e8b-ceccd645ad3a",
   "metadata": {},
   "source": [
    "### Date and Time Operations"
   ]
  },
  {
   "cell_type": "code",
   "execution_count": 66,
   "id": "cb54bb00-b74d-4821-8d07-f3da7a213546",
   "metadata": {},
   "outputs": [
    {
     "name": "stdout",
     "output_type": "stream",
     "text": [
      "[120  60  96 216 144 108 216 168 240 108]\n"
     ]
    }
   ],
   "source": [
    "    #Q14.1: Convert years active to months\n",
    "years_active = banking_data[:, 4]*12\n",
    "print(years_active)"
   ]
  },
  {
   "cell_type": "code",
   "execution_count": 67,
   "id": "7ae7cb7e-10bd-45f6-9d7f-140a1a1f9671",
   "metadata": {},
   "outputs": [
    {
     "name": "stdout",
     "output_type": "stream",
     "text": [
      "Average Years: 12.3\n"
     ]
    }
   ],
   "source": [
    "#Q14.2: Calculate the average years active\n",
    "average_years = np.mean(banking_data[:,4])\n",
    "print(f\"Average Years: {average_years}\")"
   ]
  },
  {
   "cell_type": "code",
   "execution_count": 68,
   "id": "f23f3f45-898c-4427-901e-a092cf390a00",
   "metadata": {},
   "outputs": [
    {
     "name": "stdout",
     "output_type": "stream",
     "text": [
      "[[    1 25000   300  1200    10]\n",
      " [    3 28000   380    46     8]\n",
      " [    4 41000   500   160    18]\n",
      " [    5 35000   420   400    12]\n",
      " [    6 27000   360    30     9]\n",
      " [    7 39000   480   700    18]\n",
      " [    8 30000   400   250    14]\n",
      " [    9 45000   420   800    20]\n",
      " [   10 23000   410    45     9]]\n"
     ]
    }
   ],
   "source": [
    "#Q14.3: Find customers who have been active for more than 5 years\n",
    "long_active = banking_data[banking_data[:,4] > 5]\n",
    "print(long_active)"
   ]
  },
  {
   "cell_type": "code",
   "execution_count": 69,
   "id": "7e3c6d29-916a-40b9-8751-2c0a17757b4e",
   "metadata": {},
   "outputs": [
    {
     "name": "stdout",
     "output_type": "stream",
     "text": [
      " Total Active Time : 123\n"
     ]
    }
   ],
   "source": [
    "#Q14.4: Calculate the total time all customers have been active (in years)\n",
    "total_active_time = np.sum(banking_data[:, 4])\n",
    "print(f\" Total Active Time : {total_active_time}\")"
   ]
  },
  {
   "cell_type": "code",
   "execution_count": 70,
   "id": "be64058b-6df3-4ef1-9c21-ae806a5d1941",
   "metadata": {},
   "outputs": [
    {
     "name": "stdout",
     "output_type": "stream",
     "text": [
      "customer ID: 2, Days: 5\n"
     ]
    }
   ],
   "source": [
    "#Q14.5: Find the customer with the shortest time active \n",
    "\n",
    "shorest_active_idx = np.argmin(banking_data[:,4])\n",
    "shorest_active_customer = banking_data[shorest_active_idx]\n",
    "print(f\"customer ID: {shorest_active_customer[0]}, Days: {shorest_active_customer[4]}\")\n"
   ]
  },
  {
   "cell_type": "markdown",
   "id": "fa81cd01-6e76-4c89-99ac-891c3c35a863",
   "metadata": {},
   "source": [
    "### Advanced Array Operations"
   ]
  },
  {
   "cell_type": "code",
   "execution_count": 71,
   "id": "83b4c8a9-7bb6-438d-87f5-3dc21f844815",
   "metadata": {},
   "outputs": [
    {
     "name": "stdout",
     "output_type": "stream",
     "text": [
      "[[    1 26250   300  1200    10]\n",
      " [    2 12600   450   150     5]\n",
      " [    3 29400   380    46     8]\n",
      " [    4 43050   500   160    18]\n",
      " [    5 36750   420   400    12]\n",
      " [    6 28350   360    30     9]\n",
      " [    7 40950   480   700    18]\n",
      " [    8 31500   400   250    14]\n",
      " [    9 47250   420   800    20]\n",
      " [   10 24150   410    45     9]]\n"
     ]
    }
   ],
   "source": [
    "#Q15.1: Apply a function to calculate 5% interest on all account balances\n",
    "banking_data[:, 1] = banking_data[:,1]*1.05 #5%=1.05\n",
    "banking_data[:, 1] = np.round(banking_data[:,1],2)\n",
    "print(banking_data)"
   ]
  },
  {
   "cell_type": "code",
   "execution_count": 72,
   "id": "d81e5c3c-b1a8-4a7b-b701-223c93c52ea2",
   "metadata": {},
   "outputs": [
    {
     "name": "stdout",
     "output_type": "stream",
     "text": [
      "['Medium' 'Low' 'Medium' 'High' 'High' 'Medium' 'High' 'Medium'\n",
      " 'Very High' 'Low']\n"
     ]
    }
   ],
   "source": [
    "#Q15.2: Use np.where to categorize customers by balance ranges\n",
    "balances = banking_data[:, 1]\n",
    "categories = np.where(balances < 25000, 'Low',\n",
    "              np.where(balances < 35000, 'Medium',\n",
    "              np.where(balances < 45000, 'High', 'Very High')))\n",
    "print(categories)"
   ]
  },
  {
   "cell_type": "code",
   "execution_count": 73,
   "id": "11394b1a-879f-4c70-8580-871e7dcf68ef",
   "metadata": {},
   "outputs": [
    {
     "name": "stdout",
     "output_type": "stream",
     "text": [
      "['poor' 'Excellent' 'good' 'Excellent' 'fair' 'good' 'Excellent' 'fair'\n",
      " 'fair' 'fair']\n"
     ]
    }
   ],
   "source": [
    "#Q15.3: Use np.select to categorize customers by credit score ranges\n",
    "credit_scores = banking_data[:, 2]\n",
    "conditions = [\n",
    "    credit_scores < 350,\n",
    "    (credit_scores >= 350) & (credit_scores < 400),\n",
    "    (credit_scores >= 400) & (credit_scores < 450),\n",
    "    credit_scores >= 450\n",
    "]\n",
    "chocies = ['poor', 'good', 'fair','Excellent']\n",
    "score_categories = np.select(conditions, chocies, default='Unknown')\n",
    "print(score_categories)"
   ]
  },
  {
   "cell_type": "code",
   "execution_count": 6,
   "id": "7550612d-7ae0-4e5d-82fe-1dd4515f6c76",
   "metadata": {},
   "outputs": [
    {
     "name": "stdout",
     "output_type": "stream",
     "text": [
      "[30000 12600 33600 49200 42000 32400 46800 36000 54000 25300]\n"
     ]
    }
   ],
   "source": [
    "#Q15.4: Use np.piecewise to apply different interest rates based on balance\n",
    "def low_interest(x): return x * 1.05  \n",
    "def mid_interest(x): return x * 1.10  \n",
    "def high_interest(x): return x * 1.20  \n",
    "\n",
    "interest_prices = np.piecewise(\n",
    "    banking_data[:, 1],\n",
    "    [banking_data[:, 1] < 20000, (banking_data[:, 1] >= 20000) & (banking_data[:, 1] < 25000), banking_data[:, 1] >= 25000],\n",
    "    [low_interest, mid_interest, high_interest]\n",
    ")\n",
    "print(interest_prices)"
   ]
  },
  {
   "cell_type": "code",
   "execution_count": 75,
   "id": "7ae90862-7fe9-4384-b2f9-e39fcf427979",
   "metadata": {},
   "outputs": [
    {
     "name": "stdout",
     "output_type": "stream",
     "text": [
      "[27761 13207 29837 43732 37587 28755 42155 32172 48499 24624]\n"
     ]
    }
   ],
   "source": [
    "#Q15.5: Use np.apply_along_axis to calculate the sum of each row\n",
    "rows_sums = np.apply_along_axis(np.sum, axis=1, arr=banking_data)\n",
    "print(rows_sums)"
   ]
  },
  {
   "cell_type": "markdown",
   "id": "341531f0-7629-4b03-a62d-71db2b541901",
   "metadata": {},
   "source": [
    "### Array Concatenation and Stacking"
   ]
  },
  {
   "cell_type": "code",
   "execution_count": 76,
   "id": "434a9541-554f-4e23-80ef-0fa125828683",
   "metadata": {},
   "outputs": [
    {
     "name": "stdout",
     "output_type": "stream",
     "text": [
      "Array 1: [1 2 3]\n",
      "Array 2:  [4 5 6]\n",
      "Horziontally stacked :[1 2 3 4 5 6]\n"
     ]
    }
   ],
   "source": [
    "#Q16.1: Concatenate two arrays horizontally using np.hstack()\n",
    "arr1 = np.array([1,2,3])\n",
    "arr2 = np.array([4,5,6])\n",
    "hstacked = np.hstack([arr1 , arr2])\n",
    "print(f\"Array 1: {arr1}\")\n",
    "print(f\"Array 2:  {arr2}\")\n",
    "print(f\"Horziontally stacked :{hstacked}\")"
   ]
  },
  {
   "cell_type": "code",
   "execution_count": 77,
   "id": "9ca62bc3-1d4e-4ca2-a53c-831f4bb62744",
   "metadata": {},
   "outputs": [
    {
     "name": "stdout",
     "output_type": "stream",
     "text": [
      "Verticalley stacked :[[1 2 3]\n",
      " [4 5 6]]\n"
     ]
    }
   ],
   "source": [
    "#Q16.2: Concatenate two arrays vertically using np.vstack()\n",
    "vstacked = np.vstack([arr1 ,arr2])\n",
    "print(f\"Verticalley stacked :{vstacked}\")"
   ]
  },
  {
   "cell_type": "code",
   "execution_count": 78,
   "id": "db9c91fe-9525-4be5-9df4-da88080280ed",
   "metadata": {},
   "outputs": [
    {
     "name": "stdout",
     "output_type": "stream",
     "text": [
      "Concatenate along axis : [1 2 3 4 5 6]\n"
     ]
    }
   ],
   "source": [
    "#Q16.3: Concatenate arrays along a specific axis using np.concatenate()\n",
    "concatenate = np.concatenate([arr1 , arr2])\n",
    "print(f\"Concatenate along axis : {concatenate}\")"
   ]
  },
  {
   "cell_type": "code",
   "execution_count": 79,
   "id": "8cd2ed4a-708c-43e0-81f0-80d15ec3d1c4",
   "metadata": {},
   "outputs": [
    {
     "name": "stdout",
     "output_type": "stream",
     "text": [
      "Depth-wise stacked :[[[1 4]\n",
      "  [2 5]\n",
      "  [3 6]]]\n"
     ]
    }
   ],
   "source": [
    "#Q16.4: Stack arrays depth-wise using np.dstack()\n",
    "dstacked = np.dstack([arr1 , arr2])\n",
    "print(f\"Depth-wise stacked :{dstacked}\")"
   ]
  },
  {
   "cell_type": "code",
   "execution_count": 80,
   "id": "b4f6a51c-340f-4b35-bc49-ad7166dfb61a",
   "metadata": {},
   "outputs": [
    {
     "name": "stdout",
     "output_type": "stream",
     "text": [
      "column stack :[[1 4]\n",
      " [2 5]\n",
      " [3 6]]\n"
     ]
    }
   ],
   "source": [
    "#Q16.5: Create a column stack using np.column_stack()\n",
    "column_stack = np.column_stack([arr1 , arr2])\n",
    "print(f\"column stack :{column_stack}\")"
   ]
  },
  {
   "cell_type": "markdown",
   "id": "fd299b90-d86f-4eae-b91d-f60d8cd6e35b",
   "metadata": {},
   "source": [
    "### Array Splitting Operations"
   ]
  },
  {
   "cell_type": "code",
   "execution_count": 81,
   "id": "1ecec358-73ac-4262-ae01-76fbb496aa68",
   "metadata": {},
   "outputs": [
    {
     "name": "stdout",
     "output_type": "stream",
     "text": [
      "[array([1, 2, 3]), array([4, 5, 6]), array([7, 8, 9])]\n"
     ]
    }
   ],
   "source": [
    "#Q17.1: Split an array into 3 equal parts using np.split()\n",
    "arr_split = np.array([1,2,3,4,5,6,7,8,9])\n",
    "split_parts = np.split(arr_split,3)\n",
    "print(split_parts)"
   ]
  },
  {
   "cell_type": "code",
   "execution_count": 82,
   "id": "51a2fb2f-4ef4-4937-82e8-ce359c4a74de",
   "metadata": {},
   "outputs": [
    {
     "name": "stdout",
     "output_type": "stream",
     "text": [
      "[array([1, 2, 3]), array([4, 5, 6]), array([7, 8, 9])]\n"
     ]
    }
   ],
   "source": [
    "#Q17.2: Split an array at specific indices using np.split()\n",
    "arr_split = np.array([1,2,3,4,5,6,7,8,9])\n",
    "split_indices = np.split(arr_split, [3,6])\n",
    "print(split_indices)                         "
   ]
  },
  {
   "cell_type": "code",
   "execution_count": 83,
   "id": "0b4b6e7a-f54d-4849-9b63-b073feb32d2f",
   "metadata": {},
   "outputs": [
    {
     "name": "stdout",
     "output_type": "stream",
     "text": [
      "Horizontally :\n",
      "[array([[1, 2],\n",
      "       [5, 6]]), array([[3, 4],\n",
      "       [7, 8]])]\n"
     ]
    }
   ],
   "source": [
    "#Q17.3: Split an array horizontally using np.hsplit()\n",
    "arr_split = np.array([[1, 2, 3, 4],\n",
    "                     [5, 6, 7, 8]])\n",
    "\n",
    "result = np.hsplit(arr_split, 2)\n",
    "print(f\"Horizontally :\\n{result}\")\n"
   ]
  },
  {
   "cell_type": "code",
   "execution_count": 84,
   "id": "adfe65aa-ae6f-4768-a379-9c9d1456f3f2",
   "metadata": {},
   "outputs": [
    {
     "name": "stdout",
     "output_type": "stream",
     "text": [
      "Vertically :\n",
      "[array([[1, 2, 3, 4]]), array([[5, 6, 7, 8]])]\n"
     ]
    }
   ],
   "source": [
    "#Q17.4: Split an array vertically using np.vsplit()\n",
    "arr_split = np.array([[1, 2, 3, 4],\n",
    "                       [5, 6, 7, 8]])\n",
    "split = np.vsplit(arr_split,2)\n",
    "print(f\"Vertically :\\n{split}\")"
   ]
  },
  {
   "cell_type": "code",
   "execution_count": 85,
   "id": "ab870689-b39c-4853-a621-42b052def0c5",
   "metadata": {},
   "outputs": [
    {
     "name": "stdout",
     "output_type": "stream",
     "text": [
      "Equal chunks :[array([0, 1, 2, 3]), array([4, 5, 6])]\n"
     ]
    }
   ],
   "source": [
    "#Q17.5: Split an array into equal chunks using np.array_split()\n",
    "split = np.array([0, 1, 2, 3, 4, 5, 6])\n",
    "chunks = np.array_split(split , 2)\n",
    "print(f\"Equal chunks :{chunks}\")"
   ]
  },
  {
   "cell_type": "markdown",
   "id": "3e23e5f5-0456-4417-9c79-d9b94569ea75",
   "metadata": {},
   "source": [
    "### Array Repetition and Tiling"
   ]
  },
  {
   "cell_type": "code",
   "execution_count": 86,
   "id": "d4679586-fc4b-4c35-a6f3-5593ace4023d",
   "metadata": {},
   "outputs": [
    {
     "name": "stdout",
     "output_type": "stream",
     "text": [
      "[1 1 1 2 2 2 3 3 3 4 4 4]\n"
     ]
    }
   ],
   "source": [
    "#Q18.1: Repeat each element of an array 3 times using np.repeat()\n",
    "repeat_elements = np.array([1,2,3,4])\n",
    "result = np.repeat(repeat_elements,3)\n",
    "print(result)"
   ]
  },
  {
   "cell_type": "code",
   "execution_count": 87,
   "id": "aa11edb8-7d21-43ba-9854-63e7c418b611",
   "metadata": {},
   "outputs": [
    {
     "name": "stdout",
     "output_type": "stream",
     "text": [
      "[1 2 3 4 1 2 3 4]\n"
     ]
    }
   ],
   "source": [
    "#Q18.2: Repeat an entire array 2 times using np.tile()\n",
    "repeat_elements = np.array([1,2,3,4])\n",
    "result = np.tile(repeat_elements,2)\n",
    "print(result)"
   ]
  },
  {
   "cell_type": "code",
   "execution_count": 88,
   "id": "f4328550-1da1-4860-9bd2-a800bb7da22d",
   "metadata": {},
   "outputs": [
    {
     "name": "stdout",
     "output_type": "stream",
     "text": [
      "original array : [1 2 3 4]\n",
      "result : \n",
      "[[1 2 3 4 1 2 3 4 1 2 3 4]\n",
      " [1 2 3 4 1 2 3 4 1 2 3 4]]\n"
     ]
    }
   ],
   "source": [
    "#Q18.3: Repeat a 2D array using np.tile()\n",
    "repeat_elements = np.array([1,2,3,4])\n",
    "result = np.tile(repeat_elements,(2,3))\n",
    "print(f\"original array : {repeat_elements}\")\n",
    "print(f\"result : \\n{result}\")"
   ]
  },
  {
   "cell_type": "code",
   "execution_count": 89,
   "id": "d3e2d86a-0786-44a2-829a-a88517802c87",
   "metadata": {},
   "outputs": [
    {
     "name": "stdout",
     "output_type": "stream",
     "text": [
      "[1 0 1 0 1 0 1 0 1 0]\n"
     ]
    }
   ],
   "source": [
    "#Q18.4: Create a pattern using np.tile()\n",
    "pattern = np.array([1,0])\n",
    "result = np.tile(pattern,5)\n",
    "print(result)"
   ]
  },
  {
   "cell_type": "code",
   "execution_count": 90,
   "id": "e00404f3-6888-4ade-ba4d-3c9ef3299583",
   "metadata": {},
   "outputs": [
    {
     "name": "stdout",
     "output_type": "stream",
     "text": [
      "[1 2 2 3 3 3 4 4 4 4]\n"
     ]
    }
   ],
   "source": [
    "#Q18.5: Repeat elements with different counts using np.repeat()\n",
    "elements = np.array([1,2,3,4])\n",
    "repeats = ([1,2,3,4])\n",
    "result = np.repeat(elements , repeats)\n",
    "print(result)"
   ]
  },
  {
   "cell_type": "markdown",
   "id": "391db0b9-9c29-479f-b14d-dd78b28560d4",
   "metadata": {},
   "source": [
    "### Array Comparison and Logical Operations"
   ]
  },
  {
   "cell_type": "code",
   "execution_count": 91,
   "id": "3a9f1324-0e48-446c-9e91-7244fd669817",
   "metadata": {},
   "outputs": [
    {
     "name": "stdout",
     "output_type": "stream",
     "text": [
      "Array :[1 2 3]\n",
      "Array :[1 2 3]\n",
      "Array :[1 2 4]\n",
      "A equals B: True\n",
      "A equals C: False\n"
     ]
    }
   ],
   "source": [
    "#Q19.1: Compare two arrays for equality using np.array_equal()\n",
    "arr1 = np.array([1,2,3])\n",
    "arr2 = np.array([1,2,3])\n",
    "arr3 =np.array([1,2,4])\n",
    "print(f\"Array :{arr1}\")\n",
    "print(f\"Array :{arr2}\")\n",
    "print(f\"Array :{arr3}\")\n",
    "print(f\"A equals B: {np.array_equal(arr1, arr2)}\")\n",
    "print(f\"A equals C: {np.array_equal(arr1, arr3)}\")"
   ]
  },
  {
   "cell_type": "code",
   "execution_count": 99,
   "id": "d4ec6161-829b-48b5-b89e-929ca185388b",
   "metadata": {},
   "outputs": [
    {
     "name": "stdout",
     "output_type": "stream",
     "text": [
      "True\n"
     ]
    }
   ],
   "source": [
    "#Q19.2: Check if arrays are close using np.allclose()\n",
    "a = np.array([1.0, 2.000001, 3.0])\n",
    "b = np.array([1.0, 2.0, 3.0])\n",
    "print(np.allclose(a, b))"
   ]
  },
  {
   "cell_type": "code",
   "execution_count": 101,
   "id": "73309a0f-cb05-4926-b623-8efb02576b3a",
   "metadata": {},
   "outputs": [
    {
     "name": "stdout",
     "output_type": "stream",
     "text": [
      "[False False  True]\n"
     ]
    }
   ],
   "source": [
    "#Q19.3: Apply logical AND operation between arrays\n",
    "a = np.array([True, False, True])\n",
    "b = np.array([False, False, True])\n",
    "result = np.logical_and(a,b)\n",
    "print(result)"
   ]
  },
  {
   "cell_type": "code",
   "execution_count": 102,
   "id": "569b4fa3-6195-4c26-af0f-edbf4fe07185",
   "metadata": {},
   "outputs": [
    {
     "name": "stdout",
     "output_type": "stream",
     "text": [
      "[ True False  True]\n"
     ]
    }
   ],
   "source": [
    "#Q19.4: Apply logical OR operation between arrays\n",
    "a = np.array([True, False, True])\n",
    "b = np.array([False, False, True])\n",
    "result = np.logical_or(a,b)\n",
    "print(result)"
   ]
  },
  {
   "cell_type": "code",
   "execution_count": 103,
   "id": "894fa6e7-1fc3-4b8e-a53f-2485527c29df",
   "metadata": {},
   "outputs": [
    {
     "name": "stdout",
     "output_type": "stream",
     "text": [
      "[False  True False]\n"
     ]
    }
   ],
   "source": [
    "#Q19.5: Apply logical NOT operation to an array\n",
    "a = np.array([True, False, True])\n",
    "result = np.logical_not(a,b)\n",
    "print(result)"
   ]
  },
  {
   "cell_type": "markdown",
   "id": "b5712c3c-8c99-46d4-9fe0-91925adeb941",
   "metadata": {},
   "source": [
    "###  Array Set Operations"
   ]
  },
  {
   "cell_type": "code",
   "execution_count": 106,
   "id": "11041918-89f3-49af-829e-4da8062de67c",
   "metadata": {},
   "outputs": [
    {
     "name": "stdout",
     "output_type": "stream",
     "text": [
      "Original array: [1 2 2 3 3 3 4]\n",
      "unique elements :[1 2 3 4]\n"
     ]
    }
   ],
   "source": [
    "#Q20.1: Find unique elements in an array using np.unique()\n",
    "a = np.array([1,2,2,3,3,3,4])\n",
    "unique_element = np.unique(a)\n",
    "print(f\"Original array: {a}\")\n",
    "print(f\"unique elements :{unique_element}\")\n"
   ]
  },
  {
   "cell_type": "code",
   "execution_count": 108,
   "id": "0f8e6694-c928-4e11-a4fd-79340f8b7ce9",
   "metadata": {},
   "outputs": [
    {
     "name": "stdout",
     "output_type": "stream",
     "text": [
      "Original array: ([1, 2, 3, 4], [2, 4, 5, 6])\n",
      "Intersection :[2 4]\n"
     ]
    }
   ],
   "source": [
    "#Q20.2: Find the intersection of two arrays using np.intersect1d()\n",
    "a = ([1,2,3,4])\n",
    "b = ([2,4,5,6])\n",
    "intersection = np.intersect1d(a,b)\n",
    "print(f\"Original array: {a,b}\")\n",
    "print(f\"Intersection :{intersection}\")\n"
   ]
  },
  {
   "cell_type": "code",
   "execution_count": 109,
   "id": "a73a72c9-f54d-4091-9ed3-9c34a95f5a25",
   "metadata": {},
   "outputs": [
    {
     "name": "stdout",
     "output_type": "stream",
     "text": [
      "Original array: ([1, 2, 3, 4], [2, 4, 5, 6])\n",
      "union :[1 2 3 4 5 6]\n"
     ]
    }
   ],
   "source": [
    "#Q20.3: Find the union of two arrays using np.union1d()\n",
    "a = ([1,2,3,4])\n",
    "b = ([2,4,5,6])\n",
    "union = np.union1d(a,b)\n",
    "print(f\"Original array: {a,b}\")\n",
    "print(f\"union :{union}\")"
   ]
  },
  {
   "cell_type": "code",
   "execution_count": 110,
   "id": "6f0bdd03-6e25-43ab-8411-23577fe14530",
   "metadata": {},
   "outputs": [
    {
     "name": "stdout",
     "output_type": "stream",
     "text": [
      "Original array: ([1, 2, 3, 4], [2, 4, 5, 6])\n",
      "set difference :[1 3]\n"
     ]
    }
   ],
   "source": [
    "#Q20.4: Find elements in first array but not in second using np.setdiff1d()\n",
    "a = ([1,2,3,4])\n",
    "b = ([2,4,5,6])\n",
    "set_difference =  np.setdiff1d(a,b)\n",
    "print(f\"Original array: {a,b}\")\n",
    "print(f\"set difference :{set_difference}\")"
   ]
  },
  {
   "cell_type": "code",
   "execution_count": 111,
   "id": "d618d6b2-0fab-4042-a570-5a925caccf2a",
   "metadata": {},
   "outputs": [
    {
     "name": "stdout",
     "output_type": "stream",
     "text": [
      "Original array: ([1, 2, 3, 4], [2, 4, 5, 6])\n",
      "symmetric difference :[1 3 5 6]\n"
     ]
    }
   ],
   "source": [
    "#Q20.5: Find the symmetric difference between two arrays using np.setxor1d()\n",
    "a = ([1,2,3,4])\n",
    "b = ([2,4,5,6])\n",
    "symmetric_difference = np.setxor1d(a,b)\n",
    "print(f\"Original array: {a,b}\")\n",
    "print(f\"symmetric difference :{symmetric_difference}\")"
   ]
  },
  {
   "cell_type": "code",
   "execution_count": null,
   "id": "0b5807e5-fd15-4427-bf0d-a6e687cd8166",
   "metadata": {},
   "outputs": [],
   "source": []
  }
 ],
 "metadata": {
  "kernelspec": {
   "display_name": "Python 3 (ipykernel)",
   "language": "python",
   "name": "python3"
  },
  "language_info": {
   "codemirror_mode": {
    "name": "ipython",
    "version": 3
   },
   "file_extension": ".py",
   "mimetype": "text/x-python",
   "name": "python",
   "nbconvert_exporter": "python",
   "pygments_lexer": "ipython3",
   "version": "3.13.5"
  }
 },
 "nbformat": 4,
 "nbformat_minor": 5
}
